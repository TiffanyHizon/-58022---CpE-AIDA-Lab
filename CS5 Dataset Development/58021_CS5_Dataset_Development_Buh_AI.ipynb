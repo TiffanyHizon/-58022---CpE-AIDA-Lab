{
  "nbformat": 4,
  "nbformat_minor": 0,
  "metadata": {
    "colab": {
      "name": "58021_CS5 Dataset Development_Buh-AI.ipynb",
      "provenance": [],
      "collapsed_sections": [
        "S0tTde7vGMRH",
        "v_RkhGvrGPY4",
        "S1bMZnCxIHdP",
        "dw5L8avoIJGY",
        "WkpJ-6uWIjYX",
        "LZZTd1ZyIpov",
        "uXFYIcFhIuie",
        "pgxQcLKKKYMQ",
        "iiBvIAkgZlfC",
        "kWgBy0hnckKk",
        "wAS9WNRdiOlX",
        "jlROKiupnyOr",
        "nQkVaOXtoCFK"
      ],
      "include_colab_link": true
    },
    "kernelspec": {
      "name": "python3",
      "display_name": "Python 3"
    },
    "language_info": {
      "name": "python"
    }
  },
  "cells": [
    {
      "cell_type": "markdown",
      "metadata": {
        "id": "view-in-github",
        "colab_type": "text"
      },
      "source": [
        "<a href=\"https://colab.research.google.com/github/TiffanyHizon/-58022---CpE-AIDA-Lab/blob/main/CS5%20Dataset%20Development/58021_CS5_Dataset_Development_Buh_AI.ipynb\" target=\"_parent\"><img src=\"https://colab.research.google.com/assets/colab-badge.svg\" alt=\"Open In Colab\"/></a>"
      ]
    },
    {
      "cell_type": "markdown",
      "source": [
        "CpE Elective 1 AIDA Fundamentals of AI & Data Analytics\n",
        "\n",
        "Buh-AI\n",
        "\n",
        "\n",
        "\n",
        "*   Hizon, Tiffant Joyce C.\n",
        "*   Imbat, Jezra Mayne A.\n",
        "\n",
        "*   Ebdane, Precious Anne G.\n",
        "*   Joaquin, Marc Christopher C.\n",
        "\n",
        "\n",
        "\n"
      ],
      "metadata": {
        "id": "CsYd12RqCdJg"
      }
    },
    {
      "cell_type": "code",
      "execution_count": 163,
      "metadata": {
        "id": "Zr0tKfc5Bk5G"
      },
      "outputs": [],
      "source": [
        "import pandas as pd\n",
        "import seaborn as sns\n",
        "import matplotlib.pyplot as plt\n",
        "sns.set()"
      ]
    },
    {
      "cell_type": "markdown",
      "source": [
        "## Importing Files"
      ],
      "metadata": {
        "id": "6p_pJbJQDWUq"
      }
    },
    {
      "cell_type": "code",
      "source": [
        "orig_df = pd.read_csv('/content/customer_survey.csv')\n",
        "orig_df"
      ],
      "metadata": {
        "id": "aJNaTuLCD1Xx",
        "colab": {
          "base_uri": "https://localhost:8080/",
          "height": 1000
        },
        "outputId": "8a7c01f9-6c6c-4c39-dd0a-2617a400dbce"
      },
      "execution_count": 26,
      "outputs": [
        {
          "output_type": "execute_result",
          "data": {
            "text/plain": [
              "              Timestamp                 Email Address  \\\n",
              "0    2/21/2022 18:19:40                           NaN   \n",
              "1    2/21/2022 18:21:52                           NaN   \n",
              "2    2/21/2022 19:21:41                           NaN   \n",
              "3    2/21/2022 20:03:49                           NaN   \n",
              "4     2/22/2022 0:32:46                           NaN   \n",
              "..                  ...                           ...   \n",
              "133  3/13/2022 13:50:43          karlbien35@gmail.com   \n",
              "134  3/14/2022 13:10:40     samniel.otayde@depedqc.ph   \n",
              "135   3/15/2022 8:56:26     mjrpanlilio.mnl@gmail.com   \n",
              "136  3/15/2022 16:14:42   calmaangelanicole@gmail.com   \n",
              "137  3/15/2022 19:49:38  shairamagnejadekua@gmail.com   \n",
              "\n",
              "                   Permission to collect personal data  \\\n",
              "0    Yes, I give consent to the collection of my pe...   \n",
              "1    Yes, I give consent to the collection of my pe...   \n",
              "2    Yes, I give consent to the collection of my pe...   \n",
              "3    Yes, I give consent to the collection of my pe...   \n",
              "4    Yes, I give consent to the collection of my pe...   \n",
              "..                                                 ...   \n",
              "133  Yes, I give consent to the collection of my pe...   \n",
              "134  Yes, I give consent to the collection of my pe...   \n",
              "135  Yes, I give consent to the collection of my pe...   \n",
              "136  Yes, I give consent to the collection of my pe...   \n",
              "137  Yes, I give consent to the collection of my pe...   \n",
              "\n",
              "                     Permission to store personal data  \\\n",
              "0    Yes, I give consent to the retention of my per...   \n",
              "1    Yes, I give consent to the retention of my per...   \n",
              "2    Yes, I give consent to the retention of my per...   \n",
              "3    Yes, I give consent to the retention of my per...   \n",
              "4    Yes, I give consent to the retention of my per...   \n",
              "..                                                 ...   \n",
              "133  Yes, I give consent to the retention of my per...   \n",
              "134  Yes, I give consent to the retention of my per...   \n",
              "135  Yes, I give consent to the retention of my per...   \n",
              "136  Yes, I give consent to the retention of my per...   \n",
              "137  Yes, I give consent to the retention of my per...   \n",
              "\n",
              "                    Permission to use my personal data  Age:  \\\n",
              "0    Yes, I give consent to use of my personal data...    21   \n",
              "1    Yes, I give consent to use of my personal data...    21   \n",
              "2    Yes, I give consent to use of my personal data...    20   \n",
              "3    Yes, I give consent to use of my personal data...    23   \n",
              "4    Yes, I give consent to use of my personal data...    34   \n",
              "..                                                 ...   ...   \n",
              "133  Yes, I give consent to use of my personal data...    20   \n",
              "134  Yes, I give consent to use of my personal data...    25   \n",
              "135  Yes, I give consent to use of my personal data...    22   \n",
              "136  Yes, I give consent to use of my personal data...    21   \n",
              "137  Yes, I give consent to use of my personal data...    21   \n",
              "\n",
              "    Height in feet (ft:)            Gender: Where do you currently reside?  \\\n",
              "0                   5.58             LGBTQ+                         Quezon   \n",
              "1                      5             Female                          Rizal   \n",
              "2                    6.5             Female                         Laguna   \n",
              "3                   5.42               Male                          Rizal   \n",
              "4                   5.92             LGBTQ+                          Rizal   \n",
              "..                   ...                ...                            ...   \n",
              "133                 5.83               Male                         Cavite   \n",
              "134                 5.67               Male                          Rizal   \n",
              "135                 5.42               Male                         Laguna   \n",
              "136                 4.92             Female                         Laguna   \n",
              "137                 5.33  Prefer not to say                         Laguna   \n",
              "\n",
              "    When you go to a resort, what are the usual things that you do?  ...  \\\n",
              "0                   Celebration, Family/Friends Outing               ...   \n",
              "1                   Celebration, Family/Friends Outing               ...   \n",
              "2                   Celebration, Family/Friends Outing               ...   \n",
              "3        Gathering, Celebration, Family/Friends Outing               ...   \n",
              "4                                Family/Friends Outing               ...   \n",
              "..                                                 ...               ...   \n",
              "133                                        Celebration               ...   \n",
              "134                   Gathering, Family/Friends Outing               ...   \n",
              "135                              Family/Friends Outing               ...   \n",
              "136                 Celebration, Family/Friends Outing               ...   \n",
              "137      Gathering, Celebration, Family/Friends Outing               ...   \n",
              "\n",
              "    Considering your characteristics and background knowledge in swimming, what height of the pool do you usually swim?  \\\n",
              "0                                                  5ft                                                                    \n",
              "1                                                  5ft                                                                    \n",
              "2                                                  4ft                                                                    \n",
              "3                                                  6ft                                                                    \n",
              "4                                                  5ft                                                                    \n",
              "..                                                 ...                                                                    \n",
              "133                                                6ft                                                                    \n",
              "134                                                5ft                                                                    \n",
              "135                                                6ft                                                                    \n",
              "136                                                6ft                                                                    \n",
              "137                                                5ft                                                                    \n",
              "\n",
              "    Did an accident of drowning occur to you or your companion?  \\\n",
              "0                                                   No            \n",
              "1                                                   No            \n",
              "2                                                   No            \n",
              "3                                                   No            \n",
              "4                                                   No            \n",
              "..                                                 ...            \n",
              "133                                                Yes            \n",
              "134                                                 No            \n",
              "135                                                Yes            \n",
              "136                                                 No            \n",
              "137                                                Yes            \n",
              "\n",
              "    What do you think are the possible reason behind drowning? (Kindly choose more than 1 answer)  \\\n",
              "0    Not Learning How to Swim, Lack of Supervision,...                                              \n",
              "1         Not Learning How to Swim, Presence of Liquor                                              \n",
              "2    Not Learning How to Swim, Lack of Supervision,...                                              \n",
              "3        Not Learning How to Swim, Lack of Supervision                                              \n",
              "4    Not Learning How to Swim, Lack of Supervision,...                                              \n",
              "..                                                 ...                                              \n",
              "133      Not Learning How to Swim, Lack of Supervision                                              \n",
              "134  Not Learning How to Swim, Lack of Supervision,...                                              \n",
              "135  Not Learning How to Swim, Lack of Supervision,...                                              \n",
              "136            Lack of Supervision, Presence of Liquor                                              \n",
              "137  Not Learning How to Swim, Lack of Supervision,...                                              \n",
              "\n",
              "    Are you aware of the resorts guidelines given by the management/resort?  \\\n",
              "0                                                  Yes                        \n",
              "1                                                  Yes                        \n",
              "2                                                  Yes                        \n",
              "3                                                  Yes                        \n",
              "4                                                  Yes                        \n",
              "..                                                 ...                        \n",
              "133                                                Yes                        \n",
              "134                                                Yes                        \n",
              "135                                                Yes                        \n",
              "136                                                Yes                        \n",
              "137                                                Yes                        \n",
              "\n",
              "    If yes, what are the ways of resorts implementation?  \\\n",
              "0                         Terms and Agreement, Posters     \n",
              "1                                              Posters     \n",
              "2                 Terms and Agreement, Pre-orientation     \n",
              "3                                              Posters     \n",
              "4      Terms and Agreement, Posters, Lifeguard on duty     \n",
              "..                                                 ...     \n",
              "133                                            Posters     \n",
              "134                       Terms and Agreement, Posters     \n",
              "135      Terms and Agreement, Pre-orientation, Posters     \n",
              "136                       Terms and Agreement, Posters     \n",
              "137                                            Posters     \n",
              "\n",
              "    Which of the following actions did you take in case an accident of drowning occur?  \\\n",
              "0                 Call the attention of the management                                   \n",
              "1                                Perform emergency aid                                   \n",
              "2                                Perform emergency aid                                   \n",
              "3                 Call the attention of the management                                   \n",
              "4                 Call the attention of the management                                   \n",
              "..                                                 ...                                   \n",
              "133               Call the attention of the management                                   \n",
              "134               Call the attention of the management                                   \n",
              "135                              Perform emergency aid                                   \n",
              "136                             Call medical attention                                   \n",
              "137                              Perform emergency aid                                   \n",
              "\n",
              "    What are your expectations of the resort on handling such cases?  \\\n",
              "0    They have a lifeguard and medical supplies ready.                 \n",
              "1                              To respond immediately                  \n",
              "2    resorts must always be ready to help the guest...                 \n",
              "3    I expect that their personnels would know the ...                 \n",
              "4                    Rescue the person who is drowning                 \n",
              "..                                                 ...                 \n",
              "133                                      well-prepared                 \n",
              "134                 Immediate response to the incident                 \n",
              "135  They must have person in charge in performing ...                 \n",
              "136  They should be vigilant and quick to assess th...                 \n",
              "137  The resort management should be liable on such...                 \n",
              "\n",
              "    Rate from 1 to 5, with 5 as the highest and 1 being the lowest, your disciplinary action towards the safety measures provided by the resort  \\\n",
              "0                                                    4                                                                                            \n",
              "1                                                    4                                                                                            \n",
              "2                                                    4                                                                                            \n",
              "3                                                    4                                                                                            \n",
              "4                                                    5                                                                                            \n",
              "..                                                 ...                                                                                            \n",
              "133                                                  5                                                                                            \n",
              "134                                                  3                                                                                            \n",
              "135                                                  5                                                                                            \n",
              "136                                                  4                                                                                            \n",
              "137                                                  4                                                                                            \n",
              "\n",
              "     From 1 to 5, with 1 as the lowest and 5 as the highest. Rate the effectivity of the resorts implementation of their guidelines  \\\n",
              "0                                                    3                                                                                \n",
              "1                                                    4                                                                                \n",
              "2                                                    3                                                                                \n",
              "3                                                    4                                                                                \n",
              "4                                                    5                                                                                \n",
              "..                                                 ...                                                                                \n",
              "133                                                  3                                                                                \n",
              "134                                                  4                                                                                \n",
              "135                                                  3                                                                                \n",
              "136                                                  3                                                                                \n",
              "137                                                  4                                                                                \n",
              "\n",
              "                              Comments/Suggestions  \n",
              "0                                              NaN  \n",
              "1                                              NaN  \n",
              "2                                              NaN  \n",
              "3                                              NaN  \n",
              "4                                              NaN  \n",
              "..                                             ...  \n",
              "133                                            NaN  \n",
              "134                                            NaN  \n",
              "135                                            NaN  \n",
              "136  None I do hope for the success of your survey  \n",
              "137     None, Thank you and Good luck sa Research!  \n",
              "\n",
              "[138 rows x 21 columns]"
            ],
            "text/html": [
              "\n",
              "  <div id=\"df-372a7cf9-8d06-401a-b61b-a982ce6797ae\">\n",
              "    <div class=\"colab-df-container\">\n",
              "      <div>\n",
              "<style scoped>\n",
              "    .dataframe tbody tr th:only-of-type {\n",
              "        vertical-align: middle;\n",
              "    }\n",
              "\n",
              "    .dataframe tbody tr th {\n",
              "        vertical-align: top;\n",
              "    }\n",
              "\n",
              "    .dataframe thead th {\n",
              "        text-align: right;\n",
              "    }\n",
              "</style>\n",
              "<table border=\"1\" class=\"dataframe\">\n",
              "  <thead>\n",
              "    <tr style=\"text-align: right;\">\n",
              "      <th></th>\n",
              "      <th>Timestamp</th>\n",
              "      <th>Email Address</th>\n",
              "      <th>Permission to collect personal data</th>\n",
              "      <th>Permission to store personal data</th>\n",
              "      <th>Permission to use my personal data</th>\n",
              "      <th>Age:</th>\n",
              "      <th>Height in feet (ft:)</th>\n",
              "      <th>Gender:</th>\n",
              "      <th>Where do you currently reside?</th>\n",
              "      <th>When you go to a resort, what are the usual things that you do?</th>\n",
              "      <th>...</th>\n",
              "      <th>Considering your characteristics and background knowledge in swimming, what height of the pool do you usually swim?</th>\n",
              "      <th>Did an accident of drowning occur to you or your companion?</th>\n",
              "      <th>What do you think are the possible reason behind drowning? (Kindly choose more than 1 answer)</th>\n",
              "      <th>Are you aware of the resorts guidelines given by the management/resort?</th>\n",
              "      <th>If yes, what are the ways of resorts implementation?</th>\n",
              "      <th>Which of the following actions did you take in case an accident of drowning occur?</th>\n",
              "      <th>What are your expectations of the resort on handling such cases?</th>\n",
              "      <th>Rate from 1 to 5, with 5 as the highest and 1 being the lowest, your disciplinary action towards the safety measures provided by the resort</th>\n",
              "      <th>From 1 to 5, with 1 as the lowest and 5 as the highest. Rate the effectivity of the resorts implementation of their guidelines</th>\n",
              "      <th>Comments/Suggestions</th>\n",
              "    </tr>\n",
              "  </thead>\n",
              "  <tbody>\n",
              "    <tr>\n",
              "      <th>0</th>\n",
              "      <td>2/21/2022 18:19:40</td>\n",
              "      <td>NaN</td>\n",
              "      <td>Yes, I give consent to the collection of my pe...</td>\n",
              "      <td>Yes, I give consent to the retention of my per...</td>\n",
              "      <td>Yes, I give consent to use of my personal data...</td>\n",
              "      <td>21</td>\n",
              "      <td>5.58</td>\n",
              "      <td>LGBTQ+</td>\n",
              "      <td>Quezon</td>\n",
              "      <td>Celebration, Family/Friends Outing</td>\n",
              "      <td>...</td>\n",
              "      <td>5ft</td>\n",
              "      <td>No</td>\n",
              "      <td>Not Learning How to Swim, Lack of Supervision,...</td>\n",
              "      <td>Yes</td>\n",
              "      <td>Terms and Agreement, Posters</td>\n",
              "      <td>Call the attention of the management</td>\n",
              "      <td>They have a lifeguard and medical supplies ready.</td>\n",
              "      <td>4</td>\n",
              "      <td>3</td>\n",
              "      <td>NaN</td>\n",
              "    </tr>\n",
              "    <tr>\n",
              "      <th>1</th>\n",
              "      <td>2/21/2022 18:21:52</td>\n",
              "      <td>NaN</td>\n",
              "      <td>Yes, I give consent to the collection of my pe...</td>\n",
              "      <td>Yes, I give consent to the retention of my per...</td>\n",
              "      <td>Yes, I give consent to use of my personal data...</td>\n",
              "      <td>21</td>\n",
              "      <td>5</td>\n",
              "      <td>Female</td>\n",
              "      <td>Rizal</td>\n",
              "      <td>Celebration, Family/Friends Outing</td>\n",
              "      <td>...</td>\n",
              "      <td>5ft</td>\n",
              "      <td>No</td>\n",
              "      <td>Not Learning How to Swim, Presence of Liquor</td>\n",
              "      <td>Yes</td>\n",
              "      <td>Posters</td>\n",
              "      <td>Perform emergency aid</td>\n",
              "      <td>To respond immediately</td>\n",
              "      <td>4</td>\n",
              "      <td>4</td>\n",
              "      <td>NaN</td>\n",
              "    </tr>\n",
              "    <tr>\n",
              "      <th>2</th>\n",
              "      <td>2/21/2022 19:21:41</td>\n",
              "      <td>NaN</td>\n",
              "      <td>Yes, I give consent to the collection of my pe...</td>\n",
              "      <td>Yes, I give consent to the retention of my per...</td>\n",
              "      <td>Yes, I give consent to use of my personal data...</td>\n",
              "      <td>20</td>\n",
              "      <td>6.5</td>\n",
              "      <td>Female</td>\n",
              "      <td>Laguna</td>\n",
              "      <td>Celebration, Family/Friends Outing</td>\n",
              "      <td>...</td>\n",
              "      <td>4ft</td>\n",
              "      <td>No</td>\n",
              "      <td>Not Learning How to Swim, Lack of Supervision,...</td>\n",
              "      <td>Yes</td>\n",
              "      <td>Terms and Agreement, Pre-orientation</td>\n",
              "      <td>Perform emergency aid</td>\n",
              "      <td>resorts must always be ready to help the guest...</td>\n",
              "      <td>4</td>\n",
              "      <td>3</td>\n",
              "      <td>NaN</td>\n",
              "    </tr>\n",
              "    <tr>\n",
              "      <th>3</th>\n",
              "      <td>2/21/2022 20:03:49</td>\n",
              "      <td>NaN</td>\n",
              "      <td>Yes, I give consent to the collection of my pe...</td>\n",
              "      <td>Yes, I give consent to the retention of my per...</td>\n",
              "      <td>Yes, I give consent to use of my personal data...</td>\n",
              "      <td>23</td>\n",
              "      <td>5.42</td>\n",
              "      <td>Male</td>\n",
              "      <td>Rizal</td>\n",
              "      <td>Gathering, Celebration, Family/Friends Outing</td>\n",
              "      <td>...</td>\n",
              "      <td>6ft</td>\n",
              "      <td>No</td>\n",
              "      <td>Not Learning How to Swim, Lack of Supervision</td>\n",
              "      <td>Yes</td>\n",
              "      <td>Posters</td>\n",
              "      <td>Call the attention of the management</td>\n",
              "      <td>I expect that their personnels would know the ...</td>\n",
              "      <td>4</td>\n",
              "      <td>4</td>\n",
              "      <td>NaN</td>\n",
              "    </tr>\n",
              "    <tr>\n",
              "      <th>4</th>\n",
              "      <td>2/22/2022 0:32:46</td>\n",
              "      <td>NaN</td>\n",
              "      <td>Yes, I give consent to the collection of my pe...</td>\n",
              "      <td>Yes, I give consent to the retention of my per...</td>\n",
              "      <td>Yes, I give consent to use of my personal data...</td>\n",
              "      <td>34</td>\n",
              "      <td>5.92</td>\n",
              "      <td>LGBTQ+</td>\n",
              "      <td>Rizal</td>\n",
              "      <td>Family/Friends Outing</td>\n",
              "      <td>...</td>\n",
              "      <td>5ft</td>\n",
              "      <td>No</td>\n",
              "      <td>Not Learning How to Swim, Lack of Supervision,...</td>\n",
              "      <td>Yes</td>\n",
              "      <td>Terms and Agreement, Posters, Lifeguard on duty</td>\n",
              "      <td>Call the attention of the management</td>\n",
              "      <td>Rescue the person who is drowning</td>\n",
              "      <td>5</td>\n",
              "      <td>5</td>\n",
              "      <td>NaN</td>\n",
              "    </tr>\n",
              "    <tr>\n",
              "      <th>...</th>\n",
              "      <td>...</td>\n",
              "      <td>...</td>\n",
              "      <td>...</td>\n",
              "      <td>...</td>\n",
              "      <td>...</td>\n",
              "      <td>...</td>\n",
              "      <td>...</td>\n",
              "      <td>...</td>\n",
              "      <td>...</td>\n",
              "      <td>...</td>\n",
              "      <td>...</td>\n",
              "      <td>...</td>\n",
              "      <td>...</td>\n",
              "      <td>...</td>\n",
              "      <td>...</td>\n",
              "      <td>...</td>\n",
              "      <td>...</td>\n",
              "      <td>...</td>\n",
              "      <td>...</td>\n",
              "      <td>...</td>\n",
              "      <td>...</td>\n",
              "    </tr>\n",
              "    <tr>\n",
              "      <th>133</th>\n",
              "      <td>3/13/2022 13:50:43</td>\n",
              "      <td>karlbien35@gmail.com</td>\n",
              "      <td>Yes, I give consent to the collection of my pe...</td>\n",
              "      <td>Yes, I give consent to the retention of my per...</td>\n",
              "      <td>Yes, I give consent to use of my personal data...</td>\n",
              "      <td>20</td>\n",
              "      <td>5.83</td>\n",
              "      <td>Male</td>\n",
              "      <td>Cavite</td>\n",
              "      <td>Celebration</td>\n",
              "      <td>...</td>\n",
              "      <td>6ft</td>\n",
              "      <td>Yes</td>\n",
              "      <td>Not Learning How to Swim, Lack of Supervision</td>\n",
              "      <td>Yes</td>\n",
              "      <td>Posters</td>\n",
              "      <td>Call the attention of the management</td>\n",
              "      <td>well-prepared</td>\n",
              "      <td>5</td>\n",
              "      <td>3</td>\n",
              "      <td>NaN</td>\n",
              "    </tr>\n",
              "    <tr>\n",
              "      <th>134</th>\n",
              "      <td>3/14/2022 13:10:40</td>\n",
              "      <td>samniel.otayde@depedqc.ph</td>\n",
              "      <td>Yes, I give consent to the collection of my pe...</td>\n",
              "      <td>Yes, I give consent to the retention of my per...</td>\n",
              "      <td>Yes, I give consent to use of my personal data...</td>\n",
              "      <td>25</td>\n",
              "      <td>5.67</td>\n",
              "      <td>Male</td>\n",
              "      <td>Rizal</td>\n",
              "      <td>Gathering, Family/Friends Outing</td>\n",
              "      <td>...</td>\n",
              "      <td>5ft</td>\n",
              "      <td>No</td>\n",
              "      <td>Not Learning How to Swim, Lack of Supervision,...</td>\n",
              "      <td>Yes</td>\n",
              "      <td>Terms and Agreement, Posters</td>\n",
              "      <td>Call the attention of the management</td>\n",
              "      <td>Immediate response to the incident</td>\n",
              "      <td>3</td>\n",
              "      <td>4</td>\n",
              "      <td>NaN</td>\n",
              "    </tr>\n",
              "    <tr>\n",
              "      <th>135</th>\n",
              "      <td>3/15/2022 8:56:26</td>\n",
              "      <td>mjrpanlilio.mnl@gmail.com</td>\n",
              "      <td>Yes, I give consent to the collection of my pe...</td>\n",
              "      <td>Yes, I give consent to the retention of my per...</td>\n",
              "      <td>Yes, I give consent to use of my personal data...</td>\n",
              "      <td>22</td>\n",
              "      <td>5.42</td>\n",
              "      <td>Male</td>\n",
              "      <td>Laguna</td>\n",
              "      <td>Family/Friends Outing</td>\n",
              "      <td>...</td>\n",
              "      <td>6ft</td>\n",
              "      <td>Yes</td>\n",
              "      <td>Not Learning How to Swim, Lack of Supervision,...</td>\n",
              "      <td>Yes</td>\n",
              "      <td>Terms and Agreement, Pre-orientation, Posters</td>\n",
              "      <td>Perform emergency aid</td>\n",
              "      <td>They must have person in charge in performing ...</td>\n",
              "      <td>5</td>\n",
              "      <td>3</td>\n",
              "      <td>NaN</td>\n",
              "    </tr>\n",
              "    <tr>\n",
              "      <th>136</th>\n",
              "      <td>3/15/2022 16:14:42</td>\n",
              "      <td>calmaangelanicole@gmail.com</td>\n",
              "      <td>Yes, I give consent to the collection of my pe...</td>\n",
              "      <td>Yes, I give consent to the retention of my per...</td>\n",
              "      <td>Yes, I give consent to use of my personal data...</td>\n",
              "      <td>21</td>\n",
              "      <td>4.92</td>\n",
              "      <td>Female</td>\n",
              "      <td>Laguna</td>\n",
              "      <td>Celebration, Family/Friends Outing</td>\n",
              "      <td>...</td>\n",
              "      <td>6ft</td>\n",
              "      <td>No</td>\n",
              "      <td>Lack of Supervision, Presence of Liquor</td>\n",
              "      <td>Yes</td>\n",
              "      <td>Terms and Agreement, Posters</td>\n",
              "      <td>Call medical attention</td>\n",
              "      <td>They should be vigilant and quick to assess th...</td>\n",
              "      <td>4</td>\n",
              "      <td>3</td>\n",
              "      <td>None I do hope for the success of your survey</td>\n",
              "    </tr>\n",
              "    <tr>\n",
              "      <th>137</th>\n",
              "      <td>3/15/2022 19:49:38</td>\n",
              "      <td>shairamagnejadekua@gmail.com</td>\n",
              "      <td>Yes, I give consent to the collection of my pe...</td>\n",
              "      <td>Yes, I give consent to the retention of my per...</td>\n",
              "      <td>Yes, I give consent to use of my personal data...</td>\n",
              "      <td>21</td>\n",
              "      <td>5.33</td>\n",
              "      <td>Prefer not to say</td>\n",
              "      <td>Laguna</td>\n",
              "      <td>Gathering, Celebration, Family/Friends Outing</td>\n",
              "      <td>...</td>\n",
              "      <td>5ft</td>\n",
              "      <td>Yes</td>\n",
              "      <td>Not Learning How to Swim, Lack of Supervision,...</td>\n",
              "      <td>Yes</td>\n",
              "      <td>Posters</td>\n",
              "      <td>Perform emergency aid</td>\n",
              "      <td>The resort management should be liable on such...</td>\n",
              "      <td>4</td>\n",
              "      <td>4</td>\n",
              "      <td>None, Thank you and Good luck sa Research!</td>\n",
              "    </tr>\n",
              "  </tbody>\n",
              "</table>\n",
              "<p>138 rows × 21 columns</p>\n",
              "</div>\n",
              "      <button class=\"colab-df-convert\" onclick=\"convertToInteractive('df-372a7cf9-8d06-401a-b61b-a982ce6797ae')\"\n",
              "              title=\"Convert this dataframe to an interactive table.\"\n",
              "              style=\"display:none;\">\n",
              "        \n",
              "  <svg xmlns=\"http://www.w3.org/2000/svg\" height=\"24px\"viewBox=\"0 0 24 24\"\n",
              "       width=\"24px\">\n",
              "    <path d=\"M0 0h24v24H0V0z\" fill=\"none\"/>\n",
              "    <path d=\"M18.56 5.44l.94 2.06.94-2.06 2.06-.94-2.06-.94-.94-2.06-.94 2.06-2.06.94zm-11 1L8.5 8.5l.94-2.06 2.06-.94-2.06-.94L8.5 2.5l-.94 2.06-2.06.94zm10 10l.94 2.06.94-2.06 2.06-.94-2.06-.94-.94-2.06-.94 2.06-2.06.94z\"/><path d=\"M17.41 7.96l-1.37-1.37c-.4-.4-.92-.59-1.43-.59-.52 0-1.04.2-1.43.59L10.3 9.45l-7.72 7.72c-.78.78-.78 2.05 0 2.83L4 21.41c.39.39.9.59 1.41.59.51 0 1.02-.2 1.41-.59l7.78-7.78 2.81-2.81c.8-.78.8-2.07 0-2.86zM5.41 20L4 18.59l7.72-7.72 1.47 1.35L5.41 20z\"/>\n",
              "  </svg>\n",
              "      </button>\n",
              "      \n",
              "  <style>\n",
              "    .colab-df-container {\n",
              "      display:flex;\n",
              "      flex-wrap:wrap;\n",
              "      gap: 12px;\n",
              "    }\n",
              "\n",
              "    .colab-df-convert {\n",
              "      background-color: #E8F0FE;\n",
              "      border: none;\n",
              "      border-radius: 50%;\n",
              "      cursor: pointer;\n",
              "      display: none;\n",
              "      fill: #1967D2;\n",
              "      height: 32px;\n",
              "      padding: 0 0 0 0;\n",
              "      width: 32px;\n",
              "    }\n",
              "\n",
              "    .colab-df-convert:hover {\n",
              "      background-color: #E2EBFA;\n",
              "      box-shadow: 0px 1px 2px rgba(60, 64, 67, 0.3), 0px 1px 3px 1px rgba(60, 64, 67, 0.15);\n",
              "      fill: #174EA6;\n",
              "    }\n",
              "\n",
              "    [theme=dark] .colab-df-convert {\n",
              "      background-color: #3B4455;\n",
              "      fill: #D2E3FC;\n",
              "    }\n",
              "\n",
              "    [theme=dark] .colab-df-convert:hover {\n",
              "      background-color: #434B5C;\n",
              "      box-shadow: 0px 1px 3px 1px rgba(0, 0, 0, 0.15);\n",
              "      filter: drop-shadow(0px 1px 2px rgba(0, 0, 0, 0.3));\n",
              "      fill: #FFFFFF;\n",
              "    }\n",
              "  </style>\n",
              "\n",
              "      <script>\n",
              "        const buttonEl =\n",
              "          document.querySelector('#df-372a7cf9-8d06-401a-b61b-a982ce6797ae button.colab-df-convert');\n",
              "        buttonEl.style.display =\n",
              "          google.colab.kernel.accessAllowed ? 'block' : 'none';\n",
              "\n",
              "        async function convertToInteractive(key) {\n",
              "          const element = document.querySelector('#df-372a7cf9-8d06-401a-b61b-a982ce6797ae');\n",
              "          const dataTable =\n",
              "            await google.colab.kernel.invokeFunction('convertToInteractive',\n",
              "                                                     [key], {});\n",
              "          if (!dataTable) return;\n",
              "\n",
              "          const docLinkHtml = 'Like what you see? Visit the ' +\n",
              "            '<a target=\"_blank\" href=https://colab.research.google.com/notebooks/data_table.ipynb>data table notebook</a>'\n",
              "            + ' to learn more about interactive tables.';\n",
              "          element.innerHTML = '';\n",
              "          dataTable['output_type'] = 'display_data';\n",
              "          await google.colab.output.renderOutput(dataTable, element);\n",
              "          const docLink = document.createElement('div');\n",
              "          docLink.innerHTML = docLinkHtml;\n",
              "          element.appendChild(docLink);\n",
              "        }\n",
              "      </script>\n",
              "    </div>\n",
              "  </div>\n",
              "  "
            ]
          },
          "metadata": {},
          "execution_count": 26
        }
      ]
    },
    {
      "cell_type": "code",
      "source": [
        "response_DF = orig_df.copy()\n",
        "response_DF.head(10)"
      ],
      "metadata": {
        "colab": {
          "base_uri": "https://localhost:8080/",
          "height": 1000
        },
        "id": "HUpDVR4AbRj2",
        "outputId": "bd44cfd7-4dee-4e80-890a-07a20ee67107"
      },
      "execution_count": 27,
      "outputs": [
        {
          "output_type": "execute_result",
          "data": {
            "text/plain": [
              "            Timestamp                         Email Address  \\\n",
              "0  2/21/2022 18:19:40                                   NaN   \n",
              "1  2/21/2022 18:21:52                                   NaN   \n",
              "2  2/21/2022 19:21:41                                   NaN   \n",
              "3  2/21/2022 20:03:49                                   NaN   \n",
              "4   2/22/2022 0:32:46                                   NaN   \n",
              "5   2/22/2022 1:12:41                                   NaN   \n",
              "6   2/22/2022 8:27:40                                   NaN   \n",
              "7  2/22/2022 13:34:12                  jmjagapito@gmail.com   \n",
              "8  2/22/2022 13:48:26     daryll.john.medina@adamson.edu.ph   \n",
              "9  2/22/2022 13:58:57  angelica.mhay.salazar@adamson.edu.ph   \n",
              "\n",
              "                 Permission to collect personal data  \\\n",
              "0  Yes, I give consent to the collection of my pe...   \n",
              "1  Yes, I give consent to the collection of my pe...   \n",
              "2  Yes, I give consent to the collection of my pe...   \n",
              "3  Yes, I give consent to the collection of my pe...   \n",
              "4  Yes, I give consent to the collection of my pe...   \n",
              "5  Yes, I give consent to the collection of my pe...   \n",
              "6  Yes, I give consent to the collection of my pe...   \n",
              "7  Yes, I give consent to the collection of my pe...   \n",
              "8  Yes, I give consent to the collection of my pe...   \n",
              "9  Yes, I give consent to the collection of my pe...   \n",
              "\n",
              "                   Permission to store personal data  \\\n",
              "0  Yes, I give consent to the retention of my per...   \n",
              "1  Yes, I give consent to the retention of my per...   \n",
              "2  Yes, I give consent to the retention of my per...   \n",
              "3  Yes, I give consent to the retention of my per...   \n",
              "4  Yes, I give consent to the retention of my per...   \n",
              "5  Yes, I give consent to the retention of my per...   \n",
              "6  Yes, I give consent to the retention of my per...   \n",
              "7  Yes, I give consent to the retention of my per...   \n",
              "8  Yes, I give consent to the retention of my per...   \n",
              "9  Yes, I give consent to the retention of my per...   \n",
              "\n",
              "                  Permission to use my personal data  Age:  \\\n",
              "0  Yes, I give consent to use of my personal data...    21   \n",
              "1  Yes, I give consent to use of my personal data...    21   \n",
              "2  Yes, I give consent to use of my personal data...    20   \n",
              "3  Yes, I give consent to use of my personal data...    23   \n",
              "4  Yes, I give consent to use of my personal data...    34   \n",
              "5  Yes, I give consent to use of my personal data...    35   \n",
              "6  Yes, I give consent to use of my personal data...    42   \n",
              "7  Yes, I give consent to use of my personal data...    22   \n",
              "8  Yes, I give consent to use of my personal data...    22   \n",
              "9  Yes, I give consent to use of my personal data...    22   \n",
              "\n",
              "  Height in feet (ft:) Gender: Where do you currently reside?  \\\n",
              "0                 5.58  LGBTQ+                         Quezon   \n",
              "1                    5  Female                          Rizal   \n",
              "2                  6.5  Female                         Laguna   \n",
              "3                 5.42    Male                          Rizal   \n",
              "4                 5.92  LGBTQ+                          Rizal   \n",
              "5                    5  Female                         Laguna   \n",
              "6                 5.58    Male                         Laguna   \n",
              "7                 4.92  Female                         Cavite   \n",
              "8                 5.42    Male                         Cavite   \n",
              "9                 5.17  Female                         Cavite   \n",
              "\n",
              "  When you go to a resort, what are the usual things that you do?  ...  \\\n",
              "0                 Celebration, Family/Friends Outing               ...   \n",
              "1                 Celebration, Family/Friends Outing               ...   \n",
              "2                 Celebration, Family/Friends Outing               ...   \n",
              "3      Gathering, Celebration, Family/Friends Outing               ...   \n",
              "4                              Family/Friends Outing               ...   \n",
              "5                              Family/Friends Outing               ...   \n",
              "6                              Family/Friends Outing               ...   \n",
              "7                 Celebration, Family/Friends Outing               ...   \n",
              "8                              Family/Friends Outing               ...   \n",
              "9      Gathering, Celebration, Family/Friends Outing               ...   \n",
              "\n",
              "  Considering your characteristics and background knowledge in swimming, what height of the pool do you usually swim?  \\\n",
              "0                                                5ft                                                                    \n",
              "1                                                5ft                                                                    \n",
              "2                                                4ft                                                                    \n",
              "3                                                6ft                                                                    \n",
              "4                                                5ft                                                                    \n",
              "5                                                8ft                                                                    \n",
              "6                                                6ft                                                                    \n",
              "7                                                4ft                                                                    \n",
              "8                                                6ft                                                                    \n",
              "9                                                4ft                                                                    \n",
              "\n",
              "  Did an accident of drowning occur to you or your companion?  \\\n",
              "0                                                 No            \n",
              "1                                                 No            \n",
              "2                                                 No            \n",
              "3                                                 No            \n",
              "4                                                 No            \n",
              "5                                                 No            \n",
              "6                                                 No            \n",
              "7                                                Yes            \n",
              "8                                                Yes            \n",
              "9                                                 No            \n",
              "\n",
              "  What do you think are the possible reason behind drowning? (Kindly choose more than 1 answer)  \\\n",
              "0  Not Learning How to Swim, Lack of Supervision,...                                              \n",
              "1       Not Learning How to Swim, Presence of Liquor                                              \n",
              "2  Not Learning How to Swim, Lack of Supervision,...                                              \n",
              "3      Not Learning How to Swim, Lack of Supervision                                              \n",
              "4  Not Learning How to Swim, Lack of Supervision,...                                              \n",
              "5              Presence of Liquor, Improper Security                                              \n",
              "6        Not Learning How to Swim, Improper Security                                              \n",
              "7      Not Learning How to Swim, Lack of Supervision                                              \n",
              "8             Lack of Supervision, Improper Security                                              \n",
              "9      Not Learning How to Swim, Lack of Supervision                                              \n",
              "\n",
              "  Are you aware of the resorts guidelines given by the management/resort?  \\\n",
              "0                                                Yes                        \n",
              "1                                                Yes                        \n",
              "2                                                Yes                        \n",
              "3                                                Yes                        \n",
              "4                                                Yes                        \n",
              "5                                                Yes                        \n",
              "6                                                Yes                        \n",
              "7                                                Yes                        \n",
              "8                                                Yes                        \n",
              "9                                                Yes                        \n",
              "\n",
              "  If yes, what are the ways of resorts implementation?  \\\n",
              "0                       Terms and Agreement, Posters     \n",
              "1                                            Posters     \n",
              "2               Terms and Agreement, Pre-orientation     \n",
              "3                                            Posters     \n",
              "4    Terms and Agreement, Posters, Lifeguard on duty     \n",
              "5                                Terms and Agreement     \n",
              "6                           Pre-orientation, Posters     \n",
              "7                                    Pre-orientation     \n",
              "8                                            Posters     \n",
              "9                                Terms and Agreement     \n",
              "\n",
              "  Which of the following actions did you take in case an accident of drowning occur?  \\\n",
              "0               Call the attention of the management                                   \n",
              "1                              Perform emergency aid                                   \n",
              "2                              Perform emergency aid                                   \n",
              "3               Call the attention of the management                                   \n",
              "4               Call the attention of the management                                   \n",
              "5                              Perform emergency aid                                   \n",
              "6                              Perform emergency aid                                   \n",
              "7                              Perform emergency aid                                   \n",
              "8                              Perform emergency aid                                   \n",
              "9                              Perform emergency aid                                   \n",
              "\n",
              "  What are your expectations of the resort on handling such cases?  \\\n",
              "0  They have a lifeguard and medical supplies ready.                 \n",
              "1                            To respond immediately                  \n",
              "2  resorts must always be ready to help the guest...                 \n",
              "3  I expect that their personnels would know the ...                 \n",
              "4                  Rescue the person who is drowning                 \n",
              "5   Give there attention on how to help there guest.                 \n",
              "6                                 immediate response                 \n",
              "7  They should tighten safety and security at all...                 \n",
              "8                                        Legal Basis                 \n",
              "9               Proper compliance and responsibility                 \n",
              "\n",
              "  Rate from 1 to 5, with 5 as the highest and 1 being the lowest, your disciplinary action towards the safety measures provided by the resort  \\\n",
              "0                                                  4                                                                                            \n",
              "1                                                  4                                                                                            \n",
              "2                                                  4                                                                                            \n",
              "3                                                  4                                                                                            \n",
              "4                                                  5                                                                                            \n",
              "5                                                  5                                                                                            \n",
              "6                                                  5                                                                                            \n",
              "7                                                  4                                                                                            \n",
              "8                                                  3                                                                                            \n",
              "9                                                  5                                                                                            \n",
              "\n",
              "   From 1 to 5, with 1 as the lowest and 5 as the highest. Rate the effectivity of the resorts implementation of their guidelines  \\\n",
              "0                                                  3                                                                                \n",
              "1                                                  4                                                                                \n",
              "2                                                  3                                                                                \n",
              "3                                                  4                                                                                \n",
              "4                                                  5                                                                                \n",
              "5                                                  5                                                                                \n",
              "6                                                  5                                                                                \n",
              "7                                                  3                                                                                \n",
              "8                                                  3                                                                                \n",
              "9                                                  4                                                                                \n",
              "\n",
              "                                Comments/Suggestions  \n",
              "0                                                NaN  \n",
              "1                                                NaN  \n",
              "2                                                NaN  \n",
              "3                                                NaN  \n",
              "4                                                NaN  \n",
              "5                                        Godbless ❤️  \n",
              "6  All the answers i made are based in my experie...  \n",
              "7                                                NaN  \n",
              "8                                                NaN  \n",
              "9                                                NaN  \n",
              "\n",
              "[10 rows x 21 columns]"
            ],
            "text/html": [
              "\n",
              "  <div id=\"df-dcb1f564-6133-486e-885a-54cd39325ad5\">\n",
              "    <div class=\"colab-df-container\">\n",
              "      <div>\n",
              "<style scoped>\n",
              "    .dataframe tbody tr th:only-of-type {\n",
              "        vertical-align: middle;\n",
              "    }\n",
              "\n",
              "    .dataframe tbody tr th {\n",
              "        vertical-align: top;\n",
              "    }\n",
              "\n",
              "    .dataframe thead th {\n",
              "        text-align: right;\n",
              "    }\n",
              "</style>\n",
              "<table border=\"1\" class=\"dataframe\">\n",
              "  <thead>\n",
              "    <tr style=\"text-align: right;\">\n",
              "      <th></th>\n",
              "      <th>Timestamp</th>\n",
              "      <th>Email Address</th>\n",
              "      <th>Permission to collect personal data</th>\n",
              "      <th>Permission to store personal data</th>\n",
              "      <th>Permission to use my personal data</th>\n",
              "      <th>Age:</th>\n",
              "      <th>Height in feet (ft:)</th>\n",
              "      <th>Gender:</th>\n",
              "      <th>Where do you currently reside?</th>\n",
              "      <th>When you go to a resort, what are the usual things that you do?</th>\n",
              "      <th>...</th>\n",
              "      <th>Considering your characteristics and background knowledge in swimming, what height of the pool do you usually swim?</th>\n",
              "      <th>Did an accident of drowning occur to you or your companion?</th>\n",
              "      <th>What do you think are the possible reason behind drowning? (Kindly choose more than 1 answer)</th>\n",
              "      <th>Are you aware of the resorts guidelines given by the management/resort?</th>\n",
              "      <th>If yes, what are the ways of resorts implementation?</th>\n",
              "      <th>Which of the following actions did you take in case an accident of drowning occur?</th>\n",
              "      <th>What are your expectations of the resort on handling such cases?</th>\n",
              "      <th>Rate from 1 to 5, with 5 as the highest and 1 being the lowest, your disciplinary action towards the safety measures provided by the resort</th>\n",
              "      <th>From 1 to 5, with 1 as the lowest and 5 as the highest. Rate the effectivity of the resorts implementation of their guidelines</th>\n",
              "      <th>Comments/Suggestions</th>\n",
              "    </tr>\n",
              "  </thead>\n",
              "  <tbody>\n",
              "    <tr>\n",
              "      <th>0</th>\n",
              "      <td>2/21/2022 18:19:40</td>\n",
              "      <td>NaN</td>\n",
              "      <td>Yes, I give consent to the collection of my pe...</td>\n",
              "      <td>Yes, I give consent to the retention of my per...</td>\n",
              "      <td>Yes, I give consent to use of my personal data...</td>\n",
              "      <td>21</td>\n",
              "      <td>5.58</td>\n",
              "      <td>LGBTQ+</td>\n",
              "      <td>Quezon</td>\n",
              "      <td>Celebration, Family/Friends Outing</td>\n",
              "      <td>...</td>\n",
              "      <td>5ft</td>\n",
              "      <td>No</td>\n",
              "      <td>Not Learning How to Swim, Lack of Supervision,...</td>\n",
              "      <td>Yes</td>\n",
              "      <td>Terms and Agreement, Posters</td>\n",
              "      <td>Call the attention of the management</td>\n",
              "      <td>They have a lifeguard and medical supplies ready.</td>\n",
              "      <td>4</td>\n",
              "      <td>3</td>\n",
              "      <td>NaN</td>\n",
              "    </tr>\n",
              "    <tr>\n",
              "      <th>1</th>\n",
              "      <td>2/21/2022 18:21:52</td>\n",
              "      <td>NaN</td>\n",
              "      <td>Yes, I give consent to the collection of my pe...</td>\n",
              "      <td>Yes, I give consent to the retention of my per...</td>\n",
              "      <td>Yes, I give consent to use of my personal data...</td>\n",
              "      <td>21</td>\n",
              "      <td>5</td>\n",
              "      <td>Female</td>\n",
              "      <td>Rizal</td>\n",
              "      <td>Celebration, Family/Friends Outing</td>\n",
              "      <td>...</td>\n",
              "      <td>5ft</td>\n",
              "      <td>No</td>\n",
              "      <td>Not Learning How to Swim, Presence of Liquor</td>\n",
              "      <td>Yes</td>\n",
              "      <td>Posters</td>\n",
              "      <td>Perform emergency aid</td>\n",
              "      <td>To respond immediately</td>\n",
              "      <td>4</td>\n",
              "      <td>4</td>\n",
              "      <td>NaN</td>\n",
              "    </tr>\n",
              "    <tr>\n",
              "      <th>2</th>\n",
              "      <td>2/21/2022 19:21:41</td>\n",
              "      <td>NaN</td>\n",
              "      <td>Yes, I give consent to the collection of my pe...</td>\n",
              "      <td>Yes, I give consent to the retention of my per...</td>\n",
              "      <td>Yes, I give consent to use of my personal data...</td>\n",
              "      <td>20</td>\n",
              "      <td>6.5</td>\n",
              "      <td>Female</td>\n",
              "      <td>Laguna</td>\n",
              "      <td>Celebration, Family/Friends Outing</td>\n",
              "      <td>...</td>\n",
              "      <td>4ft</td>\n",
              "      <td>No</td>\n",
              "      <td>Not Learning How to Swim, Lack of Supervision,...</td>\n",
              "      <td>Yes</td>\n",
              "      <td>Terms and Agreement, Pre-orientation</td>\n",
              "      <td>Perform emergency aid</td>\n",
              "      <td>resorts must always be ready to help the guest...</td>\n",
              "      <td>4</td>\n",
              "      <td>3</td>\n",
              "      <td>NaN</td>\n",
              "    </tr>\n",
              "    <tr>\n",
              "      <th>3</th>\n",
              "      <td>2/21/2022 20:03:49</td>\n",
              "      <td>NaN</td>\n",
              "      <td>Yes, I give consent to the collection of my pe...</td>\n",
              "      <td>Yes, I give consent to the retention of my per...</td>\n",
              "      <td>Yes, I give consent to use of my personal data...</td>\n",
              "      <td>23</td>\n",
              "      <td>5.42</td>\n",
              "      <td>Male</td>\n",
              "      <td>Rizal</td>\n",
              "      <td>Gathering, Celebration, Family/Friends Outing</td>\n",
              "      <td>...</td>\n",
              "      <td>6ft</td>\n",
              "      <td>No</td>\n",
              "      <td>Not Learning How to Swim, Lack of Supervision</td>\n",
              "      <td>Yes</td>\n",
              "      <td>Posters</td>\n",
              "      <td>Call the attention of the management</td>\n",
              "      <td>I expect that their personnels would know the ...</td>\n",
              "      <td>4</td>\n",
              "      <td>4</td>\n",
              "      <td>NaN</td>\n",
              "    </tr>\n",
              "    <tr>\n",
              "      <th>4</th>\n",
              "      <td>2/22/2022 0:32:46</td>\n",
              "      <td>NaN</td>\n",
              "      <td>Yes, I give consent to the collection of my pe...</td>\n",
              "      <td>Yes, I give consent to the retention of my per...</td>\n",
              "      <td>Yes, I give consent to use of my personal data...</td>\n",
              "      <td>34</td>\n",
              "      <td>5.92</td>\n",
              "      <td>LGBTQ+</td>\n",
              "      <td>Rizal</td>\n",
              "      <td>Family/Friends Outing</td>\n",
              "      <td>...</td>\n",
              "      <td>5ft</td>\n",
              "      <td>No</td>\n",
              "      <td>Not Learning How to Swim, Lack of Supervision,...</td>\n",
              "      <td>Yes</td>\n",
              "      <td>Terms and Agreement, Posters, Lifeguard on duty</td>\n",
              "      <td>Call the attention of the management</td>\n",
              "      <td>Rescue the person who is drowning</td>\n",
              "      <td>5</td>\n",
              "      <td>5</td>\n",
              "      <td>NaN</td>\n",
              "    </tr>\n",
              "    <tr>\n",
              "      <th>5</th>\n",
              "      <td>2/22/2022 1:12:41</td>\n",
              "      <td>NaN</td>\n",
              "      <td>Yes, I give consent to the collection of my pe...</td>\n",
              "      <td>Yes, I give consent to the retention of my per...</td>\n",
              "      <td>Yes, I give consent to use of my personal data...</td>\n",
              "      <td>35</td>\n",
              "      <td>5</td>\n",
              "      <td>Female</td>\n",
              "      <td>Laguna</td>\n",
              "      <td>Family/Friends Outing</td>\n",
              "      <td>...</td>\n",
              "      <td>8ft</td>\n",
              "      <td>No</td>\n",
              "      <td>Presence of Liquor, Improper Security</td>\n",
              "      <td>Yes</td>\n",
              "      <td>Terms and Agreement</td>\n",
              "      <td>Perform emergency aid</td>\n",
              "      <td>Give there attention on how to help there guest.</td>\n",
              "      <td>5</td>\n",
              "      <td>5</td>\n",
              "      <td>Godbless ❤️</td>\n",
              "    </tr>\n",
              "    <tr>\n",
              "      <th>6</th>\n",
              "      <td>2/22/2022 8:27:40</td>\n",
              "      <td>NaN</td>\n",
              "      <td>Yes, I give consent to the collection of my pe...</td>\n",
              "      <td>Yes, I give consent to the retention of my per...</td>\n",
              "      <td>Yes, I give consent to use of my personal data...</td>\n",
              "      <td>42</td>\n",
              "      <td>5.58</td>\n",
              "      <td>Male</td>\n",
              "      <td>Laguna</td>\n",
              "      <td>Family/Friends Outing</td>\n",
              "      <td>...</td>\n",
              "      <td>6ft</td>\n",
              "      <td>No</td>\n",
              "      <td>Not Learning How to Swim, Improper Security</td>\n",
              "      <td>Yes</td>\n",
              "      <td>Pre-orientation, Posters</td>\n",
              "      <td>Perform emergency aid</td>\n",
              "      <td>immediate response</td>\n",
              "      <td>5</td>\n",
              "      <td>5</td>\n",
              "      <td>All the answers i made are based in my experie...</td>\n",
              "    </tr>\n",
              "    <tr>\n",
              "      <th>7</th>\n",
              "      <td>2/22/2022 13:34:12</td>\n",
              "      <td>jmjagapito@gmail.com</td>\n",
              "      <td>Yes, I give consent to the collection of my pe...</td>\n",
              "      <td>Yes, I give consent to the retention of my per...</td>\n",
              "      <td>Yes, I give consent to use of my personal data...</td>\n",
              "      <td>22</td>\n",
              "      <td>4.92</td>\n",
              "      <td>Female</td>\n",
              "      <td>Cavite</td>\n",
              "      <td>Celebration, Family/Friends Outing</td>\n",
              "      <td>...</td>\n",
              "      <td>4ft</td>\n",
              "      <td>Yes</td>\n",
              "      <td>Not Learning How to Swim, Lack of Supervision</td>\n",
              "      <td>Yes</td>\n",
              "      <td>Pre-orientation</td>\n",
              "      <td>Perform emergency aid</td>\n",
              "      <td>They should tighten safety and security at all...</td>\n",
              "      <td>4</td>\n",
              "      <td>3</td>\n",
              "      <td>NaN</td>\n",
              "    </tr>\n",
              "    <tr>\n",
              "      <th>8</th>\n",
              "      <td>2/22/2022 13:48:26</td>\n",
              "      <td>daryll.john.medina@adamson.edu.ph</td>\n",
              "      <td>Yes, I give consent to the collection of my pe...</td>\n",
              "      <td>Yes, I give consent to the retention of my per...</td>\n",
              "      <td>Yes, I give consent to use of my personal data...</td>\n",
              "      <td>22</td>\n",
              "      <td>5.42</td>\n",
              "      <td>Male</td>\n",
              "      <td>Cavite</td>\n",
              "      <td>Family/Friends Outing</td>\n",
              "      <td>...</td>\n",
              "      <td>6ft</td>\n",
              "      <td>Yes</td>\n",
              "      <td>Lack of Supervision, Improper Security</td>\n",
              "      <td>Yes</td>\n",
              "      <td>Posters</td>\n",
              "      <td>Perform emergency aid</td>\n",
              "      <td>Legal Basis</td>\n",
              "      <td>3</td>\n",
              "      <td>3</td>\n",
              "      <td>NaN</td>\n",
              "    </tr>\n",
              "    <tr>\n",
              "      <th>9</th>\n",
              "      <td>2/22/2022 13:58:57</td>\n",
              "      <td>angelica.mhay.salazar@adamson.edu.ph</td>\n",
              "      <td>Yes, I give consent to the collection of my pe...</td>\n",
              "      <td>Yes, I give consent to the retention of my per...</td>\n",
              "      <td>Yes, I give consent to use of my personal data...</td>\n",
              "      <td>22</td>\n",
              "      <td>5.17</td>\n",
              "      <td>Female</td>\n",
              "      <td>Cavite</td>\n",
              "      <td>Gathering, Celebration, Family/Friends Outing</td>\n",
              "      <td>...</td>\n",
              "      <td>4ft</td>\n",
              "      <td>No</td>\n",
              "      <td>Not Learning How to Swim, Lack of Supervision</td>\n",
              "      <td>Yes</td>\n",
              "      <td>Terms and Agreement</td>\n",
              "      <td>Perform emergency aid</td>\n",
              "      <td>Proper compliance and responsibility</td>\n",
              "      <td>5</td>\n",
              "      <td>4</td>\n",
              "      <td>NaN</td>\n",
              "    </tr>\n",
              "  </tbody>\n",
              "</table>\n",
              "<p>10 rows × 21 columns</p>\n",
              "</div>\n",
              "      <button class=\"colab-df-convert\" onclick=\"convertToInteractive('df-dcb1f564-6133-486e-885a-54cd39325ad5')\"\n",
              "              title=\"Convert this dataframe to an interactive table.\"\n",
              "              style=\"display:none;\">\n",
              "        \n",
              "  <svg xmlns=\"http://www.w3.org/2000/svg\" height=\"24px\"viewBox=\"0 0 24 24\"\n",
              "       width=\"24px\">\n",
              "    <path d=\"M0 0h24v24H0V0z\" fill=\"none\"/>\n",
              "    <path d=\"M18.56 5.44l.94 2.06.94-2.06 2.06-.94-2.06-.94-.94-2.06-.94 2.06-2.06.94zm-11 1L8.5 8.5l.94-2.06 2.06-.94-2.06-.94L8.5 2.5l-.94 2.06-2.06.94zm10 10l.94 2.06.94-2.06 2.06-.94-2.06-.94-.94-2.06-.94 2.06-2.06.94z\"/><path d=\"M17.41 7.96l-1.37-1.37c-.4-.4-.92-.59-1.43-.59-.52 0-1.04.2-1.43.59L10.3 9.45l-7.72 7.72c-.78.78-.78 2.05 0 2.83L4 21.41c.39.39.9.59 1.41.59.51 0 1.02-.2 1.41-.59l7.78-7.78 2.81-2.81c.8-.78.8-2.07 0-2.86zM5.41 20L4 18.59l7.72-7.72 1.47 1.35L5.41 20z\"/>\n",
              "  </svg>\n",
              "      </button>\n",
              "      \n",
              "  <style>\n",
              "    .colab-df-container {\n",
              "      display:flex;\n",
              "      flex-wrap:wrap;\n",
              "      gap: 12px;\n",
              "    }\n",
              "\n",
              "    .colab-df-convert {\n",
              "      background-color: #E8F0FE;\n",
              "      border: none;\n",
              "      border-radius: 50%;\n",
              "      cursor: pointer;\n",
              "      display: none;\n",
              "      fill: #1967D2;\n",
              "      height: 32px;\n",
              "      padding: 0 0 0 0;\n",
              "      width: 32px;\n",
              "    }\n",
              "\n",
              "    .colab-df-convert:hover {\n",
              "      background-color: #E2EBFA;\n",
              "      box-shadow: 0px 1px 2px rgba(60, 64, 67, 0.3), 0px 1px 3px 1px rgba(60, 64, 67, 0.15);\n",
              "      fill: #174EA6;\n",
              "    }\n",
              "\n",
              "    [theme=dark] .colab-df-convert {\n",
              "      background-color: #3B4455;\n",
              "      fill: #D2E3FC;\n",
              "    }\n",
              "\n",
              "    [theme=dark] .colab-df-convert:hover {\n",
              "      background-color: #434B5C;\n",
              "      box-shadow: 0px 1px 3px 1px rgba(0, 0, 0, 0.15);\n",
              "      filter: drop-shadow(0px 1px 2px rgba(0, 0, 0, 0.3));\n",
              "      fill: #FFFFFF;\n",
              "    }\n",
              "  </style>\n",
              "\n",
              "      <script>\n",
              "        const buttonEl =\n",
              "          document.querySelector('#df-dcb1f564-6133-486e-885a-54cd39325ad5 button.colab-df-convert');\n",
              "        buttonEl.style.display =\n",
              "          google.colab.kernel.accessAllowed ? 'block' : 'none';\n",
              "\n",
              "        async function convertToInteractive(key) {\n",
              "          const element = document.querySelector('#df-dcb1f564-6133-486e-885a-54cd39325ad5');\n",
              "          const dataTable =\n",
              "            await google.colab.kernel.invokeFunction('convertToInteractive',\n",
              "                                                     [key], {});\n",
              "          if (!dataTable) return;\n",
              "\n",
              "          const docLinkHtml = 'Like what you see? Visit the ' +\n",
              "            '<a target=\"_blank\" href=https://colab.research.google.com/notebooks/data_table.ipynb>data table notebook</a>'\n",
              "            + ' to learn more about interactive tables.';\n",
              "          element.innerHTML = '';\n",
              "          dataTable['output_type'] = 'display_data';\n",
              "          await google.colab.output.renderOutput(dataTable, element);\n",
              "          const docLink = document.createElement('div');\n",
              "          docLink.innerHTML = docLinkHtml;\n",
              "          element.appendChild(docLink);\n",
              "        }\n",
              "      </script>\n",
              "    </div>\n",
              "  </div>\n",
              "  "
            ]
          },
          "metadata": {},
          "execution_count": 27
        }
      ]
    },
    {
      "cell_type": "code",
      "source": [
        "response_DF.columns = ['Timestamp', 'Email', 'Collect', 'Store', 'Use', 'Age', 'Height', \n",
        "                       'Gender', 'Location', 'Q1', 'Q2', 'Q3', 'Q4', 'Q5', 'Q6', 'Q7', \n",
        "                       'Q8', 'Q9', 'Q10', 'Q11', 'Comments']\n",
        "response_DF.columns"
      ],
      "metadata": {
        "colab": {
          "base_uri": "https://localhost:8080/"
        },
        "id": "qtoIkG87bz3e",
        "outputId": "9c9d117b-25fa-4c7e-b4e6-8add2fb9120e"
      },
      "execution_count": 28,
      "outputs": [
        {
          "output_type": "execute_result",
          "data": {
            "text/plain": [
              "Index(['Timestamp', 'Email', 'Collect', 'Store', 'Use', 'Age', 'Height',\n",
              "       'Gender', 'Location', 'Q1', 'Q2', 'Q3', 'Q4', 'Q5', 'Q6', 'Q7', 'Q8',\n",
              "       'Q9', 'Q10', 'Q11', 'Comments'],\n",
              "      dtype='object')"
            ]
          },
          "metadata": {},
          "execution_count": 28
        }
      ]
    },
    {
      "cell_type": "code",
      "source": [
        "response_DF.drop('Timestamp', inplace=True, axis=1)\n",
        "response_DF.drop('Email', inplace=True, axis=1)\n",
        "response_DF.drop('Collect', inplace=True, axis=1)\n",
        "response_DF.drop('Store', inplace=True, axis=1)\n",
        "response_DF.drop('Use', inplace=True, axis=1)\n",
        "response_DF.drop('Comments', inplace=True, axis=1)"
      ],
      "metadata": {
        "id": "XY1ntkSVo5gT"
      },
      "execution_count": 29,
      "outputs": []
    },
    {
      "cell_type": "code",
      "source": [
        "response_DF.isnull().sum()"
      ],
      "metadata": {
        "colab": {
          "base_uri": "https://localhost:8080/"
        },
        "id": "RLVjM0zdo9hT",
        "outputId": "c85dd939-6775-4a4f-8d77-25b8468d8155"
      },
      "execution_count": 30,
      "outputs": [
        {
          "output_type": "execute_result",
          "data": {
            "text/plain": [
              "Age          0\n",
              "Height       0\n",
              "Gender       0\n",
              "Location     0\n",
              "Q1           0\n",
              "Q2           0\n",
              "Q3           0\n",
              "Q4           0\n",
              "Q5           0\n",
              "Q6           0\n",
              "Q7          15\n",
              "Q8           0\n",
              "Q9           1\n",
              "Q10          0\n",
              "Q11          0\n",
              "dtype: int64"
            ]
          },
          "metadata": {},
          "execution_count": 30
        }
      ]
    },
    {
      "cell_type": "code",
      "source": [
        "response_DF = response_DF.fillna(0)\n",
        "response_DF"
      ],
      "metadata": {
        "colab": {
          "base_uri": "https://localhost:8080/",
          "height": 954
        },
        "id": "Oo5Fm0q0pBhu",
        "outputId": "f0221a42-e831-44f5-9c0d-361791180c26"
      },
      "execution_count": 31,
      "outputs": [
        {
          "output_type": "execute_result",
          "data": {
            "text/plain": [
              "     Age Height             Gender Location  \\\n",
              "0     21   5.58             LGBTQ+   Quezon   \n",
              "1     21      5             Female    Rizal   \n",
              "2     20    6.5             Female   Laguna   \n",
              "3     23   5.42               Male    Rizal   \n",
              "4     34   5.92             LGBTQ+    Rizal   \n",
              "..   ...    ...                ...      ...   \n",
              "133   20   5.83               Male   Cavite   \n",
              "134   25   5.67               Male    Rizal   \n",
              "135   22   5.42               Male   Laguna   \n",
              "136   21   4.92             Female   Laguna   \n",
              "137   21   5.33  Prefer not to say   Laguna   \n",
              "\n",
              "                                                Q1  \\\n",
              "0               Celebration, Family/Friends Outing   \n",
              "1               Celebration, Family/Friends Outing   \n",
              "2               Celebration, Family/Friends Outing   \n",
              "3    Gathering, Celebration, Family/Friends Outing   \n",
              "4                            Family/Friends Outing   \n",
              "..                                             ...   \n",
              "133                                    Celebration   \n",
              "134               Gathering, Family/Friends Outing   \n",
              "135                          Family/Friends Outing   \n",
              "136             Celebration, Family/Friends Outing   \n",
              "137  Gathering, Celebration, Family/Friends Outing   \n",
              "\n",
              "                                                    Q2   Q3   Q4  \\\n",
              "0     Location, Ammenities, Price, Safety and Security  5ft   No   \n",
              "1     Location, Ammenities, Price, Safety and Security  5ft   No   \n",
              "2     Location, Ammenities, Price, Safety and Security  4ft   No   \n",
              "3                 Location, Price, Safety and Security  6ft   No   \n",
              "4    Location, Ammenities, Price, Safety and Securi...  5ft   No   \n",
              "..                                                 ...  ...  ...   \n",
              "133                                          Amenities  6ft  Yes   \n",
              "134    Location, Amenities, Price, Safety and Security  5ft   No   \n",
              "135                                Safety and Security  6ft  Yes   \n",
              "136                         Location, Amenities, Price  6ft   No   \n",
              "137    Location, Amenities, Price, Safety and Security  5ft  Yes   \n",
              "\n",
              "                                                    Q5   Q6  \\\n",
              "0    Not Learning How to Swim, Lack of Supervision,...  Yes   \n",
              "1         Not Learning How to Swim, Presence of Liquor  Yes   \n",
              "2    Not Learning How to Swim, Lack of Supervision,...  Yes   \n",
              "3        Not Learning How to Swim, Lack of Supervision  Yes   \n",
              "4    Not Learning How to Swim, Lack of Supervision,...  Yes   \n",
              "..                                                 ...  ...   \n",
              "133      Not Learning How to Swim, Lack of Supervision  Yes   \n",
              "134  Not Learning How to Swim, Lack of Supervision,...  Yes   \n",
              "135  Not Learning How to Swim, Lack of Supervision,...  Yes   \n",
              "136            Lack of Supervision, Presence of Liquor  Yes   \n",
              "137  Not Learning How to Swim, Lack of Supervision,...  Yes   \n",
              "\n",
              "                                                  Q7  \\\n",
              "0                       Terms and Agreement, Posters   \n",
              "1                                            Posters   \n",
              "2               Terms and Agreement, Pre-orientation   \n",
              "3                                            Posters   \n",
              "4    Terms and Agreement, Posters, Lifeguard on duty   \n",
              "..                                               ...   \n",
              "133                                          Posters   \n",
              "134                     Terms and Agreement, Posters   \n",
              "135    Terms and Agreement, Pre-orientation, Posters   \n",
              "136                     Terms and Agreement, Posters   \n",
              "137                                          Posters   \n",
              "\n",
              "                                       Q8  \\\n",
              "0    Call the attention of the management   \n",
              "1                   Perform emergency aid   \n",
              "2                   Perform emergency aid   \n",
              "3    Call the attention of the management   \n",
              "4    Call the attention of the management   \n",
              "..                                    ...   \n",
              "133  Call the attention of the management   \n",
              "134  Call the attention of the management   \n",
              "135                 Perform emergency aid   \n",
              "136                Call medical attention   \n",
              "137                 Perform emergency aid   \n",
              "\n",
              "                                                    Q9  Q10  Q11  \n",
              "0    They have a lifeguard and medical supplies ready.    4    3  \n",
              "1                              To respond immediately     4    4  \n",
              "2    resorts must always be ready to help the guest...    4    3  \n",
              "3    I expect that their personnels would know the ...    4    4  \n",
              "4                    Rescue the person who is drowning    5    5  \n",
              "..                                                 ...  ...  ...  \n",
              "133                                      well-prepared    5    3  \n",
              "134                 Immediate response to the incident    3    4  \n",
              "135  They must have person in charge in performing ...    5    3  \n",
              "136  They should be vigilant and quick to assess th...    4    3  \n",
              "137  The resort management should be liable on such...    4    4  \n",
              "\n",
              "[138 rows x 15 columns]"
            ],
            "text/html": [
              "\n",
              "  <div id=\"df-332aba9f-83a8-4d39-91d8-957f2de18574\">\n",
              "    <div class=\"colab-df-container\">\n",
              "      <div>\n",
              "<style scoped>\n",
              "    .dataframe tbody tr th:only-of-type {\n",
              "        vertical-align: middle;\n",
              "    }\n",
              "\n",
              "    .dataframe tbody tr th {\n",
              "        vertical-align: top;\n",
              "    }\n",
              "\n",
              "    .dataframe thead th {\n",
              "        text-align: right;\n",
              "    }\n",
              "</style>\n",
              "<table border=\"1\" class=\"dataframe\">\n",
              "  <thead>\n",
              "    <tr style=\"text-align: right;\">\n",
              "      <th></th>\n",
              "      <th>Age</th>\n",
              "      <th>Height</th>\n",
              "      <th>Gender</th>\n",
              "      <th>Location</th>\n",
              "      <th>Q1</th>\n",
              "      <th>Q2</th>\n",
              "      <th>Q3</th>\n",
              "      <th>Q4</th>\n",
              "      <th>Q5</th>\n",
              "      <th>Q6</th>\n",
              "      <th>Q7</th>\n",
              "      <th>Q8</th>\n",
              "      <th>Q9</th>\n",
              "      <th>Q10</th>\n",
              "      <th>Q11</th>\n",
              "    </tr>\n",
              "  </thead>\n",
              "  <tbody>\n",
              "    <tr>\n",
              "      <th>0</th>\n",
              "      <td>21</td>\n",
              "      <td>5.58</td>\n",
              "      <td>LGBTQ+</td>\n",
              "      <td>Quezon</td>\n",
              "      <td>Celebration, Family/Friends Outing</td>\n",
              "      <td>Location, Ammenities, Price, Safety and Security</td>\n",
              "      <td>5ft</td>\n",
              "      <td>No</td>\n",
              "      <td>Not Learning How to Swim, Lack of Supervision,...</td>\n",
              "      <td>Yes</td>\n",
              "      <td>Terms and Agreement, Posters</td>\n",
              "      <td>Call the attention of the management</td>\n",
              "      <td>They have a lifeguard and medical supplies ready.</td>\n",
              "      <td>4</td>\n",
              "      <td>3</td>\n",
              "    </tr>\n",
              "    <tr>\n",
              "      <th>1</th>\n",
              "      <td>21</td>\n",
              "      <td>5</td>\n",
              "      <td>Female</td>\n",
              "      <td>Rizal</td>\n",
              "      <td>Celebration, Family/Friends Outing</td>\n",
              "      <td>Location, Ammenities, Price, Safety and Security</td>\n",
              "      <td>5ft</td>\n",
              "      <td>No</td>\n",
              "      <td>Not Learning How to Swim, Presence of Liquor</td>\n",
              "      <td>Yes</td>\n",
              "      <td>Posters</td>\n",
              "      <td>Perform emergency aid</td>\n",
              "      <td>To respond immediately</td>\n",
              "      <td>4</td>\n",
              "      <td>4</td>\n",
              "    </tr>\n",
              "    <tr>\n",
              "      <th>2</th>\n",
              "      <td>20</td>\n",
              "      <td>6.5</td>\n",
              "      <td>Female</td>\n",
              "      <td>Laguna</td>\n",
              "      <td>Celebration, Family/Friends Outing</td>\n",
              "      <td>Location, Ammenities, Price, Safety and Security</td>\n",
              "      <td>4ft</td>\n",
              "      <td>No</td>\n",
              "      <td>Not Learning How to Swim, Lack of Supervision,...</td>\n",
              "      <td>Yes</td>\n",
              "      <td>Terms and Agreement, Pre-orientation</td>\n",
              "      <td>Perform emergency aid</td>\n",
              "      <td>resorts must always be ready to help the guest...</td>\n",
              "      <td>4</td>\n",
              "      <td>3</td>\n",
              "    </tr>\n",
              "    <tr>\n",
              "      <th>3</th>\n",
              "      <td>23</td>\n",
              "      <td>5.42</td>\n",
              "      <td>Male</td>\n",
              "      <td>Rizal</td>\n",
              "      <td>Gathering, Celebration, Family/Friends Outing</td>\n",
              "      <td>Location, Price, Safety and Security</td>\n",
              "      <td>6ft</td>\n",
              "      <td>No</td>\n",
              "      <td>Not Learning How to Swim, Lack of Supervision</td>\n",
              "      <td>Yes</td>\n",
              "      <td>Posters</td>\n",
              "      <td>Call the attention of the management</td>\n",
              "      <td>I expect that their personnels would know the ...</td>\n",
              "      <td>4</td>\n",
              "      <td>4</td>\n",
              "    </tr>\n",
              "    <tr>\n",
              "      <th>4</th>\n",
              "      <td>34</td>\n",
              "      <td>5.92</td>\n",
              "      <td>LGBTQ+</td>\n",
              "      <td>Rizal</td>\n",
              "      <td>Family/Friends Outing</td>\n",
              "      <td>Location, Ammenities, Price, Safety and Securi...</td>\n",
              "      <td>5ft</td>\n",
              "      <td>No</td>\n",
              "      <td>Not Learning How to Swim, Lack of Supervision,...</td>\n",
              "      <td>Yes</td>\n",
              "      <td>Terms and Agreement, Posters, Lifeguard on duty</td>\n",
              "      <td>Call the attention of the management</td>\n",
              "      <td>Rescue the person who is drowning</td>\n",
              "      <td>5</td>\n",
              "      <td>5</td>\n",
              "    </tr>\n",
              "    <tr>\n",
              "      <th>...</th>\n",
              "      <td>...</td>\n",
              "      <td>...</td>\n",
              "      <td>...</td>\n",
              "      <td>...</td>\n",
              "      <td>...</td>\n",
              "      <td>...</td>\n",
              "      <td>...</td>\n",
              "      <td>...</td>\n",
              "      <td>...</td>\n",
              "      <td>...</td>\n",
              "      <td>...</td>\n",
              "      <td>...</td>\n",
              "      <td>...</td>\n",
              "      <td>...</td>\n",
              "      <td>...</td>\n",
              "    </tr>\n",
              "    <tr>\n",
              "      <th>133</th>\n",
              "      <td>20</td>\n",
              "      <td>5.83</td>\n",
              "      <td>Male</td>\n",
              "      <td>Cavite</td>\n",
              "      <td>Celebration</td>\n",
              "      <td>Amenities</td>\n",
              "      <td>6ft</td>\n",
              "      <td>Yes</td>\n",
              "      <td>Not Learning How to Swim, Lack of Supervision</td>\n",
              "      <td>Yes</td>\n",
              "      <td>Posters</td>\n",
              "      <td>Call the attention of the management</td>\n",
              "      <td>well-prepared</td>\n",
              "      <td>5</td>\n",
              "      <td>3</td>\n",
              "    </tr>\n",
              "    <tr>\n",
              "      <th>134</th>\n",
              "      <td>25</td>\n",
              "      <td>5.67</td>\n",
              "      <td>Male</td>\n",
              "      <td>Rizal</td>\n",
              "      <td>Gathering, Family/Friends Outing</td>\n",
              "      <td>Location, Amenities, Price, Safety and Security</td>\n",
              "      <td>5ft</td>\n",
              "      <td>No</td>\n",
              "      <td>Not Learning How to Swim, Lack of Supervision,...</td>\n",
              "      <td>Yes</td>\n",
              "      <td>Terms and Agreement, Posters</td>\n",
              "      <td>Call the attention of the management</td>\n",
              "      <td>Immediate response to the incident</td>\n",
              "      <td>3</td>\n",
              "      <td>4</td>\n",
              "    </tr>\n",
              "    <tr>\n",
              "      <th>135</th>\n",
              "      <td>22</td>\n",
              "      <td>5.42</td>\n",
              "      <td>Male</td>\n",
              "      <td>Laguna</td>\n",
              "      <td>Family/Friends Outing</td>\n",
              "      <td>Safety and Security</td>\n",
              "      <td>6ft</td>\n",
              "      <td>Yes</td>\n",
              "      <td>Not Learning How to Swim, Lack of Supervision,...</td>\n",
              "      <td>Yes</td>\n",
              "      <td>Terms and Agreement, Pre-orientation, Posters</td>\n",
              "      <td>Perform emergency aid</td>\n",
              "      <td>They must have person in charge in performing ...</td>\n",
              "      <td>5</td>\n",
              "      <td>3</td>\n",
              "    </tr>\n",
              "    <tr>\n",
              "      <th>136</th>\n",
              "      <td>21</td>\n",
              "      <td>4.92</td>\n",
              "      <td>Female</td>\n",
              "      <td>Laguna</td>\n",
              "      <td>Celebration, Family/Friends Outing</td>\n",
              "      <td>Location, Amenities, Price</td>\n",
              "      <td>6ft</td>\n",
              "      <td>No</td>\n",
              "      <td>Lack of Supervision, Presence of Liquor</td>\n",
              "      <td>Yes</td>\n",
              "      <td>Terms and Agreement, Posters</td>\n",
              "      <td>Call medical attention</td>\n",
              "      <td>They should be vigilant and quick to assess th...</td>\n",
              "      <td>4</td>\n",
              "      <td>3</td>\n",
              "    </tr>\n",
              "    <tr>\n",
              "      <th>137</th>\n",
              "      <td>21</td>\n",
              "      <td>5.33</td>\n",
              "      <td>Prefer not to say</td>\n",
              "      <td>Laguna</td>\n",
              "      <td>Gathering, Celebration, Family/Friends Outing</td>\n",
              "      <td>Location, Amenities, Price, Safety and Security</td>\n",
              "      <td>5ft</td>\n",
              "      <td>Yes</td>\n",
              "      <td>Not Learning How to Swim, Lack of Supervision,...</td>\n",
              "      <td>Yes</td>\n",
              "      <td>Posters</td>\n",
              "      <td>Perform emergency aid</td>\n",
              "      <td>The resort management should be liable on such...</td>\n",
              "      <td>4</td>\n",
              "      <td>4</td>\n",
              "    </tr>\n",
              "  </tbody>\n",
              "</table>\n",
              "<p>138 rows × 15 columns</p>\n",
              "</div>\n",
              "      <button class=\"colab-df-convert\" onclick=\"convertToInteractive('df-332aba9f-83a8-4d39-91d8-957f2de18574')\"\n",
              "              title=\"Convert this dataframe to an interactive table.\"\n",
              "              style=\"display:none;\">\n",
              "        \n",
              "  <svg xmlns=\"http://www.w3.org/2000/svg\" height=\"24px\"viewBox=\"0 0 24 24\"\n",
              "       width=\"24px\">\n",
              "    <path d=\"M0 0h24v24H0V0z\" fill=\"none\"/>\n",
              "    <path d=\"M18.56 5.44l.94 2.06.94-2.06 2.06-.94-2.06-.94-.94-2.06-.94 2.06-2.06.94zm-11 1L8.5 8.5l.94-2.06 2.06-.94-2.06-.94L8.5 2.5l-.94 2.06-2.06.94zm10 10l.94 2.06.94-2.06 2.06-.94-2.06-.94-.94-2.06-.94 2.06-2.06.94z\"/><path d=\"M17.41 7.96l-1.37-1.37c-.4-.4-.92-.59-1.43-.59-.52 0-1.04.2-1.43.59L10.3 9.45l-7.72 7.72c-.78.78-.78 2.05 0 2.83L4 21.41c.39.39.9.59 1.41.59.51 0 1.02-.2 1.41-.59l7.78-7.78 2.81-2.81c.8-.78.8-2.07 0-2.86zM5.41 20L4 18.59l7.72-7.72 1.47 1.35L5.41 20z\"/>\n",
              "  </svg>\n",
              "      </button>\n",
              "      \n",
              "  <style>\n",
              "    .colab-df-container {\n",
              "      display:flex;\n",
              "      flex-wrap:wrap;\n",
              "      gap: 12px;\n",
              "    }\n",
              "\n",
              "    .colab-df-convert {\n",
              "      background-color: #E8F0FE;\n",
              "      border: none;\n",
              "      border-radius: 50%;\n",
              "      cursor: pointer;\n",
              "      display: none;\n",
              "      fill: #1967D2;\n",
              "      height: 32px;\n",
              "      padding: 0 0 0 0;\n",
              "      width: 32px;\n",
              "    }\n",
              "\n",
              "    .colab-df-convert:hover {\n",
              "      background-color: #E2EBFA;\n",
              "      box-shadow: 0px 1px 2px rgba(60, 64, 67, 0.3), 0px 1px 3px 1px rgba(60, 64, 67, 0.15);\n",
              "      fill: #174EA6;\n",
              "    }\n",
              "\n",
              "    [theme=dark] .colab-df-convert {\n",
              "      background-color: #3B4455;\n",
              "      fill: #D2E3FC;\n",
              "    }\n",
              "\n",
              "    [theme=dark] .colab-df-convert:hover {\n",
              "      background-color: #434B5C;\n",
              "      box-shadow: 0px 1px 3px 1px rgba(0, 0, 0, 0.15);\n",
              "      filter: drop-shadow(0px 1px 2px rgba(0, 0, 0, 0.3));\n",
              "      fill: #FFFFFF;\n",
              "    }\n",
              "  </style>\n",
              "\n",
              "      <script>\n",
              "        const buttonEl =\n",
              "          document.querySelector('#df-332aba9f-83a8-4d39-91d8-957f2de18574 button.colab-df-convert');\n",
              "        buttonEl.style.display =\n",
              "          google.colab.kernel.accessAllowed ? 'block' : 'none';\n",
              "\n",
              "        async function convertToInteractive(key) {\n",
              "          const element = document.querySelector('#df-332aba9f-83a8-4d39-91d8-957f2de18574');\n",
              "          const dataTable =\n",
              "            await google.colab.kernel.invokeFunction('convertToInteractive',\n",
              "                                                     [key], {});\n",
              "          if (!dataTable) return;\n",
              "\n",
              "          const docLinkHtml = 'Like what you see? Visit the ' +\n",
              "            '<a target=\"_blank\" href=https://colab.research.google.com/notebooks/data_table.ipynb>data table notebook</a>'\n",
              "            + ' to learn more about interactive tables.';\n",
              "          element.innerHTML = '';\n",
              "          dataTable['output_type'] = 'display_data';\n",
              "          await google.colab.output.renderOutput(dataTable, element);\n",
              "          const docLink = document.createElement('div');\n",
              "          docLink.innerHTML = docLinkHtml;\n",
              "          element.appendChild(docLink);\n",
              "        }\n",
              "      </script>\n",
              "    </div>\n",
              "  </div>\n",
              "  "
            ]
          },
          "metadata": {},
          "execution_count": 31
        }
      ]
    },
    {
      "cell_type": "code",
      "source": [
        "response_DF.dtypes"
      ],
      "metadata": {
        "colab": {
          "base_uri": "https://localhost:8080/"
        },
        "id": "xErJsNYgdSG9",
        "outputId": "9882acc4-a294-4d36-e01a-fc627a6bbf0c"
      },
      "execution_count": 34,
      "outputs": [
        {
          "output_type": "execute_result",
          "data": {
            "text/plain": [
              "Age          int64\n",
              "Height      object\n",
              "Gender      object\n",
              "Location    object\n",
              "Q1          object\n",
              "Q2          object\n",
              "Q3          object\n",
              "Q4          object\n",
              "Q5          object\n",
              "Q6          object\n",
              "Q7          object\n",
              "Q8          object\n",
              "Q9          object\n",
              "Q10          int64\n",
              "Q11          int64\n",
              "dtype: object"
            ]
          },
          "metadata": {},
          "execution_count": 34
        }
      ]
    },
    {
      "cell_type": "markdown",
      "source": [
        "# Decsriptive Analytics"
      ],
      "metadata": {
        "id": "rh4FKTMdGJjP"
      }
    },
    {
      "cell_type": "markdown",
      "source": [
        "### Age"
      ],
      "metadata": {
        "id": "S0tTde7vGMRH"
      }
    },
    {
      "cell_type": "code",
      "source": [
        "response_DF['Age'].value_counts()"
      ],
      "metadata": {
        "id": "MSvxWeoeGO-v",
        "colab": {
          "base_uri": "https://localhost:8080/"
        },
        "outputId": "ba35dd1a-6813-44c5-a261-9552b9b4b17d"
      },
      "execution_count": 35,
      "outputs": [
        {
          "output_type": "execute_result",
          "data": {
            "text/plain": [
              "21    28\n",
              "20    25\n",
              "19    15\n",
              "22    12\n",
              "24     8\n",
              "25     5\n",
              "23     4\n",
              "26     4\n",
              "30     3\n",
              "28     3\n",
              "18     3\n",
              "17     2\n",
              "38     2\n",
              "16     2\n",
              "42     2\n",
              "27     2\n",
              "40     2\n",
              "15     2\n",
              "31     2\n",
              "36     1\n",
              "58     1\n",
              "14     1\n",
              "29     1\n",
              "37     1\n",
              "35     1\n",
              "50     1\n",
              "55     1\n",
              "33     1\n",
              "34     1\n",
              "12     1\n",
              "32     1\n",
              "Name: Age, dtype: int64"
            ]
          },
          "metadata": {},
          "execution_count": 35
        }
      ]
    },
    {
      "cell_type": "code",
      "source": [
        "age_sorted = response_DF['Age'].sort_values(ascending = True)\n",
        "age = sns.distplot(x = age_sorted, color='darkcyan')\n",
        "fig = plt.gcf()\n",
        "fig.set_size_inches(10, 5)\n",
        "\n",
        "plt.title('Age of the Respondents')\n",
        "plt.savefig('Age.png', dpi=300, bbox_inches='tight')"
      ],
      "metadata": {
        "colab": {
          "base_uri": "https://localhost:8080/",
          "height": 393
        },
        "id": "s2P1CiOGpLkf",
        "outputId": "447e7122-3a76-482b-ba70-756d2cfbea69"
      },
      "execution_count": 47,
      "outputs": [
        {
          "output_type": "stream",
          "name": "stderr",
          "text": [
            "/usr/local/lib/python3.7/dist-packages/seaborn/distributions.py:2619: FutureWarning: `distplot` is a deprecated function and will be removed in a future version. Please adapt your code to use either `displot` (a figure-level function with similar flexibility) or `histplot` (an axes-level function for histograms).\n",
            "  warnings.warn(msg, FutureWarning)\n"
          ]
        },
        {
          "output_type": "display_data",
          "data": {
            "text/plain": [
              "<Figure size 720x360 with 1 Axes>"
            ],
            "image/png": "[encoded data removed]"
          },
          "metadata": {}
        }
      ]
    },
    {
      "cell_type": "markdown",
      "source": [
        "> **Insights:**\n",
        "<p align = Justify>The graph shows the age of the respondents ranges from 20 to 28 years old. This can depict that the age of most of the respondents or pool goers is in working age. Other ages such as the mid-30s to mid-50s are parents that may be accompanying their child. This is also the reason why there are only a few respondents that are underaged. </p>"
      ],
      "metadata": {
        "id": "0a1umwC-pQkw"
      }
    },
    {
      "cell_type": "markdown",
      "source": [
        "## Height"
      ],
      "metadata": {
        "id": "v_RkhGvrGPY4"
      }
    },
    {
      "cell_type": "code",
      "source": [
        "response_DF.drop(89, axis=0, inplace=True)"
      ],
      "metadata": {
        "id": "IGwS9UyJGQ7_"
      },
      "execution_count": 48,
      "outputs": []
    },
    {
      "cell_type": "code",
      "source": [
        "response_DF['Height'].value_counts()"
      ],
      "metadata": {
        "colab": {
          "base_uri": "https://localhost:8080/"
        },
        "id": "I13SFgqtpo7I",
        "outputId": "6b594219-ad70-4a85-8e88-4f8d03bd7576"
      },
      "execution_count": 49,
      "outputs": [
        {
          "output_type": "execute_result",
          "data": {
            "text/plain": [
              "5       20\n",
              "5.17    19\n",
              "5.25    15\n",
              "5.33    14\n",
              "4.92    13\n",
              "5.58    11\n",
              "5.42    11\n",
              "5.08     9\n",
              "5.5      6\n",
              "5.67     5\n",
              "5.92     2\n",
              "5.75     2\n",
              "4.08     1\n",
              "5.41     1\n",
              "4.75     1\n",
              "4.67     1\n",
              "4.83     1\n",
              "5.78     1\n",
              "4.58     1\n",
              "4        1\n",
              "6.5      1\n",
              "5.83     1\n",
              "Name: Height, dtype: int64"
            ]
          },
          "metadata": {},
          "execution_count": 49
        }
      ]
    },
    {
      "cell_type": "code",
      "source": [
        "height_sorted = response_DF['Height'].sort_values(ascending = True)\n",
        "\n",
        "sns.histplot(x = height_sorted, kde=True, color='darkcyan')\n",
        "fig = plt.gcf()\n",
        "fig.set_size_inches(15, 10)\n",
        "\n",
        "plt.title('Height of the Respondents')\n",
        "plt.savefig('Height.png', dpi=300, bbox_inches='tight')"
      ],
      "metadata": {
        "colab": {
          "base_uri": "https://localhost:8080/",
          "height": 627
        },
        "id": "q-74Urg8pq5o",
        "outputId": "3c686138-357c-4051-ad13-670bccaaf1c4"
      },
      "execution_count": 52,
      "outputs": [
        {
          "output_type": "display_data",
          "data": {
            "text/plain": [
              "<Figure size 1080x720 with 1 Axes>"
            ],
            "image/png": "[encoded data removed]"
          },
          "metadata": {}
        }
      ]
    },
    {
      "cell_type": "markdown",
      "source": [
        "> **Insights:**\n",
        "<p align = Justify> The graph shows the range of the height in the researcher's respondents, whereas it is mostly around the height of 5'0 - 5'3.</p>"
      ],
      "metadata": {
        "id": "FaTV4jP1pzJ0"
      }
    },
    {
      "cell_type": "markdown",
      "source": [
        "## Gender"
      ],
      "metadata": {
        "id": "S1bMZnCxIHdP"
      }
    },
    {
      "cell_type": "code",
      "source": [
        "response_DF['Gender'].value_counts()"
      ],
      "metadata": {
        "id": "8JVfLUCwIMEz",
        "colab": {
          "base_uri": "https://localhost:8080/"
        },
        "outputId": "6d0fa739-400b-48f0-bc0c-30847e05cc06"
      },
      "execution_count": 53,
      "outputs": [
        {
          "output_type": "execute_result",
          "data": {
            "text/plain": [
              "Female               85\n",
              "Male                 41\n",
              "Prefer not to say     6\n",
              "LGBTQ+                5\n",
              "Name: Gender, dtype: int64"
            ]
          },
          "metadata": {},
          "execution_count": 53
        }
      ]
    },
    {
      "cell_type": "code",
      "source": [
        "Gender = response_DF.groupby('Gender')\n",
        "plt.title\n",
        "Gender.size().plot(kind='barh', color='darkcyan')\n",
        "\n",
        "plt.tight_layout()\n",
        "plt.title('Gender of the Respondents')\n",
        "plt.savefig('Gender.png', dpi=300, bbox_inches='tight')"
      ],
      "metadata": {
        "colab": {
          "base_uri": "https://localhost:8080/",
          "height": 309
        },
        "id": "n3xA6x4Kp9lb",
        "outputId": "be737711-f131-40b7-801b-9180a8d69ce5"
      },
      "execution_count": 55,
      "outputs": [
        {
          "output_type": "display_data",
          "data": {
            "text/plain": [
              "<Figure size 432x288 with 1 Axes>"
            ],
            "image/png": "[encoded data removed]"
          },
          "metadata": {}
        }
      ]
    },
    {
      "cell_type": "markdown",
      "source": [
        "> **Insights:**\n",
        "Most of the Respondents in the survey are female. This visualization can imply that most of the pool resort goers in the area of CALABARZON are female. "
      ],
      "metadata": {
        "id": "u2SkcHE4qCWo"
      }
    },
    {
      "cell_type": "code",
      "source": [
        "corre1_DF = response_DF[['Age', 'Gender']]\n",
        "corre1_DF = corre1_DF.Gender.replace(to_replace=['Male', 'Female', 'LGBTQ+', 'Prefer not to say'], value =[0, 1, 2, 3])\n",
        "corre1_DF = corre1_DF.astype(int)"
      ],
      "metadata": {
        "id": "sEu56qhF5rtC"
      },
      "execution_count": null,
      "outputs": []
    },
    {
      "cell_type": "code",
      "source": [
        "sns.pairplot(corre1_DF)\n",
        "fig.set_size_inches(10, 10)\n",
        "\n",
        "plt.savefig('corre1.png', dpi=300)"
      ],
      "metadata": {
        "id": "40HP_0sf-sV_"
      },
      "execution_count": null,
      "outputs": []
    },
    {
      "cell_type": "markdown",
      "source": [
        "## Location"
      ],
      "metadata": {
        "id": "dw5L8avoIJGY"
      }
    },
    {
      "cell_type": "code",
      "source": [
        "response_DF['Location'].value_counts()"
      ],
      "metadata": {
        "colab": {
          "base_uri": "https://localhost:8080/"
        },
        "id": "7lue02bUqXgz",
        "outputId": "08555839-b6f3-4bc9-f0dc-63812bb474e9"
      },
      "execution_count": 56,
      "outputs": [
        {
          "output_type": "execute_result",
          "data": {
            "text/plain": [
              "Cavite      30\n",
              "Batangas    28\n",
              "Quezon      27\n",
              "Rizal       26\n",
              "Laguna      26\n",
              "Name: Location, dtype: int64"
            ]
          },
          "metadata": {},
          "execution_count": 56
        }
      ]
    },
    {
      "cell_type": "code",
      "source": [
        "Reside = response_DF.groupby('Location')\n",
        "Reside.size().plot(kind='barh', color='darkcyan')\n",
        "\n",
        "plt.title('Location of the Respondents')\n",
        "plt.savefig('Location.png', dpi=300, bbox_inches='tight')"
      ],
      "metadata": {
        "id": "c8D7Xd4uILcc",
        "colab": {
          "base_uri": "https://localhost:8080/",
          "height": 284
        },
        "outputId": "3122b77b-d63c-4184-b622-ce88f0e2bdf3"
      },
      "execution_count": 59,
      "outputs": [
        {
          "output_type": "display_data",
          "data": {
            "text/plain": [
              "<Figure size 432x288 with 1 Axes>"
            ],
            "image/png": "[encoded data removed]"
          },
          "metadata": {}
        }
      ]
    },
    {
      "cell_type": "markdown",
      "source": [
        "> **Insights:**\n",
        "<p align = Justify>Most of the respondents that the researchers were able to ask the survey is around the Cavite area, since there are quite a number of resorts that are located within the said area.</p>"
      ],
      "metadata": {
        "id": "aG56EwgLqW0_"
      }
    },
    {
      "cell_type": "code",
      "source": [
        "sns.barplot(x= response_DF['Age'], y=response_DF['Location'])\n",
        "plt.savefig('age-loc.png', dpi=300)"
      ],
      "metadata": {
        "id": "q3ZJsjZtqgsz"
      },
      "execution_count": null,
      "outputs": []
    },
    {
      "cell_type": "markdown",
      "source": [
        ">**Insights:**"
      ],
      "metadata": {
        "id": "Bi1ujBL0qpxY"
      }
    },
    {
      "cell_type": "markdown",
      "source": [
        "## Q1: When you go to a resort, what are the usual things that you do?"
      ],
      "metadata": {
        "id": "qJDrUQYBIb5u"
      }
    },
    {
      "cell_type": "code",
      "source": [
        "response_DF['Q1'].value_counts()"
      ],
      "metadata": {
        "id": "-eR8sTYuIiqP",
        "colab": {
          "base_uri": "https://localhost:8080/"
        },
        "outputId": "758dd536-ffd7-4726-bc00-e5e159ec5f99"
      },
      "execution_count": 60,
      "outputs": [
        {
          "output_type": "execute_result",
          "data": {
            "text/plain": [
              "Family/Friends Outing                                               49\n",
              "Gathering, Celebration, Family/Friends Outing                       41\n",
              "Celebration, Family/Friends Outing                                  29\n",
              "Gathering, Family/Friends Outing                                     8\n",
              "Celebration                                                          6\n",
              "Gathering, Celebration                                               3\n",
              "Gathering, Celebration, Family/Friends Outing, business bonding      1\n",
              "Name: Q1, dtype: int64"
            ]
          },
          "metadata": {},
          "execution_count": 60
        }
      ]
    },
    {
      "cell_type": "code",
      "source": [
        "celeb_data = response_DF[(response_DF['Q1'] == 'Celebration') | (response_DF['Q1'] == 'Gathering, Celebration') | (response_DF['Q1'] == 'Gathering, Celebration, Family/Friends Outing') | (response_DF['Q1'] == 'Gathering, Celebration, Family/Friends Outing, business bonding ')]\n",
        "celeb_data = celeb_data['Q1'].value_counts()\n",
        "celeb_sum=celeb_data.sum()\n",
        "celeb_sum"
      ],
      "metadata": {
        "colab": {
          "base_uri": "https://localhost:8080/"
        },
        "id": "-fUbp_v3q0AA",
        "outputId": "fdc715df-3352-4bc8-8c8b-2609eada785a"
      },
      "execution_count": 61,
      "outputs": [
        {
          "output_type": "execute_result",
          "data": {
            "text/plain": [
              "51"
            ]
          },
          "metadata": {},
          "execution_count": 61
        }
      ]
    },
    {
      "cell_type": "code",
      "source": [
        "outing_data = response_DF[(response_DF['Q1'] == 'Family/Friends Outing') | (response_DF['Q1'] == 'Gathering, Celebration, Family/Friends Outing') | (response_DF['Q1'] == 'Celebration, Family/Friends Outing') | (response_DF['Q1'] == 'Gathering, Family/Friends Outing') | (response_DF['Q1'] == 'Gathering, Celebration, Family/Friends Outing, business bonding')]\n",
        "outing_data = outing_data['Q1'].value_counts()\n",
        "outing_sum=outing_data.sum()\n",
        "outing_sum"
      ],
      "metadata": {
        "colab": {
          "base_uri": "https://localhost:8080/"
        },
        "id": "bQZ74rZEq2Kb",
        "outputId": "18ccff55-00d6-48e4-9ee2-01aa58a4dc74"
      },
      "execution_count": 64,
      "outputs": [
        {
          "output_type": "execute_result",
          "data": {
            "text/plain": [
              "127"
            ]
          },
          "metadata": {},
          "execution_count": 64
        }
      ]
    },
    {
      "cell_type": "code",
      "source": [
        "gathering_data = response_DF[(response_DF['Q1'] == 'Gathering') | (response_DF['Q1'] == 'Gathering, Family/Friends Outing') | (response_DF['Q1'] == 'Gathering, Celebration') | (response_DF['Q1'] == 'Gathering, Celebration, Family/Friends Outing, business bonding')]\n",
        "gathering_data = gathering_data['Q1'].value_counts()\n",
        "gathering_sum = gathering_data.sum()\n",
        "gathering_sum"
      ],
      "metadata": {
        "colab": {
          "base_uri": "https://localhost:8080/"
        },
        "id": "u-_DJ68fq38_",
        "outputId": "77b13e97-d3b9-4281-9a4d-e7a72492869b"
      },
      "execution_count": 65,
      "outputs": [
        {
          "output_type": "execute_result",
          "data": {
            "text/plain": [
              "11"
            ]
          },
          "metadata": {},
          "execution_count": 65
        }
      ]
    },
    {
      "cell_type": "code",
      "source": [
        "plt.title('Common Activities in Resort')\n",
        "plt.ylabel('Count')\n",
        "\n",
        "fig = plt.gcf()\n",
        "fig.set_size_inches(5, 5)\n",
        "x_celeb=['Celebration']\n",
        "x_celeb = np.arange(len(x_celeb))\n",
        "\n",
        "x_outing=['Family/Friends Outing']\n",
        "x_outing = np.arange(len(x_outing))\n",
        "\n",
        "x_gathering =['Gathering']\n",
        "x_gathering = np.arange(len(x_gathering))\n",
        "\n",
        "plt.bar(x_celeb - 0.2, celeb_sum, 0.2, label='Celebration', color='lightcoral')\n",
        "plt.bar(x_outing + 0.2, outing_sum, 0.2, label='Family/Friends Outing', color='olivedrab')\n",
        "plt.bar(x_gathering - 0.6, gathering_sum, 0.2, label='Gathering', color='teal')\n",
        "\n",
        "plt.xticks([])\n",
        "plt.legend()\n",
        "plt.savefig('Q1.png', dpi=300, bbox_inches='tight')\n",
        "plt.show()"
      ],
      "metadata": {
        "colab": {
          "base_uri": "https://localhost:8080/",
          "height": 325
        },
        "id": "hnZiFf7jrgGb",
        "outputId": "c7176cba-9b54-4fad-e511-fdeef4b03314"
      },
      "execution_count": 68,
      "outputs": [
        {
          "output_type": "display_data",
          "data": {
            "text/plain": [
              "<Figure size 360x360 with 1 Axes>"
            ],
            "image/png": "[encoded data removed]"
          },
          "metadata": {}
        }
      ]
    },
    {
      "cell_type": "markdown",
      "source": [
        ">**Insights:** <br>\n",
        "<p align = Justify>Majority of the respondents answered that the usual thing they do in a pool resort is family or friends outing. This reason can imply that the largest age population in the study are going to a pool resort for an outing.  </p> "
      ],
      "metadata": {
        "id": "qPnEgWscrkI_"
      }
    },
    {
      "cell_type": "code",
      "source": [
        "corre2_DF = response_DF[['Q1', 'Age:', 'Height']]\n",
        "# corre1_DF = corre1_DF.astype(int)"
      ],
      "metadata": {
        "id": "JXEfsQMh1sko"
      },
      "execution_count": null,
      "outputs": []
    },
    {
      "cell_type": "code",
      "source": [
        "sns.pairplot(corre2_DF, hue='Q1')\n",
        "fig.set_size_inches(25,10)\n",
        "\n",
        "plt.savefig('corre2.png', dpi=300)"
      ],
      "metadata": {
        "id": "qm-1sM7t2mz7"
      },
      "execution_count": null,
      "outputs": []
    },
    {
      "cell_type": "markdown",
      "source": [
        "## Q2: What are the factors you consider in choosing a resort?"
      ],
      "metadata": {
        "id": "WkpJ-6uWIjYX"
      }
    },
    {
      "cell_type": "code",
      "source": [
        "col_amenities = response_DF.Q2.str.replace('Ammenities', 'Amenities')\n",
        "response_DF['Q2'] = col_amenities"
      ],
      "metadata": {
        "id": "jzvgu4_a8NzS"
      },
      "execution_count": 69,
      "outputs": []
    },
    {
      "cell_type": "code",
      "source": [
        "response_DF['Q2'].value_counts()"
      ],
      "metadata": {
        "id": "PZj3OBySIoIR",
        "colab": {
          "base_uri": "https://localhost:8080/"
        },
        "outputId": "5f77840b-ed24-4e57-d912-ef3be04415d3"
      },
      "execution_count": 70,
      "outputs": [
        {
          "output_type": "execute_result",
          "data": {
            "text/plain": [
              "Location, Amenities, Price, Safety and Security                        62\n",
              "Location, Price, Safety and Security                                    9\n",
              "Location                                                                9\n",
              "Safety and Security                                                     9\n",
              "Location, Price                                                         8\n",
              "Location, Amenities, Price                                              8\n",
              "Amenities, Price, Safety and Security                                   6\n",
              "Amenities                                                               5\n",
              "Location, Amenities                                                     4\n",
              "Price                                                                   4\n",
              "Amenities, Price                                                        3\n",
              "Price, Safety and Security                                              2\n",
              "Location, Amenities, Price, Safety and Security, Cleanliness            2\n",
              "Location, Amenities, Price, Safety and Security, Nature attractions     1\n",
              "Location, Amenities, Price, Safety and Security, Food                   1\n",
              "Location, Amenities, Safety and Security                                1\n",
              "Location, Safety and Security                                           1\n",
              "Location, Amenities, Price, Safety and Security, Tourist Spots          1\n",
              "Amenities, Safety and Security                                          1\n",
              "Name: Q2, dtype: int64"
            ]
          },
          "metadata": {},
          "execution_count": 70
        }
      ]
    },
    {
      "cell_type": "code",
      "source": [
        "loc_data = response_DF[(response_DF['Q2'] == 'Location') | (response_DF['Q2'] == 'Location, Amenities, Price, Safety and Security ') | (response_DF['Q2'] == 'Location, Price') | (response_DF['Q2'] == 'Location, Price, Safety and Security') |(response_DF['Q2'] == 'Location, Amenities, Price') | (response_DF['Q2'] == 'Location, Amenities') | (response_DF['Q2'] == 'Location, Amenities, Price, Safety and Security, Cleanliness') | (response_DF['Q2'] == 'Location, Amenities, Price, Safety and Security, Nature attractions') | (response_DF['Q2'] == 'Location, Amenities, Price, Safety and Security, Food') | (response_DF['Q2'] == 'Location, Amenities, Safety and Security') | (response_DF['Q2'] == 'Location, Safety and Security') | (response_DF['Q2'] == 'Location, Amenities, Price, Safety and Security, Tourist Spots')]\n",
        "loc_data = loc_data['Q2'].value_counts()\n",
        "loc_sum = loc_data.sum()\n",
        "loc_sum"
      ],
      "metadata": {
        "colab": {
          "base_uri": "https://localhost:8080/"
        },
        "id": "KbwsKG237mZH",
        "outputId": "5cef7123-12fa-4189-e2ed-ef9e77979a13"
      },
      "execution_count": 71,
      "outputs": [
        {
          "output_type": "execute_result",
          "data": {
            "text/plain": [
              "45"
            ]
          },
          "metadata": {},
          "execution_count": 71
        }
      ]
    },
    {
      "cell_type": "code",
      "source": [
        "amenities_data = response_DF[(response_DF['Q2'] == 'Amenities') | (response_DF['Q2'] == 'Location, Amenities, Price, Safety and Security') | (response_DF['Q2'] == 'Amenities, Price, Safety and Security') | (response_DF['Q2'] == 'Location, Amenities, Price') | (response_DF['Q2'] == 'Amenities, Price') | (response_DF['Q2'] == 'Location, Amenities') | (response_DF['Q2'] == 'Location, Amenities, Price, Safety and Security, Cleanliness') | (response_DF['Q2'] == 'Location, Amenities, Price, Safety and Security, Nature attractions') | (response_DF['Q2'] == 'Location, Amenities, Price, Safety and Security, Food') | (response_DF['Q2'] == 'Location, Amenities, Safety and Security') | (response_DF['Q2'] == 'Location, Amenities, Price, Safety and Security, Tourist Spots')]\n",
        "amenities_data = amenities_data['Q2'].value_counts()\n",
        "amenities_sum = amenities_data.sum()\n",
        "amenities_sum"
      ],
      "metadata": {
        "colab": {
          "base_uri": "https://localhost:8080/"
        },
        "id": "KOxdufGT-R-u",
        "outputId": "575c3260-0bd7-4edc-8ae0-39947767c0ed"
      },
      "execution_count": 72,
      "outputs": [
        {
          "output_type": "execute_result",
          "data": {
            "text/plain": [
              "94"
            ]
          },
          "metadata": {},
          "execution_count": 72
        }
      ]
    },
    {
      "cell_type": "code",
      "source": [
        "price_data = response_DF[(response_DF['Q2'] == 'Price') | (response_DF['Q2'] == 'Location, Amenities, Price, Safety and Security') | (response_DF['Q2'] == 'Location, Price') | (response_DF['Q2'] == 'Location, Price, Safety and Security') | (response_DF['Q2'] == 'Amenities, Price, Safety and Security') | (response_DF['Q2'] == 'Location, Amenities, Price') | (response_DF['Q2'] == 'Amenities, Price') | (response_DF['Q2'] ==  'Price, Safety and Security') | (response_DF['Q2'] == 'Location, Amenities, Price, Safety and Security, Cleanliness') | (response_DF['Q2'] == 'Location, Amenities, Price, Safety and Security, Nature attractions') | (response_DF['Q2'] == 'Location, Amenities, Price, Safety and Security, Food') | (response_DF['Q2'] ==  'Location, Amenities, Price, Safety and Security, Tourist Spots')]\n",
        "price_data = price_data['Q2'].value_counts()\n",
        "price_sum = price_data.sum()\n",
        "price_sum "
      ],
      "metadata": {
        "colab": {
          "base_uri": "https://localhost:8080/"
        },
        "id": "B2cDHNx4_x8X",
        "outputId": "a3472c75-5af9-4da0-eb85-fa99aeb2d90e"
      },
      "execution_count": 73,
      "outputs": [
        {
          "output_type": "execute_result",
          "data": {
            "text/plain": [
              "107"
            ]
          },
          "metadata": {},
          "execution_count": 73
        }
      ]
    },
    {
      "cell_type": "code",
      "source": [
        "safety_data = response_DF[(response_DF['Q2'] == 'Safety and Security') | (response_DF['Q2'] == 'Location, Amenities, Price, Safety and Security ') | (response_DF['Q2'] == 'Location, Price, Safety and Security') | (response_DF['Q2'] == 'Amenities, Price, Safety and Security') |(response_DF['Q2'] == 'Price, Safety and Security') | (response_DF['Q2'] == 'Location, Amenities, Price, Safety and Security, Cleanliness') | (response_DF['Q2'] == 'Location, Amenities, Price, Safety and Security, Nature attractions') | (response_DF['Q2'] == 'Location, Amenities, Price, Safety and Security, Food') | (response_DF['Q2'] == 'Location, Amenities, Safety and Security') | (response_DF['Q2'] == 'Location, Safety and Security') | (response_DF['Q2'] == 'Location, Amenities, Price, Safety and Security, Tourist Spots')]\n",
        "safety_data = safety_data['Q2'].value_counts()\n",
        "safety_sum = safety_data.sum()\n",
        "safety_sum"
      ],
      "metadata": {
        "colab": {
          "base_uri": "https://localhost:8080/"
        },
        "id": "xH_Ly2Aa6ELh",
        "outputId": "124aed07-1780-481c-ff96-36b5d00360bc"
      },
      "execution_count": 74,
      "outputs": [
        {
          "output_type": "execute_result",
          "data": {
            "text/plain": [
              "33"
            ]
          },
          "metadata": {},
          "execution_count": 74
        }
      ]
    },
    {
      "cell_type": "code",
      "source": [
        "clean_data = response_DF[(response_DF['Q2'] == 'Cleanliness') | (response_DF['Q2'] == 'Location, Amenities, Price, Safety and Security, Cleanliness')]\n",
        "clean_data = clean_data['Q2'].value_counts()\n",
        "clean_sum = clean_data.sum()\n",
        "clean_sum"
      ],
      "metadata": {
        "colab": {
          "base_uri": "https://localhost:8080/"
        },
        "id": "AGNKcbR1CE4A",
        "outputId": "2da14ee9-61a0-4b45-c914-916d4c7c8c3c"
      },
      "execution_count": 75,
      "outputs": [
        {
          "output_type": "execute_result",
          "data": {
            "text/plain": [
              "2"
            ]
          },
          "metadata": {},
          "execution_count": 75
        }
      ]
    },
    {
      "cell_type": "code",
      "source": [
        "nature_data = response_DF[(response_DF['Q2'] == 'Nature attractions') | (response_DF['Q2'] == 'Location, Amenities, Price, Safety and Security, Nature attractions')]\n",
        "nature_data = nature_data['Q2'].value_counts()\n",
        "nature_sum = nature_data.sum()\n",
        "nature_sum"
      ],
      "metadata": {
        "colab": {
          "base_uri": "https://localhost:8080/"
        },
        "id": "RRDgpGFVCfsz",
        "outputId": "9979828c-ee8f-4010-a66c-db5fbaa7e2a7"
      },
      "execution_count": 76,
      "outputs": [
        {
          "output_type": "execute_result",
          "data": {
            "text/plain": [
              "1"
            ]
          },
          "metadata": {},
          "execution_count": 76
        }
      ]
    },
    {
      "cell_type": "code",
      "source": [
        "food_data = response_DF[(response_DF['Q2'] == 'Food') | (response_DF['Q2'] == 'Location, Amenities, Price, Safety and Security, Food')]\n",
        "food_data = food_data['Q2'].value_counts()\n",
        "food_sum = food_data.sum()\n",
        "food_sum"
      ],
      "metadata": {
        "colab": {
          "base_uri": "https://localhost:8080/"
        },
        "id": "5_i1_RZIC_0A",
        "outputId": "d3921f55-922e-43d8-b346-1a282ba43c24"
      },
      "execution_count": 77,
      "outputs": [
        {
          "output_type": "execute_result",
          "data": {
            "text/plain": [
              "1"
            ]
          },
          "metadata": {},
          "execution_count": 77
        }
      ]
    },
    {
      "cell_type": "code",
      "source": [
        "tourist_data = response_DF[(response_DF['Q2'] == 'Tourist Spots') | (response_DF['Q2'] == 'Location, Amenities, Price, Safety and Security, Tourist Spots')]\n",
        "tourist_data = tourist_data['Q2'].value_counts()\n",
        "tourist_sum = tourist_data.sum()\n",
        "tourist_sum"
      ],
      "metadata": {
        "colab": {
          "base_uri": "https://localhost:8080/"
        },
        "id": "MikFICVJDVh2",
        "outputId": "bcc1c07e-550c-4f1b-a3ef-e611d2fb50c4"
      },
      "execution_count": 78,
      "outputs": [
        {
          "output_type": "execute_result",
          "data": {
            "text/plain": [
              "1"
            ]
          },
          "metadata": {},
          "execution_count": 78
        }
      ]
    },
    {
      "cell_type": "code",
      "source": [
        "plt.title('Factors to Consider in a Resort')\n",
        "plt.ylabel('Count')\n",
        "\n",
        "fig = plt.gcf()\n",
        "fig.set_size_inches(10, 5)\n",
        "\n",
        "x_loc=['Location']\n",
        "x_loc = np.arange(len(x_loc))\n",
        "\n",
        "x_amenities=['Amenities']\n",
        "x_amenities = np.arange(len(x_amenities))\n",
        "\n",
        "x_price =['Price']\n",
        "x_price = np.arange(len(x_price))\n",
        "\n",
        "x_safety =['Safety and Security']\n",
        "x_safety = np.arange(len(x_safety))\n",
        "\n",
        "x_clean =['Cleanliness']\n",
        "x_clean = np.arange(len(x_clean))\n",
        "\n",
        "x_nature =['Nature Attractions']\n",
        "x_nature = np.arange(len(x_nature))\n",
        "\n",
        "x_food =['Food']\n",
        "x_food = np.arange(len(x_food))\n",
        "\n",
        "x_tourist =['Tourist Spots']\n",
        "x_tourist = np.arange(len(x_tourist))\n",
        "\n",
        "plt.bar(x_loc + 1, loc_sum, 0.4, label='Location', color='lightcoral')\n",
        "plt.bar(x_amenities + 1.5, amenities_sum, 0.4, label='Amenities', color='teal')\n",
        "plt.bar(x_price + 2, price_sum, 0.4, label='Price', color='darkseagreen')\n",
        "plt.bar(x_clean + 2.5, clean_sum, 0.4, label='Cleanliness', color='peru')\n",
        "plt.bar(x_nature + 3, nature_sum, 0.4, label='Nature Attractions', color='darkslategrey')\n",
        "plt.bar(x_food + 3.5, food_sum, 0.4, label='Food', color='goldenrod')\n",
        "plt.bar(x_tourist + 4, tourist_sum, 0.4, label='Tourist Spots', color='palevioletred')\n",
        "plt.bar(x_safety + 4.5, safety_sum, 0.4, label='Safety and Security', color='rosybrown')\n",
        "\n",
        "\n",
        "plt.xticks([])\n",
        "plt.legend()\n",
        "plt.savefig('Q2.png', dpi=300, bbox_inches='tight')\n",
        "plt.show()"
      ],
      "metadata": {
        "colab": {
          "base_uri": "https://localhost:8080/",
          "height": 325
        },
        "id": "bwdEaSEdFvbt",
        "outputId": "8e350df1-74c2-4423-8de6-b4a3daccce12"
      },
      "execution_count": 81,
      "outputs": [
        {
          "output_type": "display_data",
          "data": {
            "text/plain": [
              "<Figure size 720x360 with 1 Axes>"
            ],
            "image/png": "[encoded data removed]"
          },
          "metadata": {}
        }
      ]
    },
    {
      "cell_type": "markdown",
      "source": [
        ">**Insights:**<br>\n",
        "<p align = Justify>Majority of the respondents are prioritizing the price when choosing for a pool resort. This is followed by other factors such as the amenities of the resort, location, and safety and security. Other respondents also answered that they are considering the cleanliness, atrractions, food, and tourist spots of the pool resort.  </p>"
      ],
      "metadata": {
        "id": "lCPB9YKgIFDP"
      }
    },
    {
      "cell_type": "markdown",
      "source": [
        "## Q3: Considering your characteristics and background knowledge in swimming, what height of the pool do you usually swim?"
      ],
      "metadata": {
        "id": "LZZTd1ZyIpov"
      }
    },
    {
      "cell_type": "code",
      "source": [
        "response_DF['Q3'].value_counts()"
      ],
      "metadata": {
        "id": "wLs80YtfIuCV",
        "colab": {
          "base_uri": "https://localhost:8080/"
        },
        "outputId": "03a2210e-ae9d-405b-f7bf-e9c1d9c95def"
      },
      "execution_count": 82,
      "outputs": [
        {
          "output_type": "execute_result",
          "data": {
            "text/plain": [
              "5ft     62\n",
              "4ft     30\n",
              "6ft     29\n",
              "7ft      8\n",
              "8ft      4\n",
              "10ft     3\n",
              "9ft      1\n",
              "Name: Q3, dtype: int64"
            ]
          },
          "metadata": {},
          "execution_count": 82
        }
      ]
    },
    {
      "cell_type": "code",
      "source": [
        "pool_height = response_DF.groupby('Q3')\n",
        "pool_height.size().plot(kind='barh', color='darkcyan')\n",
        "\n",
        "plt.ylabel('Pool Height')\n",
        "plt.title('Pool Height where the Respondents Usually Swim')\n",
        "plt.savefig('Q3.png', dpi=300, bbox_inches='tight')"
      ],
      "metadata": {
        "colab": {
          "base_uri": "https://localhost:8080/",
          "height": 284
        },
        "id": "Lf9UPGxQIP1-",
        "outputId": "4c71842d-67ee-423d-b41c-50109865baae"
      },
      "execution_count": 85,
      "outputs": [
        {
          "output_type": "display_data",
          "data": {
            "text/plain": [
              "<Figure size 432x288 with 1 Axes>"
            ],
            "image/png": "[encoded data removed]"
          },
          "metadata": {}
        }
      ]
    },
    {
      "cell_type": "markdown",
      "source": [
        ">**Insights:**\n",
        "<p align = Justify> The graph above shows the common pool height where the respondents mostly swim to, it ranges around 4ft - 6ft which can be correlated to the heights of the respondents. "
      ],
      "metadata": {
        "id": "kzydMU_uIWaT"
      }
    },
    {
      "cell_type": "code",
      "source": [
        "corre1_DF = response_DF[['Age', 'Height', 'Q3']]\n",
        "nQ3 = corre1_DF.Q3.str.replace('ft', '')\n",
        "corre1_DF['Q3'] = nQ3\n",
        "corre1_DF = corre1_DF.astype(float)"
      ],
      "metadata": {
        "colab": {
          "base_uri": "https://localhost:8080/"
        },
        "id": "h3pgyHHbITJR",
        "outputId": "c22caf22-282e-48c8-f975-7dea9b75f72f"
      },
      "execution_count": 151,
      "outputs": [
        {
          "output_type": "stream",
          "name": "stderr",
          "text": [
            "/usr/local/lib/python3.7/dist-packages/ipykernel_launcher.py:3: SettingWithCopyWarning: \n",
            "A value is trying to be set on a copy of a slice from a DataFrame.\n",
            "Try using .loc[row_indexer,col_indexer] = value instead\n",
            "\n",
            "See the caveats in the documentation: https://pandas.pydata.org/pandas-docs/stable/user_guide/indexing.html#returning-a-view-versus-a-copy\n",
            "  This is separate from the ipykernel package so we can avoid doing imports until\n"
          ]
        }
      ]
    },
    {
      "cell_type": "code",
      "source": [
        "sns.pairplot(corre1_DF, hue='Age')\n",
        "fig.set_size_inches(25, 10)\n",
        "\n",
        "plt.savefig('corre1.png', dpi=300, bbox_inches='tight')"
      ],
      "metadata": {
        "colab": {
          "base_uri": "https://localhost:8080/",
          "height": 372
        },
        "id": "IHb_6f9VIrIX",
        "outputId": "9e8a0ffe-e5d4-44b6-c7bc-d203a5882123"
      },
      "execution_count": 158,
      "outputs": [
        {
          "output_type": "display_data",
          "data": {
            "text/plain": [
              "<Figure size 413.6x360 with 6 Axes>"
            ],
            "image/png": "[encoded data removed]"
          },
          "metadata": {}
        }
      ]
    },
    {
      "cell_type": "markdown",
      "source": [
        ">**Insights:**\n",
        "<p align = Justify> The graph above shows the correlation between the height, age, and the height of the pool that the respondents mostly swim to. It shows that ages 16-32 with a height of around 5 ft mostly swim in pools 5-8ft."
      ],
      "metadata": {
        "id": "hvjfbfHRIvio"
      }
    },
    {
      "cell_type": "markdown",
      "source": [
        "## Q4: Did an accident of drowning occur to you or your companion?\n",
        "\n"
      ],
      "metadata": {
        "id": "uXFYIcFhIuie"
      }
    },
    {
      "cell_type": "code",
      "source": [
        "response_DF['Q4'].value_counts()"
      ],
      "metadata": {
        "colab": {
          "base_uri": "https://localhost:8080/"
        },
        "id": "omHMkFj6I_wF",
        "outputId": "b080ce41-f6a8-4841-ef6b-14511b57cfe2"
      },
      "execution_count": 86,
      "outputs": [
        {
          "output_type": "execute_result",
          "data": {
            "text/plain": [
              "No     92\n",
              "Yes    45\n",
              "Name: Q4, dtype: int64"
            ]
          },
          "metadata": {},
          "execution_count": 86
        }
      ]
    },
    {
      "cell_type": "code",
      "source": [
        "plt.title('Drowning Occurances')\n",
        "colors=['darkslategrey', 'lightcoral']\n",
        "\n",
        "response_DF['Q4'].value_counts().plot(kind='pie', colors=colors)\n",
        "\n",
        "plt.savefig('Q4.png', dpi=300, bbox_inches='tight')"
      ],
      "metadata": {
        "colab": {
          "base_uri": "https://localhost:8080/",
          "height": 264
        },
        "id": "zqd8W1BqJLd_",
        "outputId": "83e445c5-ebc6-4155-8dbe-5b7dcac47437"
      },
      "execution_count": 90,
      "outputs": [
        {
          "output_type": "display_data",
          "data": {
            "text/plain": [
              "<Figure size 432x288 with 1 Axes>"
            ],
            "image/png": "[encoded data removed]"
          },
          "metadata": {}
        }
      ]
    },
    {
      "cell_type": "markdown",
      "source": [
        ">**Insights:**<br>\n",
        "<p align = Justify> Majority of the respondents who answered the survey have not yet experience or seen any drowning and around 30% have. "
      ],
      "metadata": {
        "id": "0IMXxUH0JP4O"
      }
    },
    {
      "cell_type": "code",
      "source": [
        "corre2_DF = response_DF[['Height', 'Q3', 'Q4']]\n",
        "nQ3 = corre2_DF.Q3.str.replace('ft', '')\n",
        "corre2_DF['Q3'] = nQ3\n",
        "corre2_DF['Q4'] = corre2_DF.Q4.replace(to_replace=['No', 'Yes'], value=[0,1])\n",
        "corre2_DF = corre2_DF.astype(float)"
      ],
      "metadata": {
        "id": "FeVw4LAdJUdz",
        "colab": {
          "base_uri": "https://localhost:8080/"
        },
        "outputId": "8bbea37a-fa60-46c4-a650-11235beb7c34"
      },
      "execution_count": 160,
      "outputs": [
        {
          "output_type": "stream",
          "name": "stderr",
          "text": [
            "/usr/local/lib/python3.7/dist-packages/ipykernel_launcher.py:3: SettingWithCopyWarning: \n",
            "A value is trying to be set on a copy of a slice from a DataFrame.\n",
            "Try using .loc[row_indexer,col_indexer] = value instead\n",
            "\n",
            "See the caveats in the documentation: https://pandas.pydata.org/pandas-docs/stable/user_guide/indexing.html#returning-a-view-versus-a-copy\n",
            "  This is separate from the ipykernel package so we can avoid doing imports until\n",
            "/usr/local/lib/python3.7/dist-packages/ipykernel_launcher.py:4: SettingWithCopyWarning: \n",
            "A value is trying to be set on a copy of a slice from a DataFrame.\n",
            "Try using .loc[row_indexer,col_indexer] = value instead\n",
            "\n",
            "See the caveats in the documentation: https://pandas.pydata.org/pandas-docs/stable/user_guide/indexing.html#returning-a-view-versus-a-copy\n",
            "  after removing the cwd from sys.path.\n"
          ]
        }
      ]
    },
    {
      "cell_type": "code",
      "source": [
        "sns.pairplot(corre2_DF, hue='Q4')\n",
        "fig.set_size_inches(25, 10)\n",
        "\n",
        "plt.savefig('corre2.png', dpi=300, bbox_inches='tight')"
      ],
      "metadata": {
        "colab": {
          "base_uri": "https://localhost:8080/",
          "height": 372
        },
        "id": "ELN0EnkoJ-Kb",
        "outputId": "4c219fc7-6969-423b-cf7b-b54c1a2926bb"
      },
      "execution_count": 162,
      "outputs": [
        {
          "output_type": "display_data",
          "data": {
            "text/plain": [
              "<Figure size 416.975x360 with 6 Axes>"
            ],
            "image/png": "[encoded data removed]"
          },
          "metadata": {}
        }
      ]
    },
    {
      "cell_type": "markdown",
      "source": [
        ">**Insights:**\n",
        "<p align = Justify> The graph above shows the correlation of the respondent's Height, height of the pool, and the occurences of drowning. People who are around 5 ft in height and who swims in 6ft pools have experienced cases of drowning. Seen also that there are a few people who enjoys the 10 ft pool without experiencing drowning.</p>\n"
      ],
      "metadata": {
        "id": "3lGzWCLXKVdZ"
      }
    },
    {
      "cell_type": "markdown",
      "source": [
        "## Q5: What do you think are the possible reason behind drowning?"
      ],
      "metadata": {
        "id": "pgxQcLKKKYMQ"
      }
    },
    {
      "cell_type": "code",
      "source": [
        "col_panic = response_DF.Q5.str.replace('panic attacks from first experience of drowning', 'Panic')\n",
        "col_panic = response_DF.Q5.str.replace('PANIC', 'Panic')\n",
        "response_DF['Q5'] = col_panic"
      ],
      "metadata": {
        "id": "1OUxgu7RM5cy"
      },
      "execution_count": 91,
      "outputs": []
    },
    {
      "cell_type": "code",
      "source": [
        "col_slipped = response_DF.Q5.str.replace('slipped at the pool floor', 'Slippery Slide/Floor')\n",
        "col_slipped = response_DF.Q5.str.replace('slipped on the slide', 'Slippery Slide/Floor')\n",
        "response_DF['Q5'] = col_slipped"
      ],
      "metadata": {
        "id": "5mkCZOVhNyz2"
      },
      "execution_count": 95,
      "outputs": []
    },
    {
      "cell_type": "code",
      "source": [
        "response_DF['Q5'].value_counts()"
      ],
      "metadata": {
        "colab": {
          "base_uri": "https://localhost:8080/"
        },
        "id": "5-6Wpxw5Klvm",
        "outputId": "55d1517c-3de1-4b3f-bca1-43777f23a8c9"
      },
      "execution_count": 96,
      "outputs": [
        {
          "output_type": "execute_result",
          "data": {
            "text/plain": [
              "Not Learning How to Swim, Lack of Supervision                                                                                                          46\n",
              "Not Learning How to Swim, Lack of Supervision, Presence of Liquor, Improper Security                                                                   24\n",
              "Not Learning How to Swim, Lack of Supervision, Improper Security                                                                                       15\n",
              "Not Learning How to Swim, Presence of Liquor                                                                                                           12\n",
              "Not Learning How to Swim, Improper Security                                                                                                             8\n",
              "Lack of Supervision, Presence of Liquor                                                                                                                 7\n",
              "Not Learning How to Swim, Lack of Supervision, Presence of Liquor                                                                                       6\n",
              "Lack of Supervision, Improper Security                                                                                                                  6\n",
              "Presence of Liquor, Improper Security                                                                                                                   4\n",
              "Not Learning How to Swim, Lack of Supervision, Faulty Designs of the Pool (ex. tiles are too slippery, lack of lighting during night time swimming)     1\n",
              "Not Learning How to Swim, jumping with pants on                                                                                                         1\n",
              "Not Learning How to Swim, Lack of Supervision, floating Safety lines or guards                                                                          1\n",
              "Lack of Supervision, Presence of Liquor, Improper Security                                                                                              1\n",
              "Lack of Supervision                                                                                                                                     1\n",
              "Lack of Supervision, Slippery Slide/Floor                                                                                                               1\n",
              "Improper Security, Panic                                                                                                                                1\n",
              "Not Learning How to Swim, Lack of Supervision, panic attacks from first experience of drowning; Slippery Slide/Floor                                    1\n",
              "Not Learning How to Swim, Muscle Cramps                                                                                                                 1\n",
              "Name: Q5, dtype: int64"
            ]
          },
          "metadata": {},
          "execution_count": 96
        }
      ]
    },
    {
      "cell_type": "code",
      "source": [
        "swim_data = response_DF[(response_DF['Q5'] == 'Not Learning How to Swim') | (response_DF['Q5'] == 'Not Learning How to Swim, Lack of Supervision') | (response_DF['Q5'] == 'Not Learning How to Swim, Lack of Supervision, Presence of Liquor, Improper Security') | (response_DF['Q5'] == 'Not Learning How to Swim, Lack of Supervision, Improper Security') | (response_DF['Q5'] == 'Not Learning How to Swim, Presence of Liquor') | (response_DF['Q5'] == 'Not Learning How to Swim, Improper Security') | (response_DF['Q5'] == 'Not Learning How to Swim, Lack of Supervision, Presence of Liquor') | (response_DF['Q5'] == 'Not Learning How to Swim, Lack of Supervision, floating Safety lines or guards') | (response_DF['Q5'] == 'Not Learning How to Swim, Lack of Supervision, Faulty Designs of the Pool (ex. tiles are too slippery, lack of lighting during night time swimming)') | (response_DF['Q5'] == 'Not Learning How to Swim, Lack of Supervision, Panic; Slippery SLide/Floor') | (response_DF['Q5'] == 'Not Learning How to Swim, jumping with pants on')]\n",
        "swim_data = swim_data['Q5'].value_counts()\n",
        "swim_sum = swim_data.sum()\n",
        "swim_sum"
      ],
      "metadata": {
        "colab": {
          "base_uri": "https://localhost:8080/"
        },
        "id": "qFfPhD-yKy_Q",
        "outputId": "9ad105b9-1bee-4922-9b2d-327d0a936b34"
      },
      "execution_count": 97,
      "outputs": [
        {
          "output_type": "execute_result",
          "data": {
            "text/plain": [
              "114"
            ]
          },
          "metadata": {},
          "execution_count": 97
        }
      ]
    },
    {
      "cell_type": "code",
      "source": [
        "lack_data = response_DF[(response_DF['Q5'] == 'Lack of Supervision') | (response_DF['Q5'] == 'Not Learning How to Swim, Lack of Supervision') | (response_DF['Q5'] == 'Not Learning How to Swim, Lack of Supervision, Presence of Liquor, Improper Security') | (response_DF['Q5'] == 'Not Learning How to Swim, Lack of Supervision, Improper Security') | (response_DF['Q5'] == 'Lack of Supervision, Presence of Liquor') | (response_DF['Q5'] == 'Not Learning How to Swim, Lack of Supervision, Presence of Liquor') | (response_DF['Q5'] == 'Not Learning How to Swim, Lack of Supervision, floating Safety lines or guards') | (response_DF['Q5'] == 'Not Learning How to Swim, Lack of Supervision, Faulty Designs of the Pool (ex. tiles are too slippery, lack of lighting during night time swimming)') | (response_DF['Q5'] == 'Not Learning How to Swim, Lack of Supervision, Panic; Slippery Slide/Floor') | (response_DF['Q5'] == 'Lack of Supervision, Slippery Slide/Floor')]\n",
        "lack_data = lack_data['Q5'].value_counts()\n",
        "lack_sum = lack_data.sum()\n",
        "lack_sum"
      ],
      "metadata": {
        "colab": {
          "base_uri": "https://localhost:8080/"
        },
        "id": "hcMilBuwMpd1",
        "outputId": "fd5717de-aba5-4e67-9e27-aa68a1106623"
      },
      "execution_count": 98,
      "outputs": [
        {
          "output_type": "execute_result",
          "data": {
            "text/plain": [
              "102"
            ]
          },
          "metadata": {},
          "execution_count": 98
        }
      ]
    },
    {
      "cell_type": "code",
      "source": [
        "security_data = response_DF[(response_DF['Q5'] == 'Improper Security') | (response_DF['Q5'] == 'Not Learning How to Swim, Lack of Supervision, Presence of Liquor, Improper Security') | (response_DF['Q5'] == 'Not Learning How to Swim, Lack of Supervision, Improper Security') | (response_DF['Q5'] == 'Not Learning How to Swim, Improper Security') | (response_DF['Q5'] == 'Lack of Supervision, Improper Security') | (response_DF['Q5'] == 'Presence of Liquor, Improper Security') | (response_DF['Q5'] == 'Lack of Supervision, Presence of Liquor, Improper Security') | (response_DF['Q5'] == 'Improper Security, Panic')]\n",
        "security_data = security_data['Q5'].value_counts()\n",
        "security_sum = security_data.sum()\n",
        "security_sum"
      ],
      "metadata": {
        "colab": {
          "base_uri": "https://localhost:8080/"
        },
        "id": "qSwjM2lvQ9K1",
        "outputId": "72c5fb3e-550d-467d-c5f2-e39ff664cdec"
      },
      "execution_count": 99,
      "outputs": [
        {
          "output_type": "execute_result",
          "data": {
            "text/plain": [
              "59"
            ]
          },
          "metadata": {},
          "execution_count": 99
        }
      ]
    },
    {
      "cell_type": "code",
      "source": [
        "liquor_data = response_DF[(response_DF['Q5'] == 'Presence of Liquor') | (response_DF['Q5'] == 'Not Learning How to Swim, Lack of Supervision, Presence of Liquor, Improper Security') | (response_DF['Q5'] == 'Not Learning How to Swim, Presence of Liquor') | (response_DF['Q5'] == 'Lack of Supervision, Presence of Liquor') | (response_DF['Q5'] == 'Not Learning How to Swim, Lack of Supervision, Presence of Liquor') | (response_DF['Q5'] == 'Presence of Liquor, Improper Security') | (response_DF['Q5'] == 'Lack of Supervision, Presence of Liquor, Improper Security')]\n",
        "liquor_data = liquor_data['Q5'].value_counts()\n",
        "liquor_sum = liquor_data.sum()\n",
        "liquor_sum"
      ],
      "metadata": {
        "colab": {
          "base_uri": "https://localhost:8080/"
        },
        "id": "0FsphsiMSQSY",
        "outputId": "934055fe-ef36-49de-ef04-36421fd447d2"
      },
      "execution_count": 100,
      "outputs": [
        {
          "output_type": "execute_result",
          "data": {
            "text/plain": [
              "54"
            ]
          },
          "metadata": {},
          "execution_count": 100
        }
      ]
    },
    {
      "cell_type": "code",
      "source": [
        "safetyLines_data = response_DF[(response_DF['Q5'] == 'floating Safety lines or guards') | (response_DF['Q5'] == 'Not Learning How to Swim, Lack of Supervision, floating Safety lines or guards')]\n",
        "safetyLines_data = safetyLines_data['Q5'].value_counts()\n",
        "safetyLines_sum = safetyLines_data.sum()\n",
        "safetyLines_sum"
      ],
      "metadata": {
        "colab": {
          "base_uri": "https://localhost:8080/"
        },
        "id": "kk8mjElGTkns",
        "outputId": "5209dfee-bd69-43fb-9e1a-f96d16d71242"
      },
      "execution_count": 101,
      "outputs": [
        {
          "output_type": "execute_result",
          "data": {
            "text/plain": [
              "1"
            ]
          },
          "metadata": {},
          "execution_count": 101
        }
      ]
    },
    {
      "cell_type": "code",
      "source": [
        "faultyDes_data = response_DF[(response_DF['Q5'] == 'Faulty Designs of the Pool (ex. tiles are too slippery, lack of lighting during night time swimming)') | (response_DF['Q5'] == 'Not Learning How to Swim, Lack of Supervision, Faulty Designs of the Pool (ex. tiles are too slippery, lack of lighting during night time swimming)')]\n",
        "faultyDes_data = faultyDes_data['Q5'].value_counts()\n",
        "faultyDes_sum = faultyDes_data.sum()\n",
        "faultyDes_sum"
      ],
      "metadata": {
        "colab": {
          "base_uri": "https://localhost:8080/"
        },
        "id": "Va4Zcy3WUDFN",
        "outputId": "96ad9545-311d-41ff-d01a-18747f024ce1"
      },
      "execution_count": 102,
      "outputs": [
        {
          "output_type": "execute_result",
          "data": {
            "text/plain": [
              "1"
            ]
          },
          "metadata": {},
          "execution_count": 102
        }
      ]
    },
    {
      "cell_type": "code",
      "source": [
        "panic_data = response_DF[(response_DF['Q5'] == 'Panic') | (response_DF['Q5'] == 'Not Learning How to Swim, Lack of Supervision, Panic; Slippery Slide/Floor')| (response_DF['Q5'] == 'Improper Security, Panic')]\n",
        "panic_data = panic_data['Q5'].value_counts()\n",
        "panic_sum = panic_data.sum()\n",
        "panic_sum"
      ],
      "metadata": {
        "colab": {
          "base_uri": "https://localhost:8080/"
        },
        "id": "umcYKDrgUxPo",
        "outputId": "f19abf71-d970-49bc-a704-f4fde2f5c524"
      },
      "execution_count": 103,
      "outputs": [
        {
          "output_type": "execute_result",
          "data": {
            "text/plain": [
              "1"
            ]
          },
          "metadata": {},
          "execution_count": 103
        }
      ]
    },
    {
      "cell_type": "code",
      "source": [
        "slipped_data = response_DF[(response_DF['Q5'] == 'Slippery Slide/Floor') | (response_DF['Q5'] == 'Not Learning How to Swim, Lack of Supervision, Panic; Slippery Slide/Floor') | (response_DF['Q5'] == 'Lack of Supervision, Slippery Slide/Floor')]\n",
        "slipped_data = slipped_data['Q5'].value_counts()\n",
        "slipped_sum = slipped_data.sum()\n",
        "slipped_sum"
      ],
      "metadata": {
        "colab": {
          "base_uri": "https://localhost:8080/"
        },
        "id": "JUURIpaWVLul",
        "outputId": "46200f96-5a52-4267-ef72-3b90d6ebcc22"
      },
      "execution_count": 104,
      "outputs": [
        {
          "output_type": "execute_result",
          "data": {
            "text/plain": [
              "1"
            ]
          },
          "metadata": {},
          "execution_count": 104
        }
      ]
    },
    {
      "cell_type": "code",
      "source": [
        "jump_data = response_DF[(response_DF['Q5'] == 'jumping with pants on') | (response_DF['Q5'] == 'Not Learning How to Swim, jumping with pants on')]\n",
        "jump_data = jump_data['Q5'].value_counts()\n",
        "jump_sum = jump_data.sum()\n",
        "jump_sum"
      ],
      "metadata": {
        "colab": {
          "base_uri": "https://localhost:8080/"
        },
        "id": "GDFkhvUiVySM",
        "outputId": "b3c49e18-9da3-4681-d693-e506f12624b1"
      },
      "execution_count": 105,
      "outputs": [
        {
          "output_type": "execute_result",
          "data": {
            "text/plain": [
              "1"
            ]
          },
          "metadata": {},
          "execution_count": 105
        }
      ]
    },
    {
      "cell_type": "code",
      "source": [
        "cramps_data = response_DF[(response_DF['Q5'] == 'Muscle Cramps') | (response_DF['Q5'] == 'Not Learning How to Swim, Muscle Cramps')]\n",
        "cramps_data = cramps_data['Q5'].value_counts()\n",
        "cramps_sum = cramps_data.sum()\n",
        "cramps_sum"
      ],
      "metadata": {
        "colab": {
          "base_uri": "https://localhost:8080/"
        },
        "id": "Kc6u7SopKubX",
        "outputId": "74de2028-183e-47c7-b26e-5aba13e1b062"
      },
      "execution_count": 106,
      "outputs": [
        {
          "output_type": "execute_result",
          "data": {
            "text/plain": [
              "1"
            ]
          },
          "metadata": {},
          "execution_count": 106
        }
      ]
    },
    {
      "cell_type": "code",
      "source": [
        "plt.title('Probable Cause of Drowning')\n",
        "plt.ylabel('Count')\n",
        "\n",
        "fig = plt.gcf()\n",
        "fig.set_size_inches(15, 5)\n",
        "\n",
        "x_swim=['Not Learning How to Swim']\n",
        "x_swim = np.arange(len(x_swim))\n",
        "\n",
        "x_lack=['Lack of Supervision']\n",
        "x_lack = np.arange(len(x_lack))\n",
        "\n",
        "x_security =['Improper Security']\n",
        "x_security = np.arange(len(x_security))\n",
        "\n",
        "x_liquor =['Presence of Liquor']\n",
        "x_liquor = np.arange(len(x_liquor))\n",
        "\n",
        "x_safetyLines =['Incorrect Position of Floating Safety Lines']\n",
        "x_safetyLines = np.arange(len(x_safetyLines))\n",
        "\n",
        "x_faultyDes =['Faulty Design']\n",
        "x_faultyDes = np.arange(len(x_faultyDes))\n",
        "\n",
        "x_panic =['Panic']\n",
        "x_panic = np.arange(len(x_panic))\n",
        "\n",
        "x_slipped =['Slippery Slide/Floor']\n",
        "x_slipped = np.arange(len(x_slipped))\n",
        "\n",
        "x_jump =['Jumping']\n",
        "x_jump = np.arange(len(x_jump))\n",
        "\n",
        "x_cramps =['Muscle Cramps']\n",
        "x_cramps = np.arange(len(x_cramps))\n",
        "\n",
        "plt.bar(x_swim + 1, swim_sum, 0.4, label='Not Learning How to Swim', color='lightcoral')\n",
        "plt.bar(x_lack + 1.5, lack_sum, 0.4, label='Lack of Supervision', color='teal')\n",
        "plt.bar(x_security + 2, security_sum, 0.4, label='Improper Security', color='darkseagreen')\n",
        "plt.bar(x_liquor + 2.5, liquor_sum, 0.4, label='Presence of Liquor', color='peru')\n",
        "plt.bar(x_safetyLines + 3, safetyLines_sum, 0.4, label='Incorrect Position of Safety Lines', color='darkslategrey')\n",
        "plt.bar(x_faultyDes + 3.5, faultyDes_sum, 0.4, label='Faulty Design', color='goldenrod')\n",
        "plt.bar(x_panic + 4, panic_sum, 0.4, label='Panic', color='palevioletred')\n",
        "plt.bar(x_slipped + 4.5, slipped_sum, 0.4, label='Slippery Slide/Floor', color='rosybrown')\n",
        "plt.bar(x_jump + 5, jump_sum, 0.4, label='Jumping', color='salmon')\n",
        "plt.bar(x_cramps + 5.5, cramps_sum, 0.4, label='Muscle Cramps', color='steelblue')\n",
        "\n",
        "\n",
        "\n",
        "plt.xticks([])\n",
        "plt.legend()\n",
        "plt.savefig('Q5.png', dpi=300, bbox_inches='tight')\n",
        "plt.show()"
      ],
      "metadata": {
        "colab": {
          "base_uri": "https://localhost:8080/",
          "height": 325
        },
        "id": "yk6mdlUeW-ZV",
        "outputId": "23f3f2bf-a1c7-48cb-8ab9-b00f5e12c31e"
      },
      "execution_count": 107,
      "outputs": [
        {
          "output_type": "display_data",
          "data": {
            "text/plain": [
              "<Figure size 1080x360 with 1 Axes>"
            ],
            "image/png": "[encoded data removed]"
          },
          "metadata": {}
        }
      ]
    },
    {
      "cell_type": "markdown",
      "source": [
        ">**Insights:**\n",
        "<p align = Justify> The graph above shows the probable cause of drowning based on the survey respondents. Most of them answered improper security, Lack of Supervision and not learning how to swim, whereas the improper security could mean that there is no proper application of guidelines and no lifeguard to actually let the guests know what the rules are. </p>"
      ],
      "metadata": {
        "id": "14MK5KzdZigU"
      }
    },
    {
      "cell_type": "markdown",
      "source": [
        "## Q6: Are you aware of the resort's guidelines given by the management/resort?"
      ],
      "metadata": {
        "id": "iiBvIAkgZlfC"
      }
    },
    {
      "cell_type": "code",
      "source": [
        "response_DF['Q6'].value_counts()"
      ],
      "metadata": {
        "colab": {
          "base_uri": "https://localhost:8080/"
        },
        "id": "7eQgxh_sZrAt",
        "outputId": "259bcd5f-7ec4-409d-bca4-2cd2703f861d"
      },
      "execution_count": 108,
      "outputs": [
        {
          "output_type": "execute_result",
          "data": {
            "text/plain": [
              "Yes    120\n",
              "No      17\n",
              "Name: Q6, dtype: int64"
            ]
          },
          "metadata": {},
          "execution_count": 108
        }
      ]
    },
    {
      "cell_type": "code",
      "source": [
        "response_DF['Q6'].value_counts().plot(kind='pie', colors=colors)\n",
        "\n",
        "plt.title('Aware of the Guidelines Implementation')\n",
        "plt.savefig('Q6.png', dpi=300, bbox_inches='tight')"
      ],
      "metadata": {
        "colab": {
          "base_uri": "https://localhost:8080/",
          "height": 264
        },
        "id": "HH_NSkTZas26",
        "outputId": "e90c7aea-5044-49e3-f922-fdd85d571299"
      },
      "execution_count": 113,
      "outputs": [
        {
          "output_type": "display_data",
          "data": {
            "text/plain": [
              "<Figure size 432x288 with 1 Axes>"
            ],
            "image/png": "[encoded data removed]"
          },
          "metadata": {}
        }
      ]
    },
    {
      "cell_type": "markdown",
      "source": [
        ">**Insights:**\n",
        "<p align = Justify> Majority of the respondents are aware that there are guidelines being implemented in the resort that they are going through and still there are quite a few who are not, meaning there are resorts that have poor implementations that could lead to accidents."
      ],
      "metadata": {
        "id": "6VPdQxYkchBs"
      }
    },
    {
      "cell_type": "markdown",
      "source": [
        "## Q7: If yes, what are the ways of resort's implementation?"
      ],
      "metadata": {
        "id": "kWgBy0hnckKk"
      }
    },
    {
      "cell_type": "code",
      "source": [
        "col_lifeguard = response_DF.Q7.str.replace('Lifeguard on duty', 'Lifeguard')\n",
        "col_lifeguard = response_DF.Q7.str.replace('Life guard', 'Lifeguard')\n",
        "response_DF['Q7'] = col_lifeguard"
      ],
      "metadata": {
        "id": "eN7iQV35dSps"
      },
      "execution_count": 116,
      "outputs": []
    },
    {
      "cell_type": "code",
      "source": [
        "response_DF['Q7'].value_counts()"
      ],
      "metadata": {
        "colab": {
          "base_uri": "https://localhost:8080/"
        },
        "id": "8yWegxTRcpLO",
        "outputId": "777f7a7d-8698-47dd-d7ec-3ffaef2c83a1"
      },
      "execution_count": 117,
      "outputs": [
        {
          "output_type": "execute_result",
          "data": {
            "text/plain": [
              "Posters                                                                       38\n",
              "Terms and Agreement, Pre-orientation, Posters                                 26\n",
              "Terms and Agreement, Posters                                                  24\n",
              "Terms and Agreement                                                           15\n",
              "Terms and Agreement, Pre-orientation                                          10\n",
              "Pre-orientation                                                                5\n",
              "Pre-orientation, Posters                                                       2\n",
              "Terms and Agreement, Posters, Lifeguard on duty                                1\n",
              "Terms and Agreement, Pre-orientation, Posters, Lifeguard, security cameras     1\n",
              "Name: Q7, dtype: int64"
            ]
          },
          "metadata": {},
          "execution_count": 117
        }
      ]
    },
    {
      "cell_type": "code",
      "source": [
        "poster_data = response_DF[(response_DF['Q7'] == 'Posters') | (response_DF['Q7'] == 'Terms and Agreement, Posters') | (response_DF['Q7'] == 'Terms and Agreement, Pre-orientation, Posters') | (response_DF['Q7'] == 'Pre-orientation, Posters') | (response_DF['Q7'] == 'Terms and Agreement, Posters, Lifeguard') | (response_DF['Q7'] == 'Terms and Agreement, Pre-orientation, Posters, Lifeguard, security cameras')]\n",
        "poster_data = poster_data['Q7'].value_counts()\n",
        "poster_sum = poster_data.sum()\n",
        "poster_sum"
      ],
      "metadata": {
        "colab": {
          "base_uri": "https://localhost:8080/"
        },
        "id": "sritUjp_cyD7",
        "outputId": "61acb14b-d412-4448-d0fe-8f2cef9c7182"
      },
      "execution_count": 118,
      "outputs": [
        {
          "output_type": "execute_result",
          "data": {
            "text/plain": [
              "91"
            ]
          },
          "metadata": {},
          "execution_count": 118
        }
      ]
    },
    {
      "cell_type": "code",
      "source": [
        "terms_data = response_DF[(response_DF['Q7'] == 'Terms and Agreement') | (response_DF['Q7'] == 'Terms and Agreement, Posters') | (response_DF['Q7'] == 'Terms and Agreement, Pre-orientation, Posters') | (response_DF['Q7'] == 'Terms and Agreement, Pre-orientation') | (response_DF['Q7'] == 'Terms and Agreement, Posters, Lifeguard') | (response_DF['Q7'] == 'Terms and Agreement, Pre-orientation, Posters, Lifeguard, security cameras')]\n",
        "terms_data = terms_data['Q7'].value_counts()\n",
        "terms_sum = terms_data.sum()\n",
        "terms_sum"
      ],
      "metadata": {
        "colab": {
          "base_uri": "https://localhost:8080/"
        },
        "id": "1do-Mv-QeCs7",
        "outputId": "2a31fef5-f315-4559-eda3-f516eba4943a"
      },
      "execution_count": 119,
      "outputs": [
        {
          "output_type": "execute_result",
          "data": {
            "text/plain": [
              "76"
            ]
          },
          "metadata": {},
          "execution_count": 119
        }
      ]
    },
    {
      "cell_type": "code",
      "source": [
        "orientation_data = response_DF[(response_DF['Q7'] == 'Pre-orientation') | (response_DF['Q7'] == 'Terms and Agreement, Pre-orientation, Posters') | (response_DF['Q7'] == 'Terms and Agreement, Pre-orientation') | (response_DF['Q7'] == 'Pre-orientation, Posters') | (response_DF['Q7'] == 'Terms and Agreement, Pre-orientation, Posters, Lifeguard, security cameras')]\n",
        "orientation_data = orientation_data['Q7'].value_counts()\n",
        "orientation_sum = orientation_data.sum()\n",
        "orientation_sum"
      ],
      "metadata": {
        "colab": {
          "base_uri": "https://localhost:8080/"
        },
        "id": "_FV4BkIgeuE6",
        "outputId": "cc87b751-d22e-4f3c-b340-554ebd9868c0"
      },
      "execution_count": 120,
      "outputs": [
        {
          "output_type": "execute_result",
          "data": {
            "text/plain": [
              "44"
            ]
          },
          "metadata": {},
          "execution_count": 120
        }
      ]
    },
    {
      "cell_type": "code",
      "source": [
        "lifeguard_data = response_DF[(response_DF['Q7'] == 'Lifeguard') | (response_DF['Q7'] == 'Terms and Agreement, Posters, Lifeguard') | (response_DF['Q7'] == 'Terms and Agreement, Pre-orientation, Posters, Lifeguard, security cameras')]\n",
        "lifeguard_data = lifeguard_data['Q7'].value_counts()\n",
        "lifeguard_sum = lifeguard_data.sum()\n",
        "lifeguard_sum"
      ],
      "metadata": {
        "colab": {
          "base_uri": "https://localhost:8080/"
        },
        "id": "PfMHZ6IneuCc",
        "outputId": "ecf9c422-88a5-444c-d586-e716cf618f46"
      },
      "execution_count": 121,
      "outputs": [
        {
          "output_type": "execute_result",
          "data": {
            "text/plain": [
              "1"
            ]
          },
          "metadata": {},
          "execution_count": 121
        }
      ]
    },
    {
      "cell_type": "code",
      "source": [
        "cam_data = response_DF[(response_DF['Q7'] == 'security cameras') | (response_DF['Q7'] == 'Terms and Agreement, Pre-orientation, Posters, Lifeguard, security cameras')]\n",
        "cam_data = cam_data['Q7'].value_counts()\n",
        "cam_sum = cam_data.sum()\n",
        "cam_sum"
      ],
      "metadata": {
        "colab": {
          "base_uri": "https://localhost:8080/"
        },
        "id": "Udx_lcWHf54K",
        "outputId": "0ec3e44f-c65b-4cdc-910b-08bf73363931"
      },
      "execution_count": 122,
      "outputs": [
        {
          "output_type": "execute_result",
          "data": {
            "text/plain": [
              "1"
            ]
          },
          "metadata": {},
          "execution_count": 122
        }
      ]
    },
    {
      "cell_type": "code",
      "source": [
        "plt.title('Implementation of Guidelines')\n",
        "plt.ylabel('Count')\n",
        "\n",
        "fig = plt.gcf()\n",
        "fig.set_size_inches(10, 5)\n",
        "\n",
        "x_poster=['Posters']\n",
        "x_poster = np.arange(len(x_poster))\n",
        "\n",
        "x_terms=['Terms and Agreements']\n",
        "x_terms = np.arange(len(x_terms))\n",
        "\n",
        "x_orientation =['Pre-orientation']\n",
        "x_orientation = np.arange(len(x_orientation))\n",
        "\n",
        "x_lifeguard =['Lifeguard']\n",
        "x_lifeguard = np.arange(len(x_lifeguard))\n",
        "\n",
        "x_cam =['Security Cameras']\n",
        "x_cam = np.arange(len(x_cam))\n",
        "\n",
        "plt.bar(x_poster + 1, poster_sum, 0.4, label='Posters', color='lightcoral')\n",
        "plt.bar(x_terms + 1.5, terms_sum, 0.4, label='Terms and Agreements', color='teal')\n",
        "plt.bar(x_orientation + 2, orientation_sum, 0.4, label='Pre-orientation', color='darkseagreen')\n",
        "plt.bar(x_lifeguard + 2.5, lifeguard_sum, 0.4, label='Lifeguard', color='peru')\n",
        "plt.bar(x_cam + 3, cam_sum, 0.4, label='Security Cameras', color='rosybrown')\n",
        "\n",
        "plt.xticks([])\n",
        "plt.legend()\n",
        "plt.savefig('Q7.png', dpi=300, bbox_inches='tight')\n",
        "plt.show()"
      ],
      "metadata": {
        "id": "NxlR6gangzrP",
        "colab": {
          "base_uri": "https://localhost:8080/",
          "height": 325
        },
        "outputId": "69c247ee-63f5-427e-a24d-c3312e38feba"
      },
      "execution_count": 125,
      "outputs": [
        {
          "output_type": "display_data",
          "data": {
            "text/plain": [
              "<Figure size 720x360 with 1 Axes>"
            ],
            "image/png": "[encoded data removed]"
          },
          "metadata": {}
        }
      ]
    },
    {
      "cell_type": "markdown",
      "source": [
        ">**Insights:**\n",
        "<p align = Justify> Most of the respondents answered terms and agreements, poster, and pre orientation within the resort they have been through. There are only a few who answered lifeguards and Security Cameras which can be worrisome since some will only forget what they have been said or written on the terms. "
      ],
      "metadata": {
        "id": "-SWLK4oCiLV-"
      }
    },
    {
      "cell_type": "markdown",
      "source": [
        "## Q8: Which of the following actions did you take in case an accident of drowning occur?"
      ],
      "metadata": {
        "id": "wAS9WNRdiOlX"
      }
    },
    {
      "cell_type": "code",
      "source": [
        "col_shout = response_DF.Q8.str.replace('SHOUT FOR HELP', 'Shout for Help')\n",
        "response_DF['Q8'] = col_shout"
      ],
      "metadata": {
        "id": "KJ4VsMTZir82"
      },
      "execution_count": 126,
      "outputs": []
    },
    {
      "cell_type": "code",
      "source": [
        "response_DF['Q8'].value_counts()"
      ],
      "metadata": {
        "colab": {
          "base_uri": "https://localhost:8080/"
        },
        "id": "Vp4Wi9PYiSQv",
        "outputId": "0c3d1f82-e38a-4a94-de39-d5baf60d5f60"
      },
      "execution_count": 127,
      "outputs": [
        {
          "output_type": "execute_result",
          "data": {
            "text/plain": [
              "Call the attention of the management    58\n",
              "Call medical attention                  41\n",
              "Perform emergency aid                   35\n",
              "Shout for Help                           1\n",
              "call the instructor                      1\n",
              "Go home                                  1\n",
              "Name: Q8, dtype: int64"
            ]
          },
          "metadata": {},
          "execution_count": 127
        }
      ]
    },
    {
      "cell_type": "code",
      "source": [
        "question_8 = response_DF.groupby('Q8')\n",
        "question_8.size().plot(kind='barh', color='darkcyan')\n",
        "\n",
        "plt.title('Actions when Drowning')\n",
        "plt.ylabel('Question 8')\n",
        "\n",
        "plt.savefig('Q8.png', dpi=300, bbox_inches='tight')"
      ],
      "metadata": {
        "colab": {
          "base_uri": "https://localhost:8080/",
          "height": 284
        },
        "id": "wk_IlsWwi8JO",
        "outputId": "36f4ca7b-6cda-423b-b522-9c8fc9d2c78a"
      },
      "execution_count": 129,
      "outputs": [
        {
          "output_type": "display_data",
          "data": {
            "text/plain": [
              "<Figure size 432x288 with 1 Axes>"
            ],
            "image/png": "[encoded data removed]"
          },
          "metadata": {}
        }
      ]
    },
    {
      "cell_type": "markdown",
      "source": [
        ">**Insights:** \n",
        "<p align = Justify> The graph above shows what the respondents would do in case an accident like drowning would occur. Most of them would call the attention of the management, call medical attention, then perform emergency aid for those who are knowledgable and knows how to do so. </p>"
      ],
      "metadata": {
        "id": "UdkaFdpEjT4L"
      }
    },
    {
      "cell_type": "markdown",
      "source": [
        "## Q9: What are your expectations of the resort on handling such cases?"
      ],
      "metadata": {
        "id": "WvNbnk2GjXw8"
      }
    },
    {
      "cell_type": "code",
      "source": [
        "mapping_DF = pd.read_csv('/content/Q9.csv')\n",
        "mapping_DF"
      ],
      "metadata": {
        "colab": {
          "base_uri": "https://localhost:8080/",
          "height": 485
        },
        "id": "aXlJUoZbjbNn",
        "outputId": "0cfc4656-4963-4027-e7bf-5844827b17f3"
      },
      "execution_count": 135,
      "outputs": [
        {
          "output_type": "execute_result",
          "data": {
            "text/plain": [
              "     Lifeguard  Medical Attention  Immediate Response  Safety Protocol  \\\n",
              "0            1                  1                   0                0   \n",
              "1            0                  0                   1                0   \n",
              "2            1                  0                   1                0   \n",
              "3            0                  0                   0                1   \n",
              "4            0                  0                   1                1   \n",
              "..         ...                ...                 ...              ...   \n",
              "133          0                  0                   1                0   \n",
              "134          0                  0                   1                0   \n",
              "135          0                  1                   0                0   \n",
              "136          0                  0                   0                0   \n",
              "137          0                  0                   0                0   \n",
              "\n",
              "     Be Alert  Legal Response  Improve Safety and Security  Proper Training  \\\n",
              "0           0               0                            0                0   \n",
              "1           0               0                            0                0   \n",
              "2           0               0                            0                0   \n",
              "3           0               0                            0                0   \n",
              "4           0               0                            0                0   \n",
              "..        ...             ...                          ...              ...   \n",
              "133         0               0                            0                0   \n",
              "134         0               0                            0                0   \n",
              "135         0               0                            0                0   \n",
              "136         1               0                            0                0   \n",
              "137         0               0                            0                0   \n",
              "\n",
              "     Expenses  Responsible  \n",
              "0           0            0  \n",
              "1           0            0  \n",
              "2           0            0  \n",
              "3           0            0  \n",
              "4           0            0  \n",
              "..        ...          ...  \n",
              "133         0            0  \n",
              "134         0            0  \n",
              "135         0            0  \n",
              "136         0            0  \n",
              "137         0            1  \n",
              "\n",
              "[138 rows x 10 columns]"
            ],
            "text/html": [
              "\n",
              "  <div id=\"df-634186d3-685a-46a2-aa03-22a361ba49f4\">\n",
              "    <div class=\"colab-df-container\">\n",
              "      <div>\n",
              "<style scoped>\n",
              "    .dataframe tbody tr th:only-of-type {\n",
              "        vertical-align: middle;\n",
              "    }\n",
              "\n",
              "    .dataframe tbody tr th {\n",
              "        vertical-align: top;\n",
              "    }\n",
              "\n",
              "    .dataframe thead th {\n",
              "        text-align: right;\n",
              "    }\n",
              "</style>\n",
              "<table border=\"1\" class=\"dataframe\">\n",
              "  <thead>\n",
              "    <tr style=\"text-align: right;\">\n",
              "      <th></th>\n",
              "      <th>Lifeguard</th>\n",
              "      <th>Medical Attention</th>\n",
              "      <th>Immediate Response</th>\n",
              "      <th>Safety Protocol</th>\n",
              "      <th>Be Alert</th>\n",
              "      <th>Legal Response</th>\n",
              "      <th>Improve Safety and Security</th>\n",
              "      <th>Proper Training</th>\n",
              "      <th>Expenses</th>\n",
              "      <th>Responsible</th>\n",
              "    </tr>\n",
              "  </thead>\n",
              "  <tbody>\n",
              "    <tr>\n",
              "      <th>0</th>\n",
              "      <td>1</td>\n",
              "      <td>1</td>\n",
              "      <td>0</td>\n",
              "      <td>0</td>\n",
              "      <td>0</td>\n",
              "      <td>0</td>\n",
              "      <td>0</td>\n",
              "      <td>0</td>\n",
              "      <td>0</td>\n",
              "      <td>0</td>\n",
              "    </tr>\n",
              "    <tr>\n",
              "      <th>1</th>\n",
              "      <td>0</td>\n",
              "      <td>0</td>\n",
              "      <td>1</td>\n",
              "      <td>0</td>\n",
              "      <td>0</td>\n",
              "      <td>0</td>\n",
              "      <td>0</td>\n",
              "      <td>0</td>\n",
              "      <td>0</td>\n",
              "      <td>0</td>\n",
              "    </tr>\n",
              "    <tr>\n",
              "      <th>2</th>\n",
              "      <td>1</td>\n",
              "      <td>0</td>\n",
              "      <td>1</td>\n",
              "      <td>0</td>\n",
              "      <td>0</td>\n",
              "      <td>0</td>\n",
              "      <td>0</td>\n",
              "      <td>0</td>\n",
              "      <td>0</td>\n",
              "      <td>0</td>\n",
              "    </tr>\n",
              "    <tr>\n",
              "      <th>3</th>\n",
              "      <td>0</td>\n",
              "      <td>0</td>\n",
              "      <td>0</td>\n",
              "      <td>1</td>\n",
              "      <td>0</td>\n",
              "      <td>0</td>\n",
              "      <td>0</td>\n",
              "      <td>0</td>\n",
              "      <td>0</td>\n",
              "      <td>0</td>\n",
              "    </tr>\n",
              "    <tr>\n",
              "      <th>4</th>\n",
              "      <td>0</td>\n",
              "      <td>0</td>\n",
              "      <td>1</td>\n",
              "      <td>1</td>\n",
              "      <td>0</td>\n",
              "      <td>0</td>\n",
              "      <td>0</td>\n",
              "      <td>0</td>\n",
              "      <td>0</td>\n",
              "      <td>0</td>\n",
              "    </tr>\n",
              "    <tr>\n",
              "      <th>...</th>\n",
              "      <td>...</td>\n",
              "      <td>...</td>\n",
              "      <td>...</td>\n",
              "      <td>...</td>\n",
              "      <td>...</td>\n",
              "      <td>...</td>\n",
              "      <td>...</td>\n",
              "      <td>...</td>\n",
              "      <td>...</td>\n",
              "      <td>...</td>\n",
              "    </tr>\n",
              "    <tr>\n",
              "      <th>133</th>\n",
              "      <td>0</td>\n",
              "      <td>0</td>\n",
              "      <td>1</td>\n",
              "      <td>0</td>\n",
              "      <td>0</td>\n",
              "      <td>0</td>\n",
              "      <td>0</td>\n",
              "      <td>0</td>\n",
              "      <td>0</td>\n",
              "      <td>0</td>\n",
              "    </tr>\n",
              "    <tr>\n",
              "      <th>134</th>\n",
              "      <td>0</td>\n",
              "      <td>0</td>\n",
              "      <td>1</td>\n",
              "      <td>0</td>\n",
              "      <td>0</td>\n",
              "      <td>0</td>\n",
              "      <td>0</td>\n",
              "      <td>0</td>\n",
              "      <td>0</td>\n",
              "      <td>0</td>\n",
              "    </tr>\n",
              "    <tr>\n",
              "      <th>135</th>\n",
              "      <td>0</td>\n",
              "      <td>1</td>\n",
              "      <td>0</td>\n",
              "      <td>0</td>\n",
              "      <td>0</td>\n",
              "      <td>0</td>\n",
              "      <td>0</td>\n",
              "      <td>0</td>\n",
              "      <td>0</td>\n",
              "      <td>0</td>\n",
              "    </tr>\n",
              "    <tr>\n",
              "      <th>136</th>\n",
              "      <td>0</td>\n",
              "      <td>0</td>\n",
              "      <td>0</td>\n",
              "      <td>0</td>\n",
              "      <td>1</td>\n",
              "      <td>0</td>\n",
              "      <td>0</td>\n",
              "      <td>0</td>\n",
              "      <td>0</td>\n",
              "      <td>0</td>\n",
              "    </tr>\n",
              "    <tr>\n",
              "      <th>137</th>\n",
              "      <td>0</td>\n",
              "      <td>0</td>\n",
              "      <td>0</td>\n",
              "      <td>0</td>\n",
              "      <td>0</td>\n",
              "      <td>0</td>\n",
              "      <td>0</td>\n",
              "      <td>0</td>\n",
              "      <td>0</td>\n",
              "      <td>1</td>\n",
              "    </tr>\n",
              "  </tbody>\n",
              "</table>\n",
              "<p>138 rows × 10 columns</p>\n",
              "</div>\n",
              "      <button class=\"colab-df-convert\" onclick=\"convertToInteractive('df-634186d3-685a-46a2-aa03-22a361ba49f4')\"\n",
              "              title=\"Convert this dataframe to an interactive table.\"\n",
              "              style=\"display:none;\">\n",
              "        \n",
              "  <svg xmlns=\"http://www.w3.org/2000/svg\" height=\"24px\"viewBox=\"0 0 24 24\"\n",
              "       width=\"24px\">\n",
              "    <path d=\"M0 0h24v24H0V0z\" fill=\"none\"/>\n",
              "    <path d=\"M18.56 5.44l.94 2.06.94-2.06 2.06-.94-2.06-.94-.94-2.06-.94 2.06-2.06.94zm-11 1L8.5 8.5l.94-2.06 2.06-.94-2.06-.94L8.5 2.5l-.94 2.06-2.06.94zm10 10l.94 2.06.94-2.06 2.06-.94-2.06-.94-.94-2.06-.94 2.06-2.06.94z\"/><path d=\"M17.41 7.96l-1.37-1.37c-.4-.4-.92-.59-1.43-.59-.52 0-1.04.2-1.43.59L10.3 9.45l-7.72 7.72c-.78.78-.78 2.05 0 2.83L4 21.41c.39.39.9.59 1.41.59.51 0 1.02-.2 1.41-.59l7.78-7.78 2.81-2.81c.8-.78.8-2.07 0-2.86zM5.41 20L4 18.59l7.72-7.72 1.47 1.35L5.41 20z\"/>\n",
              "  </svg>\n",
              "      </button>\n",
              "      \n",
              "  <style>\n",
              "    .colab-df-container {\n",
              "      display:flex;\n",
              "      flex-wrap:wrap;\n",
              "      gap: 12px;\n",
              "    }\n",
              "\n",
              "    .colab-df-convert {\n",
              "      background-color: #E8F0FE;\n",
              "      border: none;\n",
              "      border-radius: 50%;\n",
              "      cursor: pointer;\n",
              "      display: none;\n",
              "      fill: #1967D2;\n",
              "      height: 32px;\n",
              "      padding: 0 0 0 0;\n",
              "      width: 32px;\n",
              "    }\n",
              "\n",
              "    .colab-df-convert:hover {\n",
              "      background-color: #E2EBFA;\n",
              "      box-shadow: 0px 1px 2px rgba(60, 64, 67, 0.3), 0px 1px 3px 1px rgba(60, 64, 67, 0.15);\n",
              "      fill: #174EA6;\n",
              "    }\n",
              "\n",
              "    [theme=dark] .colab-df-convert {\n",
              "      background-color: #3B4455;\n",
              "      fill: #D2E3FC;\n",
              "    }\n",
              "\n",
              "    [theme=dark] .colab-df-convert:hover {\n",
              "      background-color: #434B5C;\n",
              "      box-shadow: 0px 1px 3px 1px rgba(0, 0, 0, 0.15);\n",
              "      filter: drop-shadow(0px 1px 2px rgba(0, 0, 0, 0.3));\n",
              "      fill: #FFFFFF;\n",
              "    }\n",
              "  </style>\n",
              "\n",
              "      <script>\n",
              "        const buttonEl =\n",
              "          document.querySelector('#df-634186d3-685a-46a2-aa03-22a361ba49f4 button.colab-df-convert');\n",
              "        buttonEl.style.display =\n",
              "          google.colab.kernel.accessAllowed ? 'block' : 'none';\n",
              "\n",
              "        async function convertToInteractive(key) {\n",
              "          const element = document.querySelector('#df-634186d3-685a-46a2-aa03-22a361ba49f4');\n",
              "          const dataTable =\n",
              "            await google.colab.kernel.invokeFunction('convertToInteractive',\n",
              "                                                     [key], {});\n",
              "          if (!dataTable) return;\n",
              "\n",
              "          const docLinkHtml = 'Like what you see? Visit the ' +\n",
              "            '<a target=\"_blank\" href=https://colab.research.google.com/notebooks/data_table.ipynb>data table notebook</a>'\n",
              "            + ' to learn more about interactive tables.';\n",
              "          element.innerHTML = '';\n",
              "          dataTable['output_type'] = 'display_data';\n",
              "          await google.colab.output.renderOutput(dataTable, element);\n",
              "          const docLink = document.createElement('div');\n",
              "          docLink.innerHTML = docLinkHtml;\n",
              "          element.appendChild(docLink);\n",
              "        }\n",
              "      </script>\n",
              "    </div>\n",
              "  </div>\n",
              "  "
            ]
          },
          "metadata": {},
          "execution_count": 135
        }
      ]
    },
    {
      "cell_type": "code",
      "source": [
        "Q9df = mapping_DF.copy()\n",
        "Q9df.head(10)"
      ],
      "metadata": {
        "colab": {
          "base_uri": "https://localhost:8080/",
          "height": 407
        },
        "id": "4_Fj9Z7dqGEg",
        "outputId": "dfe48d89-cdbd-4924-81fa-0eccf3fb1cf9"
      },
      "execution_count": 136,
      "outputs": [
        {
          "output_type": "execute_result",
          "data": {
            "text/plain": [
              "   Lifeguard  Medical Attention  Immediate Response  Safety Protocol  \\\n",
              "0          1                  1                   0                0   \n",
              "1          0                  0                   1                0   \n",
              "2          1                  0                   1                0   \n",
              "3          0                  0                   0                1   \n",
              "4          0                  0                   1                1   \n",
              "5          0                  0                   1                1   \n",
              "6          0                  0                   1                0   \n",
              "7          0                  1                   0                0   \n",
              "8          0                  0                   0                0   \n",
              "9          0                  0                   1                0   \n",
              "\n",
              "   Be Alert  Legal Response  Improve Safety and Security  Proper Training  \\\n",
              "0         0               0                            0                0   \n",
              "1         0               0                            0                0   \n",
              "2         0               0                            0                0   \n",
              "3         0               0                            0                0   \n",
              "4         0               0                            0                0   \n",
              "5         0               0                            0                0   \n",
              "6         0               0                            0                0   \n",
              "7         0               0                            1                0   \n",
              "8         0               1                            0                0   \n",
              "9         0               0                            0                0   \n",
              "\n",
              "   Expenses  Responsible  \n",
              "0         0            0  \n",
              "1         0            0  \n",
              "2         0            0  \n",
              "3         0            0  \n",
              "4         0            0  \n",
              "5         0            0  \n",
              "6         0            0  \n",
              "7         0            0  \n",
              "8         0            0  \n",
              "9         0            0  "
            ],
            "text/html": [
              "\n",
              "  <div id=\"df-7ef11c38-86cc-4b87-83ca-5c6160c8abf5\">\n",
              "    <div class=\"colab-df-container\">\n",
              "      <div>\n",
              "<style scoped>\n",
              "    .dataframe tbody tr th:only-of-type {\n",
              "        vertical-align: middle;\n",
              "    }\n",
              "\n",
              "    .dataframe tbody tr th {\n",
              "        vertical-align: top;\n",
              "    }\n",
              "\n",
              "    .dataframe thead th {\n",
              "        text-align: right;\n",
              "    }\n",
              "</style>\n",
              "<table border=\"1\" class=\"dataframe\">\n",
              "  <thead>\n",
              "    <tr style=\"text-align: right;\">\n",
              "      <th></th>\n",
              "      <th>Lifeguard</th>\n",
              "      <th>Medical Attention</th>\n",
              "      <th>Immediate Response</th>\n",
              "      <th>Safety Protocol</th>\n",
              "      <th>Be Alert</th>\n",
              "      <th>Legal Response</th>\n",
              "      <th>Improve Safety and Security</th>\n",
              "      <th>Proper Training</th>\n",
              "      <th>Expenses</th>\n",
              "      <th>Responsible</th>\n",
              "    </tr>\n",
              "  </thead>\n",
              "  <tbody>\n",
              "    <tr>\n",
              "      <th>0</th>\n",
              "      <td>1</td>\n",
              "      <td>1</td>\n",
              "      <td>0</td>\n",
              "      <td>0</td>\n",
              "      <td>0</td>\n",
              "      <td>0</td>\n",
              "      <td>0</td>\n",
              "      <td>0</td>\n",
              "      <td>0</td>\n",
              "      <td>0</td>\n",
              "    </tr>\n",
              "    <tr>\n",
              "      <th>1</th>\n",
              "      <td>0</td>\n",
              "      <td>0</td>\n",
              "      <td>1</td>\n",
              "      <td>0</td>\n",
              "      <td>0</td>\n",
              "      <td>0</td>\n",
              "      <td>0</td>\n",
              "      <td>0</td>\n",
              "      <td>0</td>\n",
              "      <td>0</td>\n",
              "    </tr>\n",
              "    <tr>\n",
              "      <th>2</th>\n",
              "      <td>1</td>\n",
              "      <td>0</td>\n",
              "      <td>1</td>\n",
              "      <td>0</td>\n",
              "      <td>0</td>\n",
              "      <td>0</td>\n",
              "      <td>0</td>\n",
              "      <td>0</td>\n",
              "      <td>0</td>\n",
              "      <td>0</td>\n",
              "    </tr>\n",
              "    <tr>\n",
              "      <th>3</th>\n",
              "      <td>0</td>\n",
              "      <td>0</td>\n",
              "      <td>0</td>\n",
              "      <td>1</td>\n",
              "      <td>0</td>\n",
              "      <td>0</td>\n",
              "      <td>0</td>\n",
              "      <td>0</td>\n",
              "      <td>0</td>\n",
              "      <td>0</td>\n",
              "    </tr>\n",
              "    <tr>\n",
              "      <th>4</th>\n",
              "      <td>0</td>\n",
              "      <td>0</td>\n",
              "      <td>1</td>\n",
              "      <td>1</td>\n",
              "      <td>0</td>\n",
              "      <td>0</td>\n",
              "      <td>0</td>\n",
              "      <td>0</td>\n",
              "      <td>0</td>\n",
              "      <td>0</td>\n",
              "    </tr>\n",
              "    <tr>\n",
              "      <th>5</th>\n",
              "      <td>0</td>\n",
              "      <td>0</td>\n",
              "      <td>1</td>\n",
              "      <td>1</td>\n",
              "      <td>0</td>\n",
              "      <td>0</td>\n",
              "      <td>0</td>\n",
              "      <td>0</td>\n",
              "      <td>0</td>\n",
              "      <td>0</td>\n",
              "    </tr>\n",
              "    <tr>\n",
              "      <th>6</th>\n",
              "      <td>0</td>\n",
              "      <td>0</td>\n",
              "      <td>1</td>\n",
              "      <td>0</td>\n",
              "      <td>0</td>\n",
              "      <td>0</td>\n",
              "      <td>0</td>\n",
              "      <td>0</td>\n",
              "      <td>0</td>\n",
              "      <td>0</td>\n",
              "    </tr>\n",
              "    <tr>\n",
              "      <th>7</th>\n",
              "      <td>0</td>\n",
              "      <td>1</td>\n",
              "      <td>0</td>\n",
              "      <td>0</td>\n",
              "      <td>0</td>\n",
              "      <td>0</td>\n",
              "      <td>1</td>\n",
              "      <td>0</td>\n",
              "      <td>0</td>\n",
              "      <td>0</td>\n",
              "    </tr>\n",
              "    <tr>\n",
              "      <th>8</th>\n",
              "      <td>0</td>\n",
              "      <td>0</td>\n",
              "      <td>0</td>\n",
              "      <td>0</td>\n",
              "      <td>0</td>\n",
              "      <td>1</td>\n",
              "      <td>0</td>\n",
              "      <td>0</td>\n",
              "      <td>0</td>\n",
              "      <td>0</td>\n",
              "    </tr>\n",
              "    <tr>\n",
              "      <th>9</th>\n",
              "      <td>0</td>\n",
              "      <td>0</td>\n",
              "      <td>1</td>\n",
              "      <td>0</td>\n",
              "      <td>0</td>\n",
              "      <td>0</td>\n",
              "      <td>0</td>\n",
              "      <td>0</td>\n",
              "      <td>0</td>\n",
              "      <td>0</td>\n",
              "    </tr>\n",
              "  </tbody>\n",
              "</table>\n",
              "</div>\n",
              "      <button class=\"colab-df-convert\" onclick=\"convertToInteractive('df-7ef11c38-86cc-4b87-83ca-5c6160c8abf5')\"\n",
              "              title=\"Convert this dataframe to an interactive table.\"\n",
              "              style=\"display:none;\">\n",
              "        \n",
              "  <svg xmlns=\"http://www.w3.org/2000/svg\" height=\"24px\"viewBox=\"0 0 24 24\"\n",
              "       width=\"24px\">\n",
              "    <path d=\"M0 0h24v24H0V0z\" fill=\"none\"/>\n",
              "    <path d=\"M18.56 5.44l.94 2.06.94-2.06 2.06-.94-2.06-.94-.94-2.06-.94 2.06-2.06.94zm-11 1L8.5 8.5l.94-2.06 2.06-.94-2.06-.94L8.5 2.5l-.94 2.06-2.06.94zm10 10l.94 2.06.94-2.06 2.06-.94-2.06-.94-.94-2.06-.94 2.06-2.06.94z\"/><path d=\"M17.41 7.96l-1.37-1.37c-.4-.4-.92-.59-1.43-.59-.52 0-1.04.2-1.43.59L10.3 9.45l-7.72 7.72c-.78.78-.78 2.05 0 2.83L4 21.41c.39.39.9.59 1.41.59.51 0 1.02-.2 1.41-.59l7.78-7.78 2.81-2.81c.8-.78.8-2.07 0-2.86zM5.41 20L4 18.59l7.72-7.72 1.47 1.35L5.41 20z\"/>\n",
              "  </svg>\n",
              "      </button>\n",
              "      \n",
              "  <style>\n",
              "    .colab-df-container {\n",
              "      display:flex;\n",
              "      flex-wrap:wrap;\n",
              "      gap: 12px;\n",
              "    }\n",
              "\n",
              "    .colab-df-convert {\n",
              "      background-color: #E8F0FE;\n",
              "      border: none;\n",
              "      border-radius: 50%;\n",
              "      cursor: pointer;\n",
              "      display: none;\n",
              "      fill: #1967D2;\n",
              "      height: 32px;\n",
              "      padding: 0 0 0 0;\n",
              "      width: 32px;\n",
              "    }\n",
              "\n",
              "    .colab-df-convert:hover {\n",
              "      background-color: #E2EBFA;\n",
              "      box-shadow: 0px 1px 2px rgba(60, 64, 67, 0.3), 0px 1px 3px 1px rgba(60, 64, 67, 0.15);\n",
              "      fill: #174EA6;\n",
              "    }\n",
              "\n",
              "    [theme=dark] .colab-df-convert {\n",
              "      background-color: #3B4455;\n",
              "      fill: #D2E3FC;\n",
              "    }\n",
              "\n",
              "    [theme=dark] .colab-df-convert:hover {\n",
              "      background-color: #434B5C;\n",
              "      box-shadow: 0px 1px 3px 1px rgba(0, 0, 0, 0.15);\n",
              "      filter: drop-shadow(0px 1px 2px rgba(0, 0, 0, 0.3));\n",
              "      fill: #FFFFFF;\n",
              "    }\n",
              "  </style>\n",
              "\n",
              "      <script>\n",
              "        const buttonEl =\n",
              "          document.querySelector('#df-7ef11c38-86cc-4b87-83ca-5c6160c8abf5 button.colab-df-convert');\n",
              "        buttonEl.style.display =\n",
              "          google.colab.kernel.accessAllowed ? 'block' : 'none';\n",
              "\n",
              "        async function convertToInteractive(key) {\n",
              "          const element = document.querySelector('#df-7ef11c38-86cc-4b87-83ca-5c6160c8abf5');\n",
              "          const dataTable =\n",
              "            await google.colab.kernel.invokeFunction('convertToInteractive',\n",
              "                                                     [key], {});\n",
              "          if (!dataTable) return;\n",
              "\n",
              "          const docLinkHtml = 'Like what you see? Visit the ' +\n",
              "            '<a target=\"_blank\" href=https://colab.research.google.com/notebooks/data_table.ipynb>data table notebook</a>'\n",
              "            + ' to learn more about interactive tables.';\n",
              "          element.innerHTML = '';\n",
              "          dataTable['output_type'] = 'display_data';\n",
              "          await google.colab.output.renderOutput(dataTable, element);\n",
              "          const docLink = document.createElement('div');\n",
              "          docLink.innerHTML = docLinkHtml;\n",
              "          element.appendChild(docLink);\n",
              "        }\n",
              "      </script>\n",
              "    </div>\n",
              "  </div>\n",
              "  "
            ]
          },
          "metadata": {},
          "execution_count": 136
        }
      ]
    },
    {
      "cell_type": "code",
      "source": [
        "Q9df.columns=['LG', 'MA', 'IR', 'SP', 'BA', 'LR', 'ISS', 'PT', 'EX', 'RS']\n",
        "Q9df.columns"
      ],
      "metadata": {
        "colab": {
          "base_uri": "https://localhost:8080/"
        },
        "id": "gLD6HgwJsY6d",
        "outputId": "613dc3ca-12b9-437c-803c-ed4f33a98d95"
      },
      "execution_count": 137,
      "outputs": [
        {
          "output_type": "execute_result",
          "data": {
            "text/plain": [
              "Index(['LG', 'MA', 'IR', 'SP', 'BA', 'LR', 'ISS', 'PT', 'EX', 'RS'], dtype='object')"
            ]
          },
          "metadata": {},
          "execution_count": 137
        }
      ]
    },
    {
      "cell_type": "code",
      "source": [
        "question_9_col = ['IR','MA',\t'SP',\t'ISS','LG','RS','BA','PT','EX','LR']\n",
        "Q9_sum = Q9df[question_9_col].sum()\n",
        "Q9_sum"
      ],
      "metadata": {
        "colab": {
          "base_uri": "https://localhost:8080/"
        },
        "id": "N_QnDhRjkeKL",
        "outputId": "8678e8ec-4aab-419d-c902-5d89448c002d"
      },
      "execution_count": 138,
      "outputs": [
        {
          "output_type": "execute_result",
          "data": {
            "text/plain": [
              "IR     57\n",
              "MA     39\n",
              "SP     13\n",
              "ISS    13\n",
              "LG     13\n",
              "RS     14\n",
              "BA     17\n",
              "PT     13\n",
              "EX      5\n",
              "LR      3\n",
              "dtype: int64"
            ]
          },
          "metadata": {},
          "execution_count": 138
        }
      ]
    },
    {
      "cell_type": "code",
      "source": [
        "plt.title('Expectations of Customers to the Resort on Handling Drowning Cases')\n",
        "plt.ylabel('Count')\n",
        "\n",
        "fig = plt.gcf()\n",
        "fig.set_size_inches(10, 5)\n",
        "\n",
        "x_LG=['Lifeguard']\n",
        "x_LG = np.arange(len(x_LG))\n",
        "\n",
        "x_MA=['Medical Attention']\n",
        "x_MA = np.arange(len(x_MA))\n",
        "\n",
        "x_IR =['Immediate Response']\n",
        "x_IR = np.arange(len(x_IR))\n",
        "\n",
        "x_SP =['Safety Protocol']\n",
        "x_SP= np.arange(len(x_SP))\n",
        "\n",
        "x_BA =['Be Alert']\n",
        "x_BA = np.arange(len(x_BA))\n",
        "\n",
        "x_LR =['Legal Response']\n",
        "x_LR = np.arange(len(x_LR))\n",
        "\n",
        "x_ISS =['Improved Safety and Security']\n",
        "x_ISS = np.arange(len(x_ISS))\n",
        "\n",
        "x_PT =['Proper Training']\n",
        "x_PT = np.arange(len(x_PT))\n",
        "\n",
        "x_EX =['Expenses']\n",
        "x_EX = np.arange(len(x_EX))\n",
        "\n",
        "x_RS =['Responsible']\n",
        "x_RS = np.arange(len(x_RS))\n",
        "\n",
        "plt.bar(x_LG + 1, Q9_sum['LG'], 0.4, label='Lifeguard', color='lightcoral')\n",
        "plt.bar(x_MA + 1.5, Q9_sum['MA'], 0.4, label='Medical Attention', color='teal')\n",
        "plt.bar(x_IR + 2, Q9_sum['IR'], 0.4, label='Immediate Response', color='darkseagreen')\n",
        "plt.bar(x_SP + 2.5, Q9_sum['SP'], 0.4, label='Safety Protocol', color='peru')\n",
        "plt.bar(x_BA + 3, Q9_sum['BA'], 0.4, label='Be Alert', color='darkslategrey')\n",
        "plt.bar(x_LR + 3.5, Q9_sum['LR'], 0.4, label='Legal Response', color='goldenrod')\n",
        "plt.bar(x_ISS + 4, Q9_sum['ISS'], 0.4, label='Improved Safety and Security', color='palevioletred')\n",
        "plt.bar(x_PT + 4.5, Q9_sum['PT'], 0.4, label='Proper Training', color='rosybrown')\n",
        "plt.bar(x_EX + 5, Q9_sum['EX'], 0.4, label='Expenses', color='salmon')\n",
        "plt.bar(x_RS + 5.5, Q9_sum['LG'], 0.4, label='Responsible', color='steelblue')\n",
        "\n",
        "plt.xticks([])\n",
        "plt.legend()\n",
        "plt.savefig('Q9.png', dpi=300, bbox_inches='tight')\n",
        "plt.show()"
      ],
      "metadata": {
        "colab": {
          "base_uri": "https://localhost:8080/",
          "height": 325
        },
        "id": "O-iEy3hLkoav",
        "outputId": "d1b50e8b-15f3-4e69-e47a-f3f52e72efa8"
      },
      "execution_count": 141,
      "outputs": [
        {
          "output_type": "display_data",
          "data": {
            "text/plain": [
              "<Figure size 720x360 with 1 Axes>"
            ],
            "image/png": "[encoded data removed]"
          },
          "metadata": {}
        }
      ]
    },
    {
      "cell_type": "markdown",
      "source": [
        ">**Insights:**\n",
        "<p align = Justify> Similar to the question before hand but this time its on the side of the resort. The respondents wanted an immediate response, medical attention, a lifeguard, and improved safety and security from the resort for they believe that this will lessen serious accidents and even death."
      ],
      "metadata": {
        "id": "iwv42Hkknu1_"
      }
    },
    {
      "cell_type": "markdown",
      "source": [
        "## Q10: Rate from 1 to 5, with 5 as the highest and 1 being the lowest, your disciplinary action towards the safety measures provided by the resort"
      ],
      "metadata": {
        "id": "jlROKiupnyOr"
      }
    },
    {
      "cell_type": "code",
      "source": [
        "response_DF['Q10'].value_counts()"
      ],
      "metadata": {
        "colab": {
          "base_uri": "https://localhost:8080/"
        },
        "id": "IAgPWL6Yn3xp",
        "outputId": "e3e08dd7-01f3-42c2-b288-93d821e28899"
      },
      "execution_count": 142,
      "outputs": [
        {
          "output_type": "execute_result",
          "data": {
            "text/plain": [
              "4    65\n",
              "5    47\n",
              "3    25\n",
              "Name: Q10, dtype: int64"
            ]
          },
          "metadata": {},
          "execution_count": 142
        }
      ]
    },
    {
      "cell_type": "code",
      "source": [
        "sns.distplot(response_DF['Q10'], color='darkcyan')\n",
        "\n",
        "plt.title('Disciplinary Action Rating')\n",
        "plt.xlabel('Scale')\n",
        "plt.savefig('Q10.png', dpi=300, bbox_inches='tight')"
      ],
      "metadata": {
        "colab": {
          "base_uri": "https://localhost:8080/",
          "height": 356
        },
        "id": "f7BTC6gmn7xJ",
        "outputId": "1fc57ea1-97f3-4591-a50c-7cb8821a8743"
      },
      "execution_count": 143,
      "outputs": [
        {
          "output_type": "stream",
          "name": "stderr",
          "text": [
            "/usr/local/lib/python3.7/dist-packages/seaborn/distributions.py:2619: FutureWarning: `distplot` is a deprecated function and will be removed in a future version. Please adapt your code to use either `displot` (a figure-level function with similar flexibility) or `histplot` (an axes-level function for histograms).\n",
            "  warnings.warn(msg, FutureWarning)\n"
          ]
        },
        {
          "output_type": "display_data",
          "data": {
            "text/plain": [
              "<Figure size 432x288 with 1 Axes>"
            ],
            "image/png": "[encoded data removed]"
          },
          "metadata": {}
        }
      ]
    },
    {
      "cell_type": "markdown",
      "source": [
        ">**Insights:** \n",
        "\n",
        "The graph presents that most of the respondents answer that their disciplinary action towards the safety measures provided by the resort relies on 4, followed by those who answered 5, and 3. These responses may be affected by several factors such as the location, amenities, and personal circumstances."
      ],
      "metadata": {
        "id": "9sfkYjiZn_m6"
      }
    },
    {
      "cell_type": "markdown",
      "source": [
        "## Q11: From 1 to 5, with 1 as the lowest and 5 as the highest. Rate the effectivity of the resort's implementation of their guidelines"
      ],
      "metadata": {
        "id": "nQkVaOXtoCFK"
      }
    },
    {
      "cell_type": "code",
      "source": [
        "response_DF['Q11'].value_counts()"
      ],
      "metadata": {
        "colab": {
          "base_uri": "https://localhost:8080/"
        },
        "id": "6SUicDAdoFZU",
        "outputId": "88857563-37f1-49bf-d08d-5ce8fe47227b"
      },
      "execution_count": 144,
      "outputs": [
        {
          "output_type": "execute_result",
          "data": {
            "text/plain": [
              "4    62\n",
              "3    41\n",
              "5    32\n",
              "2     2\n",
              "Name: Q11, dtype: int64"
            ]
          },
          "metadata": {},
          "execution_count": 144
        }
      ]
    },
    {
      "cell_type": "code",
      "source": [
        "sns.distplot(response_DF['Q11'], color='darkcyan')\n",
        "\n",
        "plt.title('Effectivity of Implementation of Guidelines')\n",
        "plt.xlabel('Scale')\n",
        "plt.savefig('Q11.png', dpi=300, bbox_inches='tight')"
      ],
      "metadata": {
        "colab": {
          "base_uri": "https://localhost:8080/",
          "height": 356
        },
        "id": "XopUPOaSoo-F",
        "outputId": "2d5754fd-7175-4d44-90fc-14d29b11c09b"
      },
      "execution_count": 145,
      "outputs": [
        {
          "output_type": "stream",
          "name": "stderr",
          "text": [
            "/usr/local/lib/python3.7/dist-packages/seaborn/distributions.py:2619: FutureWarning: `distplot` is a deprecated function and will be removed in a future version. Please adapt your code to use either `displot` (a figure-level function with similar flexibility) or `histplot` (an axes-level function for histograms).\n",
            "  warnings.warn(msg, FutureWarning)\n"
          ]
        },
        {
          "output_type": "display_data",
          "data": {
            "text/plain": [
              "<Figure size 432x288 with 1 Axes>"
            ],
            "image/png": "[encoded data removed]"
          },
          "metadata": {}
        }
      ]
    },
    {
      "cell_type": "markdown",
      "source": [
        ">**Insights:**\n",
        "\n",
        "The graph presents that the effectiveness of the resort's implementation of their guidelines based on the customers is rated with 4, followed by ratings of 3, 5, and 2. These responses depict that most of the customers consider that the resort's implementation of guidelines can still be improved to further carry out the protocols, especially in terms of safety and security."
      ],
      "metadata": {
        "id": "SoMlWGD0otQK"
      }
    }
  ]
}