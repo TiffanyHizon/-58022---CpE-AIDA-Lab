{
  "nbformat": 4,
  "nbformat_minor": 0,
  "metadata": {
    "colab": {
      "name": "58022_Lab1_Buh-AI.ipynb",
      "provenance": [],
      "authorship_tag": "ABX9TyMBoT8nNQMW/1fl+mmEkVwf",
      "include_colab_link": true
    },
    "kernelspec": {
      "name": "python3",
      "display_name": "Python 3"
    },
    "language_info": {
      "name": "python"
    }
  },
  "cells": [
    {
      "cell_type": "markdown",
      "metadata": {
        "id": "view-in-github",
        "colab_type": "text"
      },
      "source": [
        "<a href=\"https://colab.research.google.com/github/TiffanyHizon/-58022---CpE-AIDA-Lab/blob/main/CpE%20AIDA%20Lab%2001/58022_Lab1_Buh_AI.ipynb\" target=\"_parent\"><img src=\"https://colab.research.google.com/assets/colab-badge.svg\" alt=\"Open In Colab\"/></a>"
      ]
    },
    {
      "cell_type": "markdown",
      "source": [
        "**CpE Elective 1 Fundamentals of AI and Data Analytics**\n",
        "\n",
        "**Buh-AI**\n",
        "\n",
        "- Ebdane, Precious Anne G.\n",
        "- Hizon, Tiffany Joyce C.\n",
        "- Imbat, Jezra Mayne A.\n",
        "- Joaquin, Marc Christopher C."
      ],
      "metadata": {
        "id": "O_U8Ijc7I6IF"
      }
    },
    {
      "cell_type": "markdown",
      "source": [
        "# **TASK 1: Setting the Class Grades**\n",
        "\n",
        "1. Create variable declarations for:\n",
        "    - Last Names\n",
        "    - First Names\n",
        "    - Grades for Prelims\n",
        "    - Grades for Midterms\n",
        "    - Grades for Finals\n",
        "\n",
        "2. Create a dictionary for consolidating the data from Task 1.1"
      ],
      "metadata": {
        "id": "7JUIVYABI77w"
      }
    },
    {
      "cell_type": "code",
      "source": [
        ""
      ],
      "metadata": {
        "id": "oItOdOhfI-Gk"
      },
      "execution_count": null,
      "outputs": []
    },
    {
      "cell_type": "markdown",
      "source": [
        "# **TASK 2: Getting Class Statistics**\n",
        "\n",
        "1. Create a function named get_gardes() for computing the semestral grade of each student:\n",
        "\n",
        "    inputs: dictionary of a class grade sheet.\n",
        "    \n",
        "    outputs: dictionary showing:\n",
        "  - The prelim, midterms, and finals grades of each student\n",
        "  - The semestral grade of each student.\n",
        "\n",
        "2. Create a function named get_class_stats()\n",
        "\n",
        "  inputs: dictionary from get_grades().\n",
        "\n",
        "  outputs: dictionary showing:\n",
        "  - The lowest and highest prelim, midterm, finals, and semestral grades\n",
        "  - The mean, median, mode, and standard deviation of the grades."
      ],
      "metadata": {
        "id": "-Dn0wCtXI_Fb"
      }
    },
    {
      "cell_type": "code",
      "source": [
        ""
      ],
      "metadata": {
        "id": "Q96Icr2kJA-g"
      },
      "execution_count": null,
      "outputs": []
    },
    {
      "cell_type": "markdown",
      "source": [
        "# **TASK 3: Advanced Class Functions**\n",
        "\n",
        "1. Optimize get_grades() by eliminating for loops in your function.\n",
        "2. Create a function named get_similar_students()\n",
        "\n",
        "  inputs: two (2) class dictionary\n",
        "  \n",
        "  ouputs: list of common student numbers.\n",
        "\n",
        "*Note: The function should not contain iterative blocks (i.e. for or while loops, or list comprehension)*"
      ],
      "metadata": {
        "id": "6IEMJIX0JCUc"
      }
    },
    {
      "cell_type": "code",
      "source": [
        ""
      ],
      "metadata": {
        "id": "AjccdJoCJIf3"
      },
      "execution_count": null,
      "outputs": []
    },
    {
      "cell_type": "markdown",
      "source": [
        "# **TASK 4: Class of Classes**\n",
        "\n",
        "1. Modify the class Section and integrate the functions from Tasks 1 to 3 as its methods. Make sure that the codes are optimized. \n",
        "2. Create a method named get_failed() wherein it will create a list of all the failed students in the class.\n",
        "3. Create a method named fail_count() wherein it will return the count of the failed students.\n",
        "\n",
        "*Note: Dute to data privacy, the data privacy office has mandated your code refrain from printing the stundent number and names of students. Their student numbers and names must be masked with asterisks.*"
      ],
      "metadata": {
        "id": "I7SR97KtJLJT"
      }
    },
    {
      "cell_type": "code",
      "source": [
        ""
      ],
      "metadata": {
        "id": "oGfjWyuBJNYQ"
      },
      "execution_count": null,
      "outputs": []
    }
  ]
}