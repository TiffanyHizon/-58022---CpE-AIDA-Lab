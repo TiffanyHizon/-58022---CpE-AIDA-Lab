{
  "nbformat": 4,
  "nbformat_minor": 0,
  "metadata": {
    "colab": {
      "name": "58022_Data Analysis_Buh-AI.ipynb",
      "provenance": [],
      "collapsed_sections": [
        "6p_pJbJQDWUq",
        "S0tTde7vGMRH",
        "v_RkhGvrGPY4",
        "S1bMZnCxIHdP",
        "dw5L8avoIJGY",
        "qJDrUQYBIb5u",
        "WkpJ-6uWIjYX",
        "LZZTd1ZyIpov",
        "uXFYIcFhIuie",
        "pgxQcLKKKYMQ",
        "iiBvIAkgZlfC",
        "kWgBy0hnckKk",
        "wAS9WNRdiOlX",
        "jlROKiupnyOr",
        "nQkVaOXtoCFK"
      ],
      "include_colab_link": true
    },
    "kernelspec": {
      "name": "python3",
      "display_name": "Python 3"
    },
    "language_info": {
      "name": "python"
    }
  },
  "cells": [
    {
      "cell_type": "markdown",
      "metadata": {
        "id": "view-in-github",
        "colab_type": "text"
      },
      "source": [
        "<a href=\"https://colab.research.google.com/github/TiffanyHizon/-58022---CpE-AIDA-Lab/blob/main/Data%20Analysis/58022_Data_Analysis_Buh_AI.ipynb\" target=\"_parent\"><img src=\"https://colab.research.google.com/assets/colab-badge.svg\" alt=\"Open In Colab\"/></a>"
      ]
    },
    {
      "cell_type": "markdown",
      "source": [
        "CpE Elective 1 AIDA Fundamentals of AI & Data Analytics\n",
        "\n",
        "Unmanned\n",
        "\n",
        "\n",
        "\n",
        "*   Hizon, Tiffant Joyce C.\n",
        "*   Imbat, Jezra Mayne A.\n",
        "\n",
        "*   Ebdane, Precious Anne G.\n",
        "*   Joaquin, Marc Christopher C.\n",
        "\n",
        "\n",
        "\n"
      ],
      "metadata": {
        "id": "CsYd12RqCdJg"
      }
    },
    {
      "cell_type": "code",
      "execution_count": 1,
      "metadata": {
        "id": "Zr0tKfc5Bk5G"
      },
      "outputs": [],
      "source": [
        "import pandas as pd\n",
        "import seaborn as sns\n",
        "import numpy as np\n",
        "import matplotlib.pyplot as plt\n",
        "sns.set()"
      ]
    },
    {
      "cell_type": "markdown",
      "source": [
        "## Importing Files"
      ],
      "metadata": {
        "id": "6p_pJbJQDWUq"
      }
    },
    {
      "cell_type": "code",
      "source": [
        "orig_df = pd.read_csv('/content/customer_survey.csv',encoding= 'unicode_escape')\n",
        "orig_df"
      ],
      "metadata": {
        "id": "aJNaTuLCD1Xx",
        "colab": {
          "base_uri": "https://localhost:8080/",
          "height": 0
        },
        "outputId": "ee7f0f0e-2dab-4b88-aae8-4809277d5c97"
      },
      "execution_count": 2,
      "outputs": [
        {
          "output_type": "execute_result",
          "data": {
            "text/html": [
              "\n",
              "  <div id=\"df-cf94ac73-00e8-4866-8392-85a8bff7e542\">\n",
              "    <div class=\"colab-df-container\">\n",
              "      <div>\n",
              "<style scoped>\n",
              "    .dataframe tbody tr th:only-of-type {\n",
              "        vertical-align: middle;\n",
              "    }\n",
              "\n",
              "    .dataframe tbody tr th {\n",
              "        vertical-align: top;\n",
              "    }\n",
              "\n",
              "    .dataframe thead th {\n",
              "        text-align: right;\n",
              "    }\n",
              "</style>\n",
              "<table border=\"1\" class=\"dataframe\">\n",
              "  <thead>\n",
              "    <tr style=\"text-align: right;\">\n",
              "      <th></th>\n",
              "      <th>Email Address</th>\n",
              "      <th>Permission to collect personal data</th>\n",
              "      <th>Permission to store personal data</th>\n",
              "      <th>Permission to use my personal data</th>\n",
              "      <th>Age:</th>\n",
              "      <th>Height in feet (ft:)</th>\n",
              "      <th>Gender:</th>\n",
              "      <th>Where do you currently reside?</th>\n",
              "      <th>When you go to a resort, what are the usual things that you do?</th>\n",
              "      <th>What are the factors you consider in choosing a resort?</th>\n",
              "      <th>Considering your characteristics and background knowledge in swimming, what height of the pool do you usually swim?</th>\n",
              "      <th>Did an accident of drowning occur to you or your companion?</th>\n",
              "      <th>What do you think are the possible reason behind drowning? (Kindly choose more than 1 answer)</th>\n",
              "      <th>Are you aware of the resorts guidelines given by the management/resort?</th>\n",
              "      <th>If yes, what are the ways of resorts implementation?</th>\n",
              "      <th>Which of the following actions did you take in case an accident of drowning occur?</th>\n",
              "      <th>What are your expectations of the resort on handling such cases?</th>\n",
              "      <th>Rate from 1 to 5, with 5 as the highest and 1 being the lowest, your disciplinary action towards the safety measures provided by the resort</th>\n",
              "      <th>From 1 to 5, with 1 as the lowest and 5 as the highest. Rate the effectivity of the resorts implementation of their guidelines</th>\n",
              "      <th>Comments/Suggestions</th>\n",
              "    </tr>\n",
              "  </thead>\n",
              "  <tbody>\n",
              "    <tr>\n",
              "      <th>0</th>\n",
              "      <td>NaN</td>\n",
              "      <td>Yes, I give consent to the collection of my pe...</td>\n",
              "      <td>Yes, I give consent to the retention of my per...</td>\n",
              "      <td>Yes, I give consent to use of my personal data...</td>\n",
              "      <td>21</td>\n",
              "      <td>5.58</td>\n",
              "      <td>LGBTQ+</td>\n",
              "      <td>Quezon</td>\n",
              "      <td>Celebration, Family/Friends Outing</td>\n",
              "      <td>Location, Ammenities, Price, Safety and Security</td>\n",
              "      <td>5ft</td>\n",
              "      <td>No</td>\n",
              "      <td>Not Learning How to Swim, Lack of Supervision,...</td>\n",
              "      <td>Yes</td>\n",
              "      <td>Terms and Agreement, Posters</td>\n",
              "      <td>Call the attention of the management</td>\n",
              "      <td>They have a lifeguard and medical supplies ready.</td>\n",
              "      <td>4</td>\n",
              "      <td>3</td>\n",
              "      <td>NaN</td>\n",
              "    </tr>\n",
              "    <tr>\n",
              "      <th>1</th>\n",
              "      <td>NaN</td>\n",
              "      <td>Yes, I give consent to the collection of my pe...</td>\n",
              "      <td>Yes, I give consent to the retention of my per...</td>\n",
              "      <td>Yes, I give consent to use of my personal data...</td>\n",
              "      <td>21</td>\n",
              "      <td>5.00</td>\n",
              "      <td>Female</td>\n",
              "      <td>Rizal</td>\n",
              "      <td>Celebration, Family/Friends Outing</td>\n",
              "      <td>Location, Ammenities, Price, Safety and Security</td>\n",
              "      <td>5ft</td>\n",
              "      <td>No</td>\n",
              "      <td>Not Learning How to Swim, Presence of Liquor</td>\n",
              "      <td>Yes</td>\n",
              "      <td>Posters</td>\n",
              "      <td>Perform emergency aid</td>\n",
              "      <td>To respond immediately</td>\n",
              "      <td>4</td>\n",
              "      <td>4</td>\n",
              "      <td>NaN</td>\n",
              "    </tr>\n",
              "    <tr>\n",
              "      <th>2</th>\n",
              "      <td>NaN</td>\n",
              "      <td>Yes, I give consent to the collection of my pe...</td>\n",
              "      <td>Yes, I give consent to the retention of my per...</td>\n",
              "      <td>Yes, I give consent to use of my personal data...</td>\n",
              "      <td>20</td>\n",
              "      <td>6.50</td>\n",
              "      <td>Female</td>\n",
              "      <td>Laguna</td>\n",
              "      <td>Celebration, Family/Friends Outing</td>\n",
              "      <td>Location, Ammenities, Price, Safety and Security</td>\n",
              "      <td>4ft</td>\n",
              "      <td>No</td>\n",
              "      <td>Not Learning How to Swim, Lack of Supervision,...</td>\n",
              "      <td>Yes</td>\n",
              "      <td>Terms and Agreement, Pre-orientation</td>\n",
              "      <td>Perform emergency aid</td>\n",
              "      <td>resorts must always be ready to help the guest...</td>\n",
              "      <td>4</td>\n",
              "      <td>3</td>\n",
              "      <td>NaN</td>\n",
              "    </tr>\n",
              "    <tr>\n",
              "      <th>3</th>\n",
              "      <td>NaN</td>\n",
              "      <td>Yes, I give consent to the collection of my pe...</td>\n",
              "      <td>Yes, I give consent to the retention of my per...</td>\n",
              "      <td>Yes, I give consent to use of my personal data...</td>\n",
              "      <td>23</td>\n",
              "      <td>5.42</td>\n",
              "      <td>Male</td>\n",
              "      <td>Rizal</td>\n",
              "      <td>Gathering, Celebration, Family/Friends Outing</td>\n",
              "      <td>Location, Price, Safety and Security</td>\n",
              "      <td>6ft</td>\n",
              "      <td>No</td>\n",
              "      <td>Not Learning How to Swim, Lack of Supervision</td>\n",
              "      <td>Yes</td>\n",
              "      <td>Posters</td>\n",
              "      <td>Call the attention of the management</td>\n",
              "      <td>I expect that their personnels would know the ...</td>\n",
              "      <td>4</td>\n",
              "      <td>4</td>\n",
              "      <td>NaN</td>\n",
              "    </tr>\n",
              "    <tr>\n",
              "      <th>4</th>\n",
              "      <td>NaN</td>\n",
              "      <td>Yes, I give consent to the collection of my pe...</td>\n",
              "      <td>Yes, I give consent to the retention of my per...</td>\n",
              "      <td>Yes, I give consent to use of my personal data...</td>\n",
              "      <td>34</td>\n",
              "      <td>6.19</td>\n",
              "      <td>LGBTQ+</td>\n",
              "      <td>Rizal</td>\n",
              "      <td>Family/Friends Outing</td>\n",
              "      <td>Location, Ammenities, Price, Safety and Securi...</td>\n",
              "      <td>5ft</td>\n",
              "      <td>No</td>\n",
              "      <td>Not Learning How to Swim, Lack of Supervision,...</td>\n",
              "      <td>Yes</td>\n",
              "      <td>Terms and Agreement, Posters, Lifeguard on duty</td>\n",
              "      <td>Call the attention of the management</td>\n",
              "      <td>Rescue the person who is drowning</td>\n",
              "      <td>5</td>\n",
              "      <td>5</td>\n",
              "      <td>NaN</td>\n",
              "    </tr>\n",
              "    <tr>\n",
              "      <th>...</th>\n",
              "      <td>...</td>\n",
              "      <td>...</td>\n",
              "      <td>...</td>\n",
              "      <td>...</td>\n",
              "      <td>...</td>\n",
              "      <td>...</td>\n",
              "      <td>...</td>\n",
              "      <td>...</td>\n",
              "      <td>...</td>\n",
              "      <td>...</td>\n",
              "      <td>...</td>\n",
              "      <td>...</td>\n",
              "      <td>...</td>\n",
              "      <td>...</td>\n",
              "      <td>...</td>\n",
              "      <td>...</td>\n",
              "      <td>...</td>\n",
              "      <td>...</td>\n",
              "      <td>...</td>\n",
              "      <td>...</td>\n",
              "    </tr>\n",
              "    <tr>\n",
              "      <th>90</th>\n",
              "      <td>ken.vistan@gmail.com</td>\n",
              "      <td>Yes, I give consent to the collection of my pe...</td>\n",
              "      <td>Yes, I give consent to the retention of my per...</td>\n",
              "      <td>Yes, I give consent to use of my personal data...</td>\n",
              "      <td>21</td>\n",
              "      <td>5.92</td>\n",
              "      <td>Male</td>\n",
              "      <td>Quezon</td>\n",
              "      <td>Celebration</td>\n",
              "      <td>Amenities</td>\n",
              "      <td>6ft</td>\n",
              "      <td>No</td>\n",
              "      <td>Not Learning How to Swim, Lack of Supervision,...</td>\n",
              "      <td>Yes</td>\n",
              "      <td>Terms and Agreement</td>\n",
              "      <td>Call medical attention</td>\n",
              "      <td>Attentive</td>\n",
              "      <td>4</td>\n",
              "      <td>4</td>\n",
              "      <td>None</td>\n",
              "    </tr>\n",
              "    <tr>\n",
              "      <th>91</th>\n",
              "      <td>hazelnepomuceno1998@gmail.com</td>\n",
              "      <td>Yes, I give consent to the collection of my pe...</td>\n",
              "      <td>Yes, I give consent to the retention of my per...</td>\n",
              "      <td>Yes, I give consent to use of my personal data...</td>\n",
              "      <td>24</td>\n",
              "      <td>5.67</td>\n",
              "      <td>Female</td>\n",
              "      <td>Batangas</td>\n",
              "      <td>Family/Friends Outing</td>\n",
              "      <td>Location, Amenities, Price, Safety and Security</td>\n",
              "      <td>6ft</td>\n",
              "      <td>No</td>\n",
              "      <td>Not Learning How to Swim, Presence of Liquor</td>\n",
              "      <td>Yes</td>\n",
              "      <td>Terms and Agreement, Posters</td>\n",
              "      <td>Call the attention of the management</td>\n",
              "      <td>They should be able to provide an emergency ai...</td>\n",
              "      <td>5</td>\n",
              "      <td>5</td>\n",
              "      <td>NaN</td>\n",
              "    </tr>\n",
              "    <tr>\n",
              "      <th>92</th>\n",
              "      <td>aprilrcia@gmail.com</td>\n",
              "      <td>Yes, I give consent to the collection of my pe...</td>\n",
              "      <td>Yes, I give consent to the retention of my per...</td>\n",
              "      <td>Yes, I give consent to use of my personal data...</td>\n",
              "      <td>25</td>\n",
              "      <td>5.25</td>\n",
              "      <td>Female</td>\n",
              "      <td>Rizal</td>\n",
              "      <td>Gathering, Celebration</td>\n",
              "      <td>Price, Safety and Security</td>\n",
              "      <td>5ft</td>\n",
              "      <td>Yes</td>\n",
              "      <td>Lack of Supervision, Improper Security</td>\n",
              "      <td>No</td>\n",
              "      <td>NaN</td>\n",
              "      <td>Call the attention of the management</td>\n",
              "      <td>handle immediately</td>\n",
              "      <td>4</td>\n",
              "      <td>3</td>\n",
              "      <td>NaN</td>\n",
              "    </tr>\n",
              "    <tr>\n",
              "      <th>93</th>\n",
              "      <td>garcia.jmark1@gmail.com</td>\n",
              "      <td>Yes, I give consent to the collection of my pe...</td>\n",
              "      <td>Yes, I give consent to the retention of my per...</td>\n",
              "      <td>Yes, I give consent to use of my personal data...</td>\n",
              "      <td>20</td>\n",
              "      <td>5.42</td>\n",
              "      <td>Male</td>\n",
              "      <td>Rizal</td>\n",
              "      <td>Family/Friends Outing</td>\n",
              "      <td>Location, Amenities, Price</td>\n",
              "      <td>6ft</td>\n",
              "      <td>Yes</td>\n",
              "      <td>Not Learning How to Swim, Lack of Supervision</td>\n",
              "      <td>Yes</td>\n",
              "      <td>Posters</td>\n",
              "      <td>Call the attention of the management</td>\n",
              "      <td>presence of medical personel</td>\n",
              "      <td>4</td>\n",
              "      <td>3</td>\n",
              "      <td>NaN</td>\n",
              "    </tr>\n",
              "    <tr>\n",
              "      <th>94</th>\n",
              "      <td>pauleenhernandez16@gmail.com</td>\n",
              "      <td>Yes, I give consent to the collection of my pe...</td>\n",
              "      <td>Yes, I give consent to the retention of my per...</td>\n",
              "      <td>Yes, I give consent to use of my personal data...</td>\n",
              "      <td>20</td>\n",
              "      <td>5.08</td>\n",
              "      <td>Female</td>\n",
              "      <td>Laguna</td>\n",
              "      <td>Celebration, Family/Friends Outing</td>\n",
              "      <td>Location, Price, Safety and Security</td>\n",
              "      <td>4ft</td>\n",
              "      <td>No</td>\n",
              "      <td>Not Learning How to Swim, Lack of Supervision</td>\n",
              "      <td>Yes</td>\n",
              "      <td>Terms and Agreement, Posters</td>\n",
              "      <td>Call the attention of the management</td>\n",
              "      <td>providing proper training for resort staff</td>\n",
              "      <td>5</td>\n",
              "      <td>3</td>\n",
              "      <td>NaN</td>\n",
              "    </tr>\n",
              "  </tbody>\n",
              "</table>\n",
              "<p>95 rows × 20 columns</p>\n",
              "</div>\n",
              "      <button class=\"colab-df-convert\" onclick=\"convertToInteractive('df-cf94ac73-00e8-4866-8392-85a8bff7e542')\"\n",
              "              title=\"Convert this dataframe to an interactive table.\"\n",
              "              style=\"display:none;\">\n",
              "        \n",
              "  <svg xmlns=\"http://www.w3.org/2000/svg\" height=\"24px\"viewBox=\"0 0 24 24\"\n",
              "       width=\"24px\">\n",
              "    <path d=\"M0 0h24v24H0V0z\" fill=\"none\"/>\n",
              "    <path d=\"M18.56 5.44l.94 2.06.94-2.06 2.06-.94-2.06-.94-.94-2.06-.94 2.06-2.06.94zm-11 1L8.5 8.5l.94-2.06 2.06-.94-2.06-.94L8.5 2.5l-.94 2.06-2.06.94zm10 10l.94 2.06.94-2.06 2.06-.94-2.06-.94-.94-2.06-.94 2.06-2.06.94z\"/><path d=\"M17.41 7.96l-1.37-1.37c-.4-.4-.92-.59-1.43-.59-.52 0-1.04.2-1.43.59L10.3 9.45l-7.72 7.72c-.78.78-.78 2.05 0 2.83L4 21.41c.39.39.9.59 1.41.59.51 0 1.02-.2 1.41-.59l7.78-7.78 2.81-2.81c.8-.78.8-2.07 0-2.86zM5.41 20L4 18.59l7.72-7.72 1.47 1.35L5.41 20z\"/>\n",
              "  </svg>\n",
              "      </button>\n",
              "      \n",
              "  <style>\n",
              "    .colab-df-container {\n",
              "      display:flex;\n",
              "      flex-wrap:wrap;\n",
              "      gap: 12px;\n",
              "    }\n",
              "\n",
              "    .colab-df-convert {\n",
              "      background-color: #E8F0FE;\n",
              "      border: none;\n",
              "      border-radius: 50%;\n",
              "      cursor: pointer;\n",
              "      display: none;\n",
              "      fill: #1967D2;\n",
              "      height: 32px;\n",
              "      padding: 0 0 0 0;\n",
              "      width: 32px;\n",
              "    }\n",
              "\n",
              "    .colab-df-convert:hover {\n",
              "      background-color: #E2EBFA;\n",
              "      box-shadow: 0px 1px 2px rgba(60, 64, 67, 0.3), 0px 1px 3px 1px rgba(60, 64, 67, 0.15);\n",
              "      fill: #174EA6;\n",
              "    }\n",
              "\n",
              "    [theme=dark] .colab-df-convert {\n",
              "      background-color: #3B4455;\n",
              "      fill: #D2E3FC;\n",
              "    }\n",
              "\n",
              "    [theme=dark] .colab-df-convert:hover {\n",
              "      background-color: #434B5C;\n",
              "      box-shadow: 0px 1px 3px 1px rgba(0, 0, 0, 0.15);\n",
              "      filter: drop-shadow(0px 1px 2px rgba(0, 0, 0, 0.3));\n",
              "      fill: #FFFFFF;\n",
              "    }\n",
              "  </style>\n",
              "\n",
              "      <script>\n",
              "        const buttonEl =\n",
              "          document.querySelector('#df-cf94ac73-00e8-4866-8392-85a8bff7e542 button.colab-df-convert');\n",
              "        buttonEl.style.display =\n",
              "          google.colab.kernel.accessAllowed ? 'block' : 'none';\n",
              "\n",
              "        async function convertToInteractive(key) {\n",
              "          const element = document.querySelector('#df-cf94ac73-00e8-4866-8392-85a8bff7e542');\n",
              "          const dataTable =\n",
              "            await google.colab.kernel.invokeFunction('convertToInteractive',\n",
              "                                                     [key], {});\n",
              "          if (!dataTable) return;\n",
              "\n",
              "          const docLinkHtml = 'Like what you see? Visit the ' +\n",
              "            '<a target=\"_blank\" href=https://colab.research.google.com/notebooks/data_table.ipynb>data table notebook</a>'\n",
              "            + ' to learn more about interactive tables.';\n",
              "          element.innerHTML = '';\n",
              "          dataTable['output_type'] = 'display_data';\n",
              "          await google.colab.output.renderOutput(dataTable, element);\n",
              "          const docLink = document.createElement('div');\n",
              "          docLink.innerHTML = docLinkHtml;\n",
              "          element.appendChild(docLink);\n",
              "        }\n",
              "      </script>\n",
              "    </div>\n",
              "  </div>\n",
              "  "
            ],
            "text/plain": [
              "                    Email Address  \\\n",
              "0                             NaN   \n",
              "1                             NaN   \n",
              "2                             NaN   \n",
              "3                             NaN   \n",
              "4                             NaN   \n",
              "..                            ...   \n",
              "90           ken.vistan@gmail.com   \n",
              "91  hazelnepomuceno1998@gmail.com   \n",
              "92            aprilrcia@gmail.com   \n",
              "93        garcia.jmark1@gmail.com   \n",
              "94   pauleenhernandez16@gmail.com   \n",
              "\n",
              "                  Permission to collect personal data  \\\n",
              "0   Yes, I give consent to the collection of my pe...   \n",
              "1   Yes, I give consent to the collection of my pe...   \n",
              "2   Yes, I give consent to the collection of my pe...   \n",
              "3   Yes, I give consent to the collection of my pe...   \n",
              "4   Yes, I give consent to the collection of my pe...   \n",
              "..                                                ...   \n",
              "90  Yes, I give consent to the collection of my pe...   \n",
              "91  Yes, I give consent to the collection of my pe...   \n",
              "92  Yes, I give consent to the collection of my pe...   \n",
              "93  Yes, I give consent to the collection of my pe...   \n",
              "94  Yes, I give consent to the collection of my pe...   \n",
              "\n",
              "                    Permission to store personal data  \\\n",
              "0   Yes, I give consent to the retention of my per...   \n",
              "1   Yes, I give consent to the retention of my per...   \n",
              "2   Yes, I give consent to the retention of my per...   \n",
              "3   Yes, I give consent to the retention of my per...   \n",
              "4   Yes, I give consent to the retention of my per...   \n",
              "..                                                ...   \n",
              "90  Yes, I give consent to the retention of my per...   \n",
              "91  Yes, I give consent to the retention of my per...   \n",
              "92  Yes, I give consent to the retention of my per...   \n",
              "93  Yes, I give consent to the retention of my per...   \n",
              "94  Yes, I give consent to the retention of my per...   \n",
              "\n",
              "                   Permission to use my personal data  Age:  \\\n",
              "0   Yes, I give consent to use of my personal data...    21   \n",
              "1   Yes, I give consent to use of my personal data...    21   \n",
              "2   Yes, I give consent to use of my personal data...    20   \n",
              "3   Yes, I give consent to use of my personal data...    23   \n",
              "4   Yes, I give consent to use of my personal data...    34   \n",
              "..                                                ...   ...   \n",
              "90  Yes, I give consent to use of my personal data...    21   \n",
              "91  Yes, I give consent to use of my personal data...    24   \n",
              "92  Yes, I give consent to use of my personal data...    25   \n",
              "93  Yes, I give consent to use of my personal data...    20   \n",
              "94  Yes, I give consent to use of my personal data...    20   \n",
              "\n",
              "    Height in feet (ft:) Gender: Where do you currently reside?  \\\n",
              "0                   5.58  LGBTQ+                         Quezon   \n",
              "1                   5.00  Female                          Rizal   \n",
              "2                   6.50  Female                         Laguna   \n",
              "3                   5.42    Male                          Rizal   \n",
              "4                   6.19  LGBTQ+                          Rizal   \n",
              "..                   ...     ...                            ...   \n",
              "90                  5.92    Male                         Quezon   \n",
              "91                  5.67  Female                       Batangas   \n",
              "92                  5.25  Female                          Rizal   \n",
              "93                  5.42    Male                          Rizal   \n",
              "94                  5.08  Female                         Laguna   \n",
              "\n",
              "   When you go to a resort, what are the usual things that you do?  \\\n",
              "0                  Celebration, Family/Friends Outing                \n",
              "1                  Celebration, Family/Friends Outing                \n",
              "2                  Celebration, Family/Friends Outing                \n",
              "3       Gathering, Celebration, Family/Friends Outing                \n",
              "4                               Family/Friends Outing                \n",
              "..                                                ...                \n",
              "90                                        Celebration                \n",
              "91                              Family/Friends Outing                \n",
              "92                             Gathering, Celebration                \n",
              "93                              Family/Friends Outing                \n",
              "94                 Celebration, Family/Friends Outing                \n",
              "\n",
              "   What are the factors you consider in choosing a resort?  \\\n",
              "0    Location, Ammenities, Price, Safety and Security        \n",
              "1    Location, Ammenities, Price, Safety and Security        \n",
              "2    Location, Ammenities, Price, Safety and Security        \n",
              "3                Location, Price, Safety and Security        \n",
              "4   Location, Ammenities, Price, Safety and Securi...        \n",
              "..                                                ...        \n",
              "90                                          Amenities        \n",
              "91    Location, Amenities, Price, Safety and Security        \n",
              "92                         Price, Safety and Security        \n",
              "93                         Location, Amenities, Price        \n",
              "94               Location, Price, Safety and Security        \n",
              "\n",
              "   Considering your characteristics and background knowledge in swimming, what height of the pool do you usually swim?  \\\n",
              "0                                                 5ft                                                                    \n",
              "1                                                 5ft                                                                    \n",
              "2                                                 4ft                                                                    \n",
              "3                                                 6ft                                                                    \n",
              "4                                                 5ft                                                                    \n",
              "..                                                ...                                                                    \n",
              "90                                                6ft                                                                    \n",
              "91                                                6ft                                                                    \n",
              "92                                                5ft                                                                    \n",
              "93                                                6ft                                                                    \n",
              "94                                                4ft                                                                    \n",
              "\n",
              "   Did an accident of drowning occur to you or your companion?  \\\n",
              "0                                                  No            \n",
              "1                                                  No            \n",
              "2                                                  No            \n",
              "3                                                  No            \n",
              "4                                                  No            \n",
              "..                                                ...            \n",
              "90                                                 No            \n",
              "91                                                 No            \n",
              "92                                                Yes            \n",
              "93                                                Yes            \n",
              "94                                                 No            \n",
              "\n",
              "   What do you think are the possible reason behind drowning? (Kindly choose more than 1 answer)  \\\n",
              "0   Not Learning How to Swim, Lack of Supervision,...                                              \n",
              "1        Not Learning How to Swim, Presence of Liquor                                              \n",
              "2   Not Learning How to Swim, Lack of Supervision,...                                              \n",
              "3       Not Learning How to Swim, Lack of Supervision                                              \n",
              "4   Not Learning How to Swim, Lack of Supervision,...                                              \n",
              "..                                                ...                                              \n",
              "90  Not Learning How to Swim, Lack of Supervision,...                                              \n",
              "91       Not Learning How to Swim, Presence of Liquor                                              \n",
              "92             Lack of Supervision, Improper Security                                              \n",
              "93      Not Learning How to Swim, Lack of Supervision                                              \n",
              "94      Not Learning How to Swim, Lack of Supervision                                              \n",
              "\n",
              "   Are you aware of the resorts guidelines given by the management/resort?  \\\n",
              "0                                                 Yes                        \n",
              "1                                                 Yes                        \n",
              "2                                                 Yes                        \n",
              "3                                                 Yes                        \n",
              "4                                                 Yes                        \n",
              "..                                                ...                        \n",
              "90                                                Yes                        \n",
              "91                                                Yes                        \n",
              "92                                                 No                        \n",
              "93                                                Yes                        \n",
              "94                                                Yes                        \n",
              "\n",
              "   If yes, what are the ways of resorts implementation?  \\\n",
              "0                        Terms and Agreement, Posters     \n",
              "1                                             Posters     \n",
              "2                Terms and Agreement, Pre-orientation     \n",
              "3                                             Posters     \n",
              "4     Terms and Agreement, Posters, Lifeguard on duty     \n",
              "..                                                ...     \n",
              "90                                Terms and Agreement     \n",
              "91                       Terms and Agreement, Posters     \n",
              "92                                                NaN     \n",
              "93                                            Posters     \n",
              "94                       Terms and Agreement, Posters     \n",
              "\n",
              "   Which of the following actions did you take in case an accident of drowning occur?  \\\n",
              "0                Call the attention of the management                                   \n",
              "1                               Perform emergency aid                                   \n",
              "2                               Perform emergency aid                                   \n",
              "3                Call the attention of the management                                   \n",
              "4                Call the attention of the management                                   \n",
              "..                                                ...                                   \n",
              "90                             Call medical attention                                   \n",
              "91               Call the attention of the management                                   \n",
              "92               Call the attention of the management                                   \n",
              "93               Call the attention of the management                                   \n",
              "94               Call the attention of the management                                   \n",
              "\n",
              "   What are your expectations of the resort on handling such cases?  \\\n",
              "0   They have a lifeguard and medical supplies ready.                 \n",
              "1                             To respond immediately                  \n",
              "2   resorts must always be ready to help the guest...                 \n",
              "3   I expect that their personnels would know the ...                 \n",
              "4                   Rescue the person who is drowning                 \n",
              "..                                                ...                 \n",
              "90                                          Attentive                 \n",
              "91  They should be able to provide an emergency ai...                 \n",
              "92                                 handle immediately                 \n",
              "93                       presence of medical personel                 \n",
              "94         providing proper training for resort staff                 \n",
              "\n",
              "    Rate from 1 to 5, with 5 as the highest and 1 being the lowest, your disciplinary action towards the safety measures provided by the resort  \\\n",
              "0                                                   4                                                                                             \n",
              "1                                                   4                                                                                             \n",
              "2                                                   4                                                                                             \n",
              "3                                                   4                                                                                             \n",
              "4                                                   5                                                                                             \n",
              "..                                                ...                                                                                             \n",
              "90                                                  4                                                                                             \n",
              "91                                                  5                                                                                             \n",
              "92                                                  4                                                                                             \n",
              "93                                                  4                                                                                             \n",
              "94                                                  5                                                                                             \n",
              "\n",
              "    From 1 to 5, with 1 as the lowest and 5 as the highest. Rate the effectivity of the resorts implementation of their guidelines  \\\n",
              "0                                                   3                                                                                \n",
              "1                                                   4                                                                                \n",
              "2                                                   3                                                                                \n",
              "3                                                   4                                                                                \n",
              "4                                                   5                                                                                \n",
              "..                                                ...                                                                                \n",
              "90                                                  4                                                                                \n",
              "91                                                  5                                                                                \n",
              "92                                                  3                                                                                \n",
              "93                                                  3                                                                                \n",
              "94                                                  3                                                                                \n",
              "\n",
              "   Comments/Suggestions  \n",
              "0                   NaN  \n",
              "1                   NaN  \n",
              "2                   NaN  \n",
              "3                   NaN  \n",
              "4                   NaN  \n",
              "..                  ...  \n",
              "90                 None  \n",
              "91                  NaN  \n",
              "92                  NaN  \n",
              "93                  NaN  \n",
              "94                  NaN  \n",
              "\n",
              "[95 rows x 20 columns]"
            ]
          },
          "metadata": {},
          "execution_count": 2
        }
      ]
    },
    {
      "cell_type": "code",
      "source": [
        "orig_df = orig_df.rename(columns ={'Height in feet (ft:)':'Height', \n",
        "                                           'Where do you currently reside?':'Location', \n",
        "                                           'When you go to a resort, what are the usual things that you do?':'Q1',\n",
        "                                           'What are the factors you consider in choosing a resort?':'Q2',\n",
        "                                           'Considering your characteristics and background knowledge in swimming, what height of the pool do you usually swim?':'Q3',\n",
        "                                           'Did an accident of drowning occur to you or your companion?':'Q4',\n",
        "                                           'What do you think are the possible reason behind drowning? (Kindly choose more than 1 answer)':'Q5',\n",
        "                                           'Are you aware of the resorts guidelines given by the management/resort?':'Q6',\n",
        "                                           'If yes, what are the ways of resorts implementation?':'Q7',\n",
        "                                           'Which of the following actions did you take in case an accident of drowning occur?':'Q8',\n",
        "                                           'What are your expectations of the resort on handling such cases?': 'Q9',\n",
        "                                           'Rate from 1 to 5, with 5 as the highest and 1 being the lowest, your disciplinary action towards the safety measures provided by the resort':'Q10',\n",
        "                                           'From 1 to 5, with 1 as the lowest and 5 as the highest. Rate the effectivity of the resorts implementation of their guidelines':'Q11'})\n",
        "orig_df"
      ],
      "metadata": {
        "colab": {
          "base_uri": "https://localhost:8080/",
          "height": 0
        },
        "id": "JpJqBAYxouGn",
        "outputId": "3ff39f34-f209-4336-e540-72296ad7db44"
      },
      "execution_count": 3,
      "outputs": [
        {
          "output_type": "execute_result",
          "data": {
            "text/html": [
              "\n",
              "  <div id=\"df-1069cac9-d7dc-44db-86c2-f86a42834834\">\n",
              "    <div class=\"colab-df-container\">\n",
              "      <div>\n",
              "<style scoped>\n",
              "    .dataframe tbody tr th:only-of-type {\n",
              "        vertical-align: middle;\n",
              "    }\n",
              "\n",
              "    .dataframe tbody tr th {\n",
              "        vertical-align: top;\n",
              "    }\n",
              "\n",
              "    .dataframe thead th {\n",
              "        text-align: right;\n",
              "    }\n",
              "</style>\n",
              "<table border=\"1\" class=\"dataframe\">\n",
              "  <thead>\n",
              "    <tr style=\"text-align: right;\">\n",
              "      <th></th>\n",
              "      <th>Email Address</th>\n",
              "      <th>Permission to collect personal data</th>\n",
              "      <th>Permission to store personal data</th>\n",
              "      <th>Permission to use my personal data</th>\n",
              "      <th>Age:</th>\n",
              "      <th>Height</th>\n",
              "      <th>Gender:</th>\n",
              "      <th>Location</th>\n",
              "      <th>Q1</th>\n",
              "      <th>Q2</th>\n",
              "      <th>Q3</th>\n",
              "      <th>Q4</th>\n",
              "      <th>Q5</th>\n",
              "      <th>Q6</th>\n",
              "      <th>Q7</th>\n",
              "      <th>Q8</th>\n",
              "      <th>Q9</th>\n",
              "      <th>Q10</th>\n",
              "      <th>Q11</th>\n",
              "      <th>Comments/Suggestions</th>\n",
              "    </tr>\n",
              "  </thead>\n",
              "  <tbody>\n",
              "    <tr>\n",
              "      <th>0</th>\n",
              "      <td>NaN</td>\n",
              "      <td>Yes, I give consent to the collection of my pe...</td>\n",
              "      <td>Yes, I give consent to the retention of my per...</td>\n",
              "      <td>Yes, I give consent to use of my personal data...</td>\n",
              "      <td>21</td>\n",
              "      <td>5.58</td>\n",
              "      <td>LGBTQ+</td>\n",
              "      <td>Quezon</td>\n",
              "      <td>Celebration, Family/Friends Outing</td>\n",
              "      <td>Location, Ammenities, Price, Safety and Security</td>\n",
              "      <td>5ft</td>\n",
              "      <td>No</td>\n",
              "      <td>Not Learning How to Swim, Lack of Supervision,...</td>\n",
              "      <td>Yes</td>\n",
              "      <td>Terms and Agreement, Posters</td>\n",
              "      <td>Call the attention of the management</td>\n",
              "      <td>They have a lifeguard and medical supplies ready.</td>\n",
              "      <td>4</td>\n",
              "      <td>3</td>\n",
              "      <td>NaN</td>\n",
              "    </tr>\n",
              "    <tr>\n",
              "      <th>1</th>\n",
              "      <td>NaN</td>\n",
              "      <td>Yes, I give consent to the collection of my pe...</td>\n",
              "      <td>Yes, I give consent to the retention of my per...</td>\n",
              "      <td>Yes, I give consent to use of my personal data...</td>\n",
              "      <td>21</td>\n",
              "      <td>5.00</td>\n",
              "      <td>Female</td>\n",
              "      <td>Rizal</td>\n",
              "      <td>Celebration, Family/Friends Outing</td>\n",
              "      <td>Location, Ammenities, Price, Safety and Security</td>\n",
              "      <td>5ft</td>\n",
              "      <td>No</td>\n",
              "      <td>Not Learning How to Swim, Presence of Liquor</td>\n",
              "      <td>Yes</td>\n",
              "      <td>Posters</td>\n",
              "      <td>Perform emergency aid</td>\n",
              "      <td>To respond immediately</td>\n",
              "      <td>4</td>\n",
              "      <td>4</td>\n",
              "      <td>NaN</td>\n",
              "    </tr>\n",
              "    <tr>\n",
              "      <th>2</th>\n",
              "      <td>NaN</td>\n",
              "      <td>Yes, I give consent to the collection of my pe...</td>\n",
              "      <td>Yes, I give consent to the retention of my per...</td>\n",
              "      <td>Yes, I give consent to use of my personal data...</td>\n",
              "      <td>20</td>\n",
              "      <td>6.50</td>\n",
              "      <td>Female</td>\n",
              "      <td>Laguna</td>\n",
              "      <td>Celebration, Family/Friends Outing</td>\n",
              "      <td>Location, Ammenities, Price, Safety and Security</td>\n",
              "      <td>4ft</td>\n",
              "      <td>No</td>\n",
              "      <td>Not Learning How to Swim, Lack of Supervision,...</td>\n",
              "      <td>Yes</td>\n",
              "      <td>Terms and Agreement, Pre-orientation</td>\n",
              "      <td>Perform emergency aid</td>\n",
              "      <td>resorts must always be ready to help the guest...</td>\n",
              "      <td>4</td>\n",
              "      <td>3</td>\n",
              "      <td>NaN</td>\n",
              "    </tr>\n",
              "    <tr>\n",
              "      <th>3</th>\n",
              "      <td>NaN</td>\n",
              "      <td>Yes, I give consent to the collection of my pe...</td>\n",
              "      <td>Yes, I give consent to the retention of my per...</td>\n",
              "      <td>Yes, I give consent to use of my personal data...</td>\n",
              "      <td>23</td>\n",
              "      <td>5.42</td>\n",
              "      <td>Male</td>\n",
              "      <td>Rizal</td>\n",
              "      <td>Gathering, Celebration, Family/Friends Outing</td>\n",
              "      <td>Location, Price, Safety and Security</td>\n",
              "      <td>6ft</td>\n",
              "      <td>No</td>\n",
              "      <td>Not Learning How to Swim, Lack of Supervision</td>\n",
              "      <td>Yes</td>\n",
              "      <td>Posters</td>\n",
              "      <td>Call the attention of the management</td>\n",
              "      <td>I expect that their personnels would know the ...</td>\n",
              "      <td>4</td>\n",
              "      <td>4</td>\n",
              "      <td>NaN</td>\n",
              "    </tr>\n",
              "    <tr>\n",
              "      <th>4</th>\n",
              "      <td>NaN</td>\n",
              "      <td>Yes, I give consent to the collection of my pe...</td>\n",
              "      <td>Yes, I give consent to the retention of my per...</td>\n",
              "      <td>Yes, I give consent to use of my personal data...</td>\n",
              "      <td>34</td>\n",
              "      <td>6.19</td>\n",
              "      <td>LGBTQ+</td>\n",
              "      <td>Rizal</td>\n",
              "      <td>Family/Friends Outing</td>\n",
              "      <td>Location, Ammenities, Price, Safety and Securi...</td>\n",
              "      <td>5ft</td>\n",
              "      <td>No</td>\n",
              "      <td>Not Learning How to Swim, Lack of Supervision,...</td>\n",
              "      <td>Yes</td>\n",
              "      <td>Terms and Agreement, Posters, Lifeguard on duty</td>\n",
              "      <td>Call the attention of the management</td>\n",
              "      <td>Rescue the person who is drowning</td>\n",
              "      <td>5</td>\n",
              "      <td>5</td>\n",
              "      <td>NaN</td>\n",
              "    </tr>\n",
              "    <tr>\n",
              "      <th>...</th>\n",
              "      <td>...</td>\n",
              "      <td>...</td>\n",
              "      <td>...</td>\n",
              "      <td>...</td>\n",
              "      <td>...</td>\n",
              "      <td>...</td>\n",
              "      <td>...</td>\n",
              "      <td>...</td>\n",
              "      <td>...</td>\n",
              "      <td>...</td>\n",
              "      <td>...</td>\n",
              "      <td>...</td>\n",
              "      <td>...</td>\n",
              "      <td>...</td>\n",
              "      <td>...</td>\n",
              "      <td>...</td>\n",
              "      <td>...</td>\n",
              "      <td>...</td>\n",
              "      <td>...</td>\n",
              "      <td>...</td>\n",
              "    </tr>\n",
              "    <tr>\n",
              "      <th>90</th>\n",
              "      <td>ken.vistan@gmail.com</td>\n",
              "      <td>Yes, I give consent to the collection of my pe...</td>\n",
              "      <td>Yes, I give consent to the retention of my per...</td>\n",
              "      <td>Yes, I give consent to use of my personal data...</td>\n",
              "      <td>21</td>\n",
              "      <td>5.92</td>\n",
              "      <td>Male</td>\n",
              "      <td>Quezon</td>\n",
              "      <td>Celebration</td>\n",
              "      <td>Amenities</td>\n",
              "      <td>6ft</td>\n",
              "      <td>No</td>\n",
              "      <td>Not Learning How to Swim, Lack of Supervision,...</td>\n",
              "      <td>Yes</td>\n",
              "      <td>Terms and Agreement</td>\n",
              "      <td>Call medical attention</td>\n",
              "      <td>Attentive</td>\n",
              "      <td>4</td>\n",
              "      <td>4</td>\n",
              "      <td>None</td>\n",
              "    </tr>\n",
              "    <tr>\n",
              "      <th>91</th>\n",
              "      <td>hazelnepomuceno1998@gmail.com</td>\n",
              "      <td>Yes, I give consent to the collection of my pe...</td>\n",
              "      <td>Yes, I give consent to the retention of my per...</td>\n",
              "      <td>Yes, I give consent to use of my personal data...</td>\n",
              "      <td>24</td>\n",
              "      <td>5.67</td>\n",
              "      <td>Female</td>\n",
              "      <td>Batangas</td>\n",
              "      <td>Family/Friends Outing</td>\n",
              "      <td>Location, Amenities, Price, Safety and Security</td>\n",
              "      <td>6ft</td>\n",
              "      <td>No</td>\n",
              "      <td>Not Learning How to Swim, Presence of Liquor</td>\n",
              "      <td>Yes</td>\n",
              "      <td>Terms and Agreement, Posters</td>\n",
              "      <td>Call the attention of the management</td>\n",
              "      <td>They should be able to provide an emergency ai...</td>\n",
              "      <td>5</td>\n",
              "      <td>5</td>\n",
              "      <td>NaN</td>\n",
              "    </tr>\n",
              "    <tr>\n",
              "      <th>92</th>\n",
              "      <td>aprilrcia@gmail.com</td>\n",
              "      <td>Yes, I give consent to the collection of my pe...</td>\n",
              "      <td>Yes, I give consent to the retention of my per...</td>\n",
              "      <td>Yes, I give consent to use of my personal data...</td>\n",
              "      <td>25</td>\n",
              "      <td>5.25</td>\n",
              "      <td>Female</td>\n",
              "      <td>Rizal</td>\n",
              "      <td>Gathering, Celebration</td>\n",
              "      <td>Price, Safety and Security</td>\n",
              "      <td>5ft</td>\n",
              "      <td>Yes</td>\n",
              "      <td>Lack of Supervision, Improper Security</td>\n",
              "      <td>No</td>\n",
              "      <td>NaN</td>\n",
              "      <td>Call the attention of the management</td>\n",
              "      <td>handle immediately</td>\n",
              "      <td>4</td>\n",
              "      <td>3</td>\n",
              "      <td>NaN</td>\n",
              "    </tr>\n",
              "    <tr>\n",
              "      <th>93</th>\n",
              "      <td>garcia.jmark1@gmail.com</td>\n",
              "      <td>Yes, I give consent to the collection of my pe...</td>\n",
              "      <td>Yes, I give consent to the retention of my per...</td>\n",
              "      <td>Yes, I give consent to use of my personal data...</td>\n",
              "      <td>20</td>\n",
              "      <td>5.42</td>\n",
              "      <td>Male</td>\n",
              "      <td>Rizal</td>\n",
              "      <td>Family/Friends Outing</td>\n",
              "      <td>Location, Amenities, Price</td>\n",
              "      <td>6ft</td>\n",
              "      <td>Yes</td>\n",
              "      <td>Not Learning How to Swim, Lack of Supervision</td>\n",
              "      <td>Yes</td>\n",
              "      <td>Posters</td>\n",
              "      <td>Call the attention of the management</td>\n",
              "      <td>presence of medical personel</td>\n",
              "      <td>4</td>\n",
              "      <td>3</td>\n",
              "      <td>NaN</td>\n",
              "    </tr>\n",
              "    <tr>\n",
              "      <th>94</th>\n",
              "      <td>pauleenhernandez16@gmail.com</td>\n",
              "      <td>Yes, I give consent to the collection of my pe...</td>\n",
              "      <td>Yes, I give consent to the retention of my per...</td>\n",
              "      <td>Yes, I give consent to use of my personal data...</td>\n",
              "      <td>20</td>\n",
              "      <td>5.08</td>\n",
              "      <td>Female</td>\n",
              "      <td>Laguna</td>\n",
              "      <td>Celebration, Family/Friends Outing</td>\n",
              "      <td>Location, Price, Safety and Security</td>\n",
              "      <td>4ft</td>\n",
              "      <td>No</td>\n",
              "      <td>Not Learning How to Swim, Lack of Supervision</td>\n",
              "      <td>Yes</td>\n",
              "      <td>Terms and Agreement, Posters</td>\n",
              "      <td>Call the attention of the management</td>\n",
              "      <td>providing proper training for resort staff</td>\n",
              "      <td>5</td>\n",
              "      <td>3</td>\n",
              "      <td>NaN</td>\n",
              "    </tr>\n",
              "  </tbody>\n",
              "</table>\n",
              "<p>95 rows × 20 columns</p>\n",
              "</div>\n",
              "      <button class=\"colab-df-convert\" onclick=\"convertToInteractive('df-1069cac9-d7dc-44db-86c2-f86a42834834')\"\n",
              "              title=\"Convert this dataframe to an interactive table.\"\n",
              "              style=\"display:none;\">\n",
              "        \n",
              "  <svg xmlns=\"http://www.w3.org/2000/svg\" height=\"24px\"viewBox=\"0 0 24 24\"\n",
              "       width=\"24px\">\n",
              "    <path d=\"M0 0h24v24H0V0z\" fill=\"none\"/>\n",
              "    <path d=\"M18.56 5.44l.94 2.06.94-2.06 2.06-.94-2.06-.94-.94-2.06-.94 2.06-2.06.94zm-11 1L8.5 8.5l.94-2.06 2.06-.94-2.06-.94L8.5 2.5l-.94 2.06-2.06.94zm10 10l.94 2.06.94-2.06 2.06-.94-2.06-.94-.94-2.06-.94 2.06-2.06.94z\"/><path d=\"M17.41 7.96l-1.37-1.37c-.4-.4-.92-.59-1.43-.59-.52 0-1.04.2-1.43.59L10.3 9.45l-7.72 7.72c-.78.78-.78 2.05 0 2.83L4 21.41c.39.39.9.59 1.41.59.51 0 1.02-.2 1.41-.59l7.78-7.78 2.81-2.81c.8-.78.8-2.07 0-2.86zM5.41 20L4 18.59l7.72-7.72 1.47 1.35L5.41 20z\"/>\n",
              "  </svg>\n",
              "      </button>\n",
              "      \n",
              "  <style>\n",
              "    .colab-df-container {\n",
              "      display:flex;\n",
              "      flex-wrap:wrap;\n",
              "      gap: 12px;\n",
              "    }\n",
              "\n",
              "    .colab-df-convert {\n",
              "      background-color: #E8F0FE;\n",
              "      border: none;\n",
              "      border-radius: 50%;\n",
              "      cursor: pointer;\n",
              "      display: none;\n",
              "      fill: #1967D2;\n",
              "      height: 32px;\n",
              "      padding: 0 0 0 0;\n",
              "      width: 32px;\n",
              "    }\n",
              "\n",
              "    .colab-df-convert:hover {\n",
              "      background-color: #E2EBFA;\n",
              "      box-shadow: 0px 1px 2px rgba(60, 64, 67, 0.3), 0px 1px 3px 1px rgba(60, 64, 67, 0.15);\n",
              "      fill: #174EA6;\n",
              "    }\n",
              "\n",
              "    [theme=dark] .colab-df-convert {\n",
              "      background-color: #3B4455;\n",
              "      fill: #D2E3FC;\n",
              "    }\n",
              "\n",
              "    [theme=dark] .colab-df-convert:hover {\n",
              "      background-color: #434B5C;\n",
              "      box-shadow: 0px 1px 3px 1px rgba(0, 0, 0, 0.15);\n",
              "      filter: drop-shadow(0px 1px 2px rgba(0, 0, 0, 0.3));\n",
              "      fill: #FFFFFF;\n",
              "    }\n",
              "  </style>\n",
              "\n",
              "      <script>\n",
              "        const buttonEl =\n",
              "          document.querySelector('#df-1069cac9-d7dc-44db-86c2-f86a42834834 button.colab-df-convert');\n",
              "        buttonEl.style.display =\n",
              "          google.colab.kernel.accessAllowed ? 'block' : 'none';\n",
              "\n",
              "        async function convertToInteractive(key) {\n",
              "          const element = document.querySelector('#df-1069cac9-d7dc-44db-86c2-f86a42834834');\n",
              "          const dataTable =\n",
              "            await google.colab.kernel.invokeFunction('convertToInteractive',\n",
              "                                                     [key], {});\n",
              "          if (!dataTable) return;\n",
              "\n",
              "          const docLinkHtml = 'Like what you see? Visit the ' +\n",
              "            '<a target=\"_blank\" href=https://colab.research.google.com/notebooks/data_table.ipynb>data table notebook</a>'\n",
              "            + ' to learn more about interactive tables.';\n",
              "          element.innerHTML = '';\n",
              "          dataTable['output_type'] = 'display_data';\n",
              "          await google.colab.output.renderOutput(dataTable, element);\n",
              "          const docLink = document.createElement('div');\n",
              "          docLink.innerHTML = docLinkHtml;\n",
              "          element.appendChild(docLink);\n",
              "        }\n",
              "      </script>\n",
              "    </div>\n",
              "  </div>\n",
              "  "
            ],
            "text/plain": [
              "                    Email Address  \\\n",
              "0                             NaN   \n",
              "1                             NaN   \n",
              "2                             NaN   \n",
              "3                             NaN   \n",
              "4                             NaN   \n",
              "..                            ...   \n",
              "90           ken.vistan@gmail.com   \n",
              "91  hazelnepomuceno1998@gmail.com   \n",
              "92            aprilrcia@gmail.com   \n",
              "93        garcia.jmark1@gmail.com   \n",
              "94   pauleenhernandez16@gmail.com   \n",
              "\n",
              "                  Permission to collect personal data  \\\n",
              "0   Yes, I give consent to the collection of my pe...   \n",
              "1   Yes, I give consent to the collection of my pe...   \n",
              "2   Yes, I give consent to the collection of my pe...   \n",
              "3   Yes, I give consent to the collection of my pe...   \n",
              "4   Yes, I give consent to the collection of my pe...   \n",
              "..                                                ...   \n",
              "90  Yes, I give consent to the collection of my pe...   \n",
              "91  Yes, I give consent to the collection of my pe...   \n",
              "92  Yes, I give consent to the collection of my pe...   \n",
              "93  Yes, I give consent to the collection of my pe...   \n",
              "94  Yes, I give consent to the collection of my pe...   \n",
              "\n",
              "                    Permission to store personal data  \\\n",
              "0   Yes, I give consent to the retention of my per...   \n",
              "1   Yes, I give consent to the retention of my per...   \n",
              "2   Yes, I give consent to the retention of my per...   \n",
              "3   Yes, I give consent to the retention of my per...   \n",
              "4   Yes, I give consent to the retention of my per...   \n",
              "..                                                ...   \n",
              "90  Yes, I give consent to the retention of my per...   \n",
              "91  Yes, I give consent to the retention of my per...   \n",
              "92  Yes, I give consent to the retention of my per...   \n",
              "93  Yes, I give consent to the retention of my per...   \n",
              "94  Yes, I give consent to the retention of my per...   \n",
              "\n",
              "                   Permission to use my personal data  Age:  Height Gender:  \\\n",
              "0   Yes, I give consent to use of my personal data...    21    5.58  LGBTQ+   \n",
              "1   Yes, I give consent to use of my personal data...    21    5.00  Female   \n",
              "2   Yes, I give consent to use of my personal data...    20    6.50  Female   \n",
              "3   Yes, I give consent to use of my personal data...    23    5.42    Male   \n",
              "4   Yes, I give consent to use of my personal data...    34    6.19  LGBTQ+   \n",
              "..                                                ...   ...     ...     ...   \n",
              "90  Yes, I give consent to use of my personal data...    21    5.92    Male   \n",
              "91  Yes, I give consent to use of my personal data...    24    5.67  Female   \n",
              "92  Yes, I give consent to use of my personal data...    25    5.25  Female   \n",
              "93  Yes, I give consent to use of my personal data...    20    5.42    Male   \n",
              "94  Yes, I give consent to use of my personal data...    20    5.08  Female   \n",
              "\n",
              "    Location                                             Q1  \\\n",
              "0     Quezon             Celebration, Family/Friends Outing   \n",
              "1      Rizal             Celebration, Family/Friends Outing   \n",
              "2     Laguna             Celebration, Family/Friends Outing   \n",
              "3      Rizal  Gathering, Celebration, Family/Friends Outing   \n",
              "4      Rizal                          Family/Friends Outing   \n",
              "..       ...                                            ...   \n",
              "90    Quezon                                    Celebration   \n",
              "91  Batangas                          Family/Friends Outing   \n",
              "92     Rizal                         Gathering, Celebration   \n",
              "93     Rizal                          Family/Friends Outing   \n",
              "94    Laguna             Celebration, Family/Friends Outing   \n",
              "\n",
              "                                                   Q2   Q3   Q4  \\\n",
              "0    Location, Ammenities, Price, Safety and Security  5ft   No   \n",
              "1    Location, Ammenities, Price, Safety and Security  5ft   No   \n",
              "2    Location, Ammenities, Price, Safety and Security  4ft   No   \n",
              "3                Location, Price, Safety and Security  6ft   No   \n",
              "4   Location, Ammenities, Price, Safety and Securi...  5ft   No   \n",
              "..                                                ...  ...  ...   \n",
              "90                                          Amenities  6ft   No   \n",
              "91    Location, Amenities, Price, Safety and Security  6ft   No   \n",
              "92                         Price, Safety and Security  5ft  Yes   \n",
              "93                         Location, Amenities, Price  6ft  Yes   \n",
              "94               Location, Price, Safety and Security  4ft   No   \n",
              "\n",
              "                                                   Q5   Q6  \\\n",
              "0   Not Learning How to Swim, Lack of Supervision,...  Yes   \n",
              "1        Not Learning How to Swim, Presence of Liquor  Yes   \n",
              "2   Not Learning How to Swim, Lack of Supervision,...  Yes   \n",
              "3       Not Learning How to Swim, Lack of Supervision  Yes   \n",
              "4   Not Learning How to Swim, Lack of Supervision,...  Yes   \n",
              "..                                                ...  ...   \n",
              "90  Not Learning How to Swim, Lack of Supervision,...  Yes   \n",
              "91       Not Learning How to Swim, Presence of Liquor  Yes   \n",
              "92             Lack of Supervision, Improper Security   No   \n",
              "93      Not Learning How to Swim, Lack of Supervision  Yes   \n",
              "94      Not Learning How to Swim, Lack of Supervision  Yes   \n",
              "\n",
              "                                                 Q7  \\\n",
              "0                      Terms and Agreement, Posters   \n",
              "1                                           Posters   \n",
              "2              Terms and Agreement, Pre-orientation   \n",
              "3                                           Posters   \n",
              "4   Terms and Agreement, Posters, Lifeguard on duty   \n",
              "..                                              ...   \n",
              "90                              Terms and Agreement   \n",
              "91                     Terms and Agreement, Posters   \n",
              "92                                              NaN   \n",
              "93                                          Posters   \n",
              "94                     Terms and Agreement, Posters   \n",
              "\n",
              "                                      Q8  \\\n",
              "0   Call the attention of the management   \n",
              "1                  Perform emergency aid   \n",
              "2                  Perform emergency aid   \n",
              "3   Call the attention of the management   \n",
              "4   Call the attention of the management   \n",
              "..                                   ...   \n",
              "90                Call medical attention   \n",
              "91  Call the attention of the management   \n",
              "92  Call the attention of the management   \n",
              "93  Call the attention of the management   \n",
              "94  Call the attention of the management   \n",
              "\n",
              "                                                   Q9  Q10  Q11  \\\n",
              "0   They have a lifeguard and medical supplies ready.    4    3   \n",
              "1                             To respond immediately     4    4   \n",
              "2   resorts must always be ready to help the guest...    4    3   \n",
              "3   I expect that their personnels would know the ...    4    4   \n",
              "4                   Rescue the person who is drowning    5    5   \n",
              "..                                                ...  ...  ...   \n",
              "90                                          Attentive    4    4   \n",
              "91  They should be able to provide an emergency ai...    5    5   \n",
              "92                                 handle immediately    4    3   \n",
              "93                       presence of medical personel    4    3   \n",
              "94         providing proper training for resort staff    5    3   \n",
              "\n",
              "   Comments/Suggestions  \n",
              "0                   NaN  \n",
              "1                   NaN  \n",
              "2                   NaN  \n",
              "3                   NaN  \n",
              "4                   NaN  \n",
              "..                  ...  \n",
              "90                 None  \n",
              "91                  NaN  \n",
              "92                  NaN  \n",
              "93                  NaN  \n",
              "94                  NaN  \n",
              "\n",
              "[95 rows x 20 columns]"
            ]
          },
          "metadata": {},
          "execution_count": 3
        }
      ]
    },
    {
      "cell_type": "code",
      "source": [
        "response_DF = orig_df.copy()\n",
        "response_DF.drop('Email Address', inplace=True, axis=1)\n",
        "response_DF.drop('Permission to collect personal data', inplace=True, axis=1)\n",
        "response_DF.drop('Permission to store personal data', inplace=True, axis=1)\n",
        "response_DF.drop('Permission to use my personal data', inplace=True, axis=1)\n",
        "response_DF.drop('Comments/Suggestions', inplace=True, axis=1)"
      ],
      "metadata": {
        "id": "XY1ntkSVo5gT"
      },
      "execution_count": 4,
      "outputs": []
    },
    {
      "cell_type": "code",
      "source": [
        "response_DF.isnull().sum()"
      ],
      "metadata": {
        "colab": {
          "base_uri": "https://localhost:8080/"
        },
        "id": "RLVjM0zdo9hT",
        "outputId": "e6415eff-6531-4fbc-eca9-a2eefde32955"
      },
      "execution_count": 5,
      "outputs": [
        {
          "output_type": "execute_result",
          "data": {
            "text/plain": [
              "Age:         0\n",
              "Height       0\n",
              "Gender:      0\n",
              "Location     0\n",
              "Q1           0\n",
              "Q2           0\n",
              "Q3           0\n",
              "Q4           0\n",
              "Q5           0\n",
              "Q6           0\n",
              "Q7          14\n",
              "Q8           0\n",
              "Q9           2\n",
              "Q10          0\n",
              "Q11          0\n",
              "dtype: int64"
            ]
          },
          "metadata": {},
          "execution_count": 5
        }
      ]
    },
    {
      "cell_type": "code",
      "source": [
        "response_DF = response_DF.fillna(0)\n",
        "response_DF"
      ],
      "metadata": {
        "colab": {
          "base_uri": "https://localhost:8080/",
          "height": 0
        },
        "id": "Oo5Fm0q0pBhu",
        "outputId": "5a942db9-8c54-421f-bbb8-1924b59275f2"
      },
      "execution_count": 6,
      "outputs": [
        {
          "output_type": "execute_result",
          "data": {
            "text/html": [
              "\n",
              "  <div id=\"df-3c7e06da-6554-4bf3-8246-637d6c2c1ec0\">\n",
              "    <div class=\"colab-df-container\">\n",
              "      <div>\n",
              "<style scoped>\n",
              "    .dataframe tbody tr th:only-of-type {\n",
              "        vertical-align: middle;\n",
              "    }\n",
              "\n",
              "    .dataframe tbody tr th {\n",
              "        vertical-align: top;\n",
              "    }\n",
              "\n",
              "    .dataframe thead th {\n",
              "        text-align: right;\n",
              "    }\n",
              "</style>\n",
              "<table border=\"1\" class=\"dataframe\">\n",
              "  <thead>\n",
              "    <tr style=\"text-align: right;\">\n",
              "      <th></th>\n",
              "      <th>Age:</th>\n",
              "      <th>Height</th>\n",
              "      <th>Gender:</th>\n",
              "      <th>Location</th>\n",
              "      <th>Q1</th>\n",
              "      <th>Q2</th>\n",
              "      <th>Q3</th>\n",
              "      <th>Q4</th>\n",
              "      <th>Q5</th>\n",
              "      <th>Q6</th>\n",
              "      <th>Q7</th>\n",
              "      <th>Q8</th>\n",
              "      <th>Q9</th>\n",
              "      <th>Q10</th>\n",
              "      <th>Q11</th>\n",
              "    </tr>\n",
              "  </thead>\n",
              "  <tbody>\n",
              "    <tr>\n",
              "      <th>0</th>\n",
              "      <td>21</td>\n",
              "      <td>5.58</td>\n",
              "      <td>LGBTQ+</td>\n",
              "      <td>Quezon</td>\n",
              "      <td>Celebration, Family/Friends Outing</td>\n",
              "      <td>Location, Ammenities, Price, Safety and Security</td>\n",
              "      <td>5ft</td>\n",
              "      <td>No</td>\n",
              "      <td>Not Learning How to Swim, Lack of Supervision,...</td>\n",
              "      <td>Yes</td>\n",
              "      <td>Terms and Agreement, Posters</td>\n",
              "      <td>Call the attention of the management</td>\n",
              "      <td>They have a lifeguard and medical supplies ready.</td>\n",
              "      <td>4</td>\n",
              "      <td>3</td>\n",
              "    </tr>\n",
              "    <tr>\n",
              "      <th>1</th>\n",
              "      <td>21</td>\n",
              "      <td>5.00</td>\n",
              "      <td>Female</td>\n",
              "      <td>Rizal</td>\n",
              "      <td>Celebration, Family/Friends Outing</td>\n",
              "      <td>Location, Ammenities, Price, Safety and Security</td>\n",
              "      <td>5ft</td>\n",
              "      <td>No</td>\n",
              "      <td>Not Learning How to Swim, Presence of Liquor</td>\n",
              "      <td>Yes</td>\n",
              "      <td>Posters</td>\n",
              "      <td>Perform emergency aid</td>\n",
              "      <td>To respond immediately</td>\n",
              "      <td>4</td>\n",
              "      <td>4</td>\n",
              "    </tr>\n",
              "    <tr>\n",
              "      <th>2</th>\n",
              "      <td>20</td>\n",
              "      <td>6.50</td>\n",
              "      <td>Female</td>\n",
              "      <td>Laguna</td>\n",
              "      <td>Celebration, Family/Friends Outing</td>\n",
              "      <td>Location, Ammenities, Price, Safety and Security</td>\n",
              "      <td>4ft</td>\n",
              "      <td>No</td>\n",
              "      <td>Not Learning How to Swim, Lack of Supervision,...</td>\n",
              "      <td>Yes</td>\n",
              "      <td>Terms and Agreement, Pre-orientation</td>\n",
              "      <td>Perform emergency aid</td>\n",
              "      <td>resorts must always be ready to help the guest...</td>\n",
              "      <td>4</td>\n",
              "      <td>3</td>\n",
              "    </tr>\n",
              "    <tr>\n",
              "      <th>3</th>\n",
              "      <td>23</td>\n",
              "      <td>5.42</td>\n",
              "      <td>Male</td>\n",
              "      <td>Rizal</td>\n",
              "      <td>Gathering, Celebration, Family/Friends Outing</td>\n",
              "      <td>Location, Price, Safety and Security</td>\n",
              "      <td>6ft</td>\n",
              "      <td>No</td>\n",
              "      <td>Not Learning How to Swim, Lack of Supervision</td>\n",
              "      <td>Yes</td>\n",
              "      <td>Posters</td>\n",
              "      <td>Call the attention of the management</td>\n",
              "      <td>I expect that their personnels would know the ...</td>\n",
              "      <td>4</td>\n",
              "      <td>4</td>\n",
              "    </tr>\n",
              "    <tr>\n",
              "      <th>4</th>\n",
              "      <td>34</td>\n",
              "      <td>6.19</td>\n",
              "      <td>LGBTQ+</td>\n",
              "      <td>Rizal</td>\n",
              "      <td>Family/Friends Outing</td>\n",
              "      <td>Location, Ammenities, Price, Safety and Securi...</td>\n",
              "      <td>5ft</td>\n",
              "      <td>No</td>\n",
              "      <td>Not Learning How to Swim, Lack of Supervision,...</td>\n",
              "      <td>Yes</td>\n",
              "      <td>Terms and Agreement, Posters, Lifeguard on duty</td>\n",
              "      <td>Call the attention of the management</td>\n",
              "      <td>Rescue the person who is drowning</td>\n",
              "      <td>5</td>\n",
              "      <td>5</td>\n",
              "    </tr>\n",
              "    <tr>\n",
              "      <th>...</th>\n",
              "      <td>...</td>\n",
              "      <td>...</td>\n",
              "      <td>...</td>\n",
              "      <td>...</td>\n",
              "      <td>...</td>\n",
              "      <td>...</td>\n",
              "      <td>...</td>\n",
              "      <td>...</td>\n",
              "      <td>...</td>\n",
              "      <td>...</td>\n",
              "      <td>...</td>\n",
              "      <td>...</td>\n",
              "      <td>...</td>\n",
              "      <td>...</td>\n",
              "      <td>...</td>\n",
              "    </tr>\n",
              "    <tr>\n",
              "      <th>90</th>\n",
              "      <td>21</td>\n",
              "      <td>5.92</td>\n",
              "      <td>Male</td>\n",
              "      <td>Quezon</td>\n",
              "      <td>Celebration</td>\n",
              "      <td>Amenities</td>\n",
              "      <td>6ft</td>\n",
              "      <td>No</td>\n",
              "      <td>Not Learning How to Swim, Lack of Supervision,...</td>\n",
              "      <td>Yes</td>\n",
              "      <td>Terms and Agreement</td>\n",
              "      <td>Call medical attention</td>\n",
              "      <td>Attentive</td>\n",
              "      <td>4</td>\n",
              "      <td>4</td>\n",
              "    </tr>\n",
              "    <tr>\n",
              "      <th>91</th>\n",
              "      <td>24</td>\n",
              "      <td>5.67</td>\n",
              "      <td>Female</td>\n",
              "      <td>Batangas</td>\n",
              "      <td>Family/Friends Outing</td>\n",
              "      <td>Location, Amenities, Price, Safety and Security</td>\n",
              "      <td>6ft</td>\n",
              "      <td>No</td>\n",
              "      <td>Not Learning How to Swim, Presence of Liquor</td>\n",
              "      <td>Yes</td>\n",
              "      <td>Terms and Agreement, Posters</td>\n",
              "      <td>Call the attention of the management</td>\n",
              "      <td>They should be able to provide an emergency ai...</td>\n",
              "      <td>5</td>\n",
              "      <td>5</td>\n",
              "    </tr>\n",
              "    <tr>\n",
              "      <th>92</th>\n",
              "      <td>25</td>\n",
              "      <td>5.25</td>\n",
              "      <td>Female</td>\n",
              "      <td>Rizal</td>\n",
              "      <td>Gathering, Celebration</td>\n",
              "      <td>Price, Safety and Security</td>\n",
              "      <td>5ft</td>\n",
              "      <td>Yes</td>\n",
              "      <td>Lack of Supervision, Improper Security</td>\n",
              "      <td>No</td>\n",
              "      <td>0</td>\n",
              "      <td>Call the attention of the management</td>\n",
              "      <td>handle immediately</td>\n",
              "      <td>4</td>\n",
              "      <td>3</td>\n",
              "    </tr>\n",
              "    <tr>\n",
              "      <th>93</th>\n",
              "      <td>20</td>\n",
              "      <td>5.42</td>\n",
              "      <td>Male</td>\n",
              "      <td>Rizal</td>\n",
              "      <td>Family/Friends Outing</td>\n",
              "      <td>Location, Amenities, Price</td>\n",
              "      <td>6ft</td>\n",
              "      <td>Yes</td>\n",
              "      <td>Not Learning How to Swim, Lack of Supervision</td>\n",
              "      <td>Yes</td>\n",
              "      <td>Posters</td>\n",
              "      <td>Call the attention of the management</td>\n",
              "      <td>presence of medical personel</td>\n",
              "      <td>4</td>\n",
              "      <td>3</td>\n",
              "    </tr>\n",
              "    <tr>\n",
              "      <th>94</th>\n",
              "      <td>20</td>\n",
              "      <td>5.08</td>\n",
              "      <td>Female</td>\n",
              "      <td>Laguna</td>\n",
              "      <td>Celebration, Family/Friends Outing</td>\n",
              "      <td>Location, Price, Safety and Security</td>\n",
              "      <td>4ft</td>\n",
              "      <td>No</td>\n",
              "      <td>Not Learning How to Swim, Lack of Supervision</td>\n",
              "      <td>Yes</td>\n",
              "      <td>Terms and Agreement, Posters</td>\n",
              "      <td>Call the attention of the management</td>\n",
              "      <td>providing proper training for resort staff</td>\n",
              "      <td>5</td>\n",
              "      <td>3</td>\n",
              "    </tr>\n",
              "  </tbody>\n",
              "</table>\n",
              "<p>95 rows × 15 columns</p>\n",
              "</div>\n",
              "      <button class=\"colab-df-convert\" onclick=\"convertToInteractive('df-3c7e06da-6554-4bf3-8246-637d6c2c1ec0')\"\n",
              "              title=\"Convert this dataframe to an interactive table.\"\n",
              "              style=\"display:none;\">\n",
              "        \n",
              "  <svg xmlns=\"http://www.w3.org/2000/svg\" height=\"24px\"viewBox=\"0 0 24 24\"\n",
              "       width=\"24px\">\n",
              "    <path d=\"M0 0h24v24H0V0z\" fill=\"none\"/>\n",
              "    <path d=\"M18.56 5.44l.94 2.06.94-2.06 2.06-.94-2.06-.94-.94-2.06-.94 2.06-2.06.94zm-11 1L8.5 8.5l.94-2.06 2.06-.94-2.06-.94L8.5 2.5l-.94 2.06-2.06.94zm10 10l.94 2.06.94-2.06 2.06-.94-2.06-.94-.94-2.06-.94 2.06-2.06.94z\"/><path d=\"M17.41 7.96l-1.37-1.37c-.4-.4-.92-.59-1.43-.59-.52 0-1.04.2-1.43.59L10.3 9.45l-7.72 7.72c-.78.78-.78 2.05 0 2.83L4 21.41c.39.39.9.59 1.41.59.51 0 1.02-.2 1.41-.59l7.78-7.78 2.81-2.81c.8-.78.8-2.07 0-2.86zM5.41 20L4 18.59l7.72-7.72 1.47 1.35L5.41 20z\"/>\n",
              "  </svg>\n",
              "      </button>\n",
              "      \n",
              "  <style>\n",
              "    .colab-df-container {\n",
              "      display:flex;\n",
              "      flex-wrap:wrap;\n",
              "      gap: 12px;\n",
              "    }\n",
              "\n",
              "    .colab-df-convert {\n",
              "      background-color: #E8F0FE;\n",
              "      border: none;\n",
              "      border-radius: 50%;\n",
              "      cursor: pointer;\n",
              "      display: none;\n",
              "      fill: #1967D2;\n",
              "      height: 32px;\n",
              "      padding: 0 0 0 0;\n",
              "      width: 32px;\n",
              "    }\n",
              "\n",
              "    .colab-df-convert:hover {\n",
              "      background-color: #E2EBFA;\n",
              "      box-shadow: 0px 1px 2px rgba(60, 64, 67, 0.3), 0px 1px 3px 1px rgba(60, 64, 67, 0.15);\n",
              "      fill: #174EA6;\n",
              "    }\n",
              "\n",
              "    [theme=dark] .colab-df-convert {\n",
              "      background-color: #3B4455;\n",
              "      fill: #D2E3FC;\n",
              "    }\n",
              "\n",
              "    [theme=dark] .colab-df-convert:hover {\n",
              "      background-color: #434B5C;\n",
              "      box-shadow: 0px 1px 3px 1px rgba(0, 0, 0, 0.15);\n",
              "      filter: drop-shadow(0px 1px 2px rgba(0, 0, 0, 0.3));\n",
              "      fill: #FFFFFF;\n",
              "    }\n",
              "  </style>\n",
              "\n",
              "      <script>\n",
              "        const buttonEl =\n",
              "          document.querySelector('#df-3c7e06da-6554-4bf3-8246-637d6c2c1ec0 button.colab-df-convert');\n",
              "        buttonEl.style.display =\n",
              "          google.colab.kernel.accessAllowed ? 'block' : 'none';\n",
              "\n",
              "        async function convertToInteractive(key) {\n",
              "          const element = document.querySelector('#df-3c7e06da-6554-4bf3-8246-637d6c2c1ec0');\n",
              "          const dataTable =\n",
              "            await google.colab.kernel.invokeFunction('convertToInteractive',\n",
              "                                                     [key], {});\n",
              "          if (!dataTable) return;\n",
              "\n",
              "          const docLinkHtml = 'Like what you see? Visit the ' +\n",
              "            '<a target=\"_blank\" href=https://colab.research.google.com/notebooks/data_table.ipynb>data table notebook</a>'\n",
              "            + ' to learn more about interactive tables.';\n",
              "          element.innerHTML = '';\n",
              "          dataTable['output_type'] = 'display_data';\n",
              "          await google.colab.output.renderOutput(dataTable, element);\n",
              "          const docLink = document.createElement('div');\n",
              "          docLink.innerHTML = docLinkHtml;\n",
              "          element.appendChild(docLink);\n",
              "        }\n",
              "      </script>\n",
              "    </div>\n",
              "  </div>\n",
              "  "
            ],
            "text/plain": [
              "    Age:  Height Gender:  Location  \\\n",
              "0     21    5.58  LGBTQ+    Quezon   \n",
              "1     21    5.00  Female     Rizal   \n",
              "2     20    6.50  Female    Laguna   \n",
              "3     23    5.42    Male     Rizal   \n",
              "4     34    6.19  LGBTQ+     Rizal   \n",
              "..   ...     ...     ...       ...   \n",
              "90    21    5.92    Male    Quezon   \n",
              "91    24    5.67  Female  Batangas   \n",
              "92    25    5.25  Female     Rizal   \n",
              "93    20    5.42    Male     Rizal   \n",
              "94    20    5.08  Female    Laguna   \n",
              "\n",
              "                                               Q1  \\\n",
              "0              Celebration, Family/Friends Outing   \n",
              "1              Celebration, Family/Friends Outing   \n",
              "2              Celebration, Family/Friends Outing   \n",
              "3   Gathering, Celebration, Family/Friends Outing   \n",
              "4                           Family/Friends Outing   \n",
              "..                                            ...   \n",
              "90                                    Celebration   \n",
              "91                          Family/Friends Outing   \n",
              "92                         Gathering, Celebration   \n",
              "93                          Family/Friends Outing   \n",
              "94             Celebration, Family/Friends Outing   \n",
              "\n",
              "                                                   Q2   Q3   Q4  \\\n",
              "0    Location, Ammenities, Price, Safety and Security  5ft   No   \n",
              "1    Location, Ammenities, Price, Safety and Security  5ft   No   \n",
              "2    Location, Ammenities, Price, Safety and Security  4ft   No   \n",
              "3                Location, Price, Safety and Security  6ft   No   \n",
              "4   Location, Ammenities, Price, Safety and Securi...  5ft   No   \n",
              "..                                                ...  ...  ...   \n",
              "90                                          Amenities  6ft   No   \n",
              "91    Location, Amenities, Price, Safety and Security  6ft   No   \n",
              "92                         Price, Safety and Security  5ft  Yes   \n",
              "93                         Location, Amenities, Price  6ft  Yes   \n",
              "94               Location, Price, Safety and Security  4ft   No   \n",
              "\n",
              "                                                   Q5   Q6  \\\n",
              "0   Not Learning How to Swim, Lack of Supervision,...  Yes   \n",
              "1        Not Learning How to Swim, Presence of Liquor  Yes   \n",
              "2   Not Learning How to Swim, Lack of Supervision,...  Yes   \n",
              "3       Not Learning How to Swim, Lack of Supervision  Yes   \n",
              "4   Not Learning How to Swim, Lack of Supervision,...  Yes   \n",
              "..                                                ...  ...   \n",
              "90  Not Learning How to Swim, Lack of Supervision,...  Yes   \n",
              "91       Not Learning How to Swim, Presence of Liquor  Yes   \n",
              "92             Lack of Supervision, Improper Security   No   \n",
              "93      Not Learning How to Swim, Lack of Supervision  Yes   \n",
              "94      Not Learning How to Swim, Lack of Supervision  Yes   \n",
              "\n",
              "                                                 Q7  \\\n",
              "0                      Terms and Agreement, Posters   \n",
              "1                                           Posters   \n",
              "2              Terms and Agreement, Pre-orientation   \n",
              "3                                           Posters   \n",
              "4   Terms and Agreement, Posters, Lifeguard on duty   \n",
              "..                                              ...   \n",
              "90                              Terms and Agreement   \n",
              "91                     Terms and Agreement, Posters   \n",
              "92                                                0   \n",
              "93                                          Posters   \n",
              "94                     Terms and Agreement, Posters   \n",
              "\n",
              "                                      Q8  \\\n",
              "0   Call the attention of the management   \n",
              "1                  Perform emergency aid   \n",
              "2                  Perform emergency aid   \n",
              "3   Call the attention of the management   \n",
              "4   Call the attention of the management   \n",
              "..                                   ...   \n",
              "90                Call medical attention   \n",
              "91  Call the attention of the management   \n",
              "92  Call the attention of the management   \n",
              "93  Call the attention of the management   \n",
              "94  Call the attention of the management   \n",
              "\n",
              "                                                   Q9  Q10  Q11  \n",
              "0   They have a lifeguard and medical supplies ready.    4    3  \n",
              "1                             To respond immediately     4    4  \n",
              "2   resorts must always be ready to help the guest...    4    3  \n",
              "3   I expect that their personnels would know the ...    4    4  \n",
              "4                   Rescue the person who is drowning    5    5  \n",
              "..                                                ...  ...  ...  \n",
              "90                                          Attentive    4    4  \n",
              "91  They should be able to provide an emergency ai...    5    5  \n",
              "92                                 handle immediately    4    3  \n",
              "93                       presence of medical personel    4    3  \n",
              "94         providing proper training for resort staff    5    3  \n",
              "\n",
              "[95 rows x 15 columns]"
            ]
          },
          "metadata": {},
          "execution_count": 6
        }
      ]
    },
    {
      "cell_type": "markdown",
      "source": [
        "# Decsriptive Analytics"
      ],
      "metadata": {
        "id": "rh4FKTMdGJjP"
      }
    },
    {
      "cell_type": "markdown",
      "source": [
        "### Age"
      ],
      "metadata": {
        "id": "S0tTde7vGMRH"
      }
    },
    {
      "cell_type": "code",
      "source": [
        "response_DF['Age:'].value_counts()"
      ],
      "metadata": {
        "id": "MSvxWeoeGO-v",
        "colab": {
          "base_uri": "https://localhost:8080/"
        },
        "outputId": "1c779a93-e209-4b76-fb10-764980ef860e"
      },
      "execution_count": 7,
      "outputs": [
        {
          "output_type": "execute_result",
          "data": {
            "text/plain": [
              "21    21\n",
              "20    17\n",
              "22    11\n",
              "19     6\n",
              "24     6\n",
              "23     4\n",
              "25     3\n",
              "30     3\n",
              "26     3\n",
              "18     2\n",
              "40     2\n",
              "42     2\n",
              "27     2\n",
              "29     1\n",
              "38     1\n",
              "58     1\n",
              "17     1\n",
              "37     1\n",
              "33     1\n",
              "50     1\n",
              "55     1\n",
              "15     1\n",
              "12     1\n",
              "35     1\n",
              "34     1\n",
              "36     1\n",
              "Name: Age:, dtype: int64"
            ]
          },
          "metadata": {},
          "execution_count": 7
        }
      ]
    },
    {
      "cell_type": "code",
      "source": [
        "age_sorted = response_DF['Age:'].sort_values(ascending = True)\n",
        "age = sns.distplot(x = age_sorted)\n",
        "fig = plt.gcf()\n",
        "fig.set_size_inches(15, 10)\n",
        "\n",
        "plt.title('Age')\n",
        "plt.savefig('Age.png', dpi=300)"
      ],
      "metadata": {
        "colab": {
          "base_uri": "https://localhost:8080/",
          "height": 665
        },
        "id": "s2P1CiOGpLkf",
        "outputId": "8a354a41-17ea-4776-91a4-34a1b9b9deec"
      },
      "execution_count": 8,
      "outputs": [
        {
          "output_type": "stream",
          "name": "stderr",
          "text": [
            "/usr/local/lib/python3.7/dist-packages/seaborn/distributions.py:2619: FutureWarning: `distplot` is a deprecated function and will be removed in a future version. Please adapt your code to use either `displot` (a figure-level function with similar flexibility) or `histplot` (an axes-level function for histograms).\n",
            "  warnings.warn(msg, FutureWarning)\n"
          ]
        },
        {
          "output_type": "display_data",
          "data": {
            "image/png": "[encoded data removed]",
            "text/plain": [
              "<Figure size 1080x720 with 1 Axes>"
            ]
          },
          "metadata": {
            "needs_background": "light"
          }
        }
      ]
    },
    {
      "cell_type": "markdown",
      "source": [
        "> **Insights:**\n",
        "<p align = Justify>The graph shows the age of the respondents ranges from 20 to 28 years old. This can depict that the age of most of the respondents or pool goers is in working age. Other ages such as the mid-30s to mid-50s are parents that may be accompanying their child. This is also the reason why there are only a few respondents that are underaged. </p>"
      ],
      "metadata": {
        "id": "0a1umwC-pQkw"
      }
    },
    {
      "cell_type": "markdown",
      "source": [
        "## Height"
      ],
      "metadata": {
        "id": "v_RkhGvrGPY4"
      }
    },
    {
      "cell_type": "code",
      "source": [
        "response_DF.drop(89, axis=0, inplace=True)"
      ],
      "metadata": {
        "id": "IGwS9UyJGQ7_"
      },
      "execution_count": 9,
      "outputs": []
    },
    {
      "cell_type": "code",
      "source": [
        "response_DF['Height'].value_counts()"
      ],
      "metadata": {
        "colab": {
          "base_uri": "https://localhost:8080/"
        },
        "id": "I13SFgqtpo7I",
        "outputId": "7b46cd98-f331-49c7-c9c1-57a52dddde78"
      },
      "execution_count": 10,
      "outputs": [
        {
          "output_type": "execute_result",
          "data": {
            "text/plain": [
              "5.00    14\n",
              "5.25    13\n",
              "5.17    11\n",
              "4.92     9\n",
              "5.33     8\n",
              "5.83     8\n",
              "5.42     6\n",
              "5.08     5\n",
              "5.50     4\n",
              "5.67     3\n",
              "5.75     3\n",
              "5.58     2\n",
              "4.83     1\n",
              "4.00     1\n",
              "4.67     1\n",
              "4.58     1\n",
              "6.19     1\n",
              "6.50     1\n",
              "5.29     1\n",
              "5.92     1\n",
              "Name: Height, dtype: int64"
            ]
          },
          "metadata": {},
          "execution_count": 10
        }
      ]
    },
    {
      "cell_type": "code",
      "source": [
        "height_sorted = response_DF['Height'].sort_values(ascending = True)\n",
        "\n",
        "sns.histplot(x = height_sorted, kde=True)\n",
        "fig = plt.gcf()\n",
        "fig.set_size_inches(15, 10)\n",
        "\n",
        "plt.title('Height')\n",
        "plt.savefig('Height.png', dpi=300)"
      ],
      "metadata": {
        "colab": {
          "base_uri": "https://localhost:8080/",
          "height": 627
        },
        "id": "q-74Urg8pq5o",
        "outputId": "3395d497-1df0-47eb-848e-d7a5a66d0db9"
      },
      "execution_count": 11,
      "outputs": [
        {
          "output_type": "display_data",
          "data": {
            "image/png": "[encoded data removed]",
            "text/plain": [
              "<Figure size 1080x720 with 1 Axes>"
            ]
          },
          "metadata": {
            "needs_background": "light"
          }
        }
      ]
    },
    {
      "cell_type": "markdown",
      "source": [
        "> **Insights:**\n",
        "<p align = Justify> The graph shows the range of the height in the researcher's respondents, whereas it is mostly around the height of 5'0 - 5'3.</p>"
      ],
      "metadata": {
        "id": "FaTV4jP1pzJ0"
      }
    },
    {
      "cell_type": "markdown",
      "source": [
        "## Gender"
      ],
      "metadata": {
        "id": "S1bMZnCxIHdP"
      }
    },
    {
      "cell_type": "code",
      "source": [
        "response_DF['Gender:'].value_counts()"
      ],
      "metadata": {
        "id": "8JVfLUCwIMEz",
        "colab": {
          "base_uri": "https://localhost:8080/"
        },
        "outputId": "20729ac4-c4bb-44c1-9e93-2da940a73753"
      },
      "execution_count": 12,
      "outputs": [
        {
          "output_type": "execute_result",
          "data": {
            "text/plain": [
              "Female               62\n",
              "Male                 28\n",
              "LGBTQ+                3\n",
              "Prefer not to say     1\n",
              "Name: Gender:, dtype: int64"
            ]
          },
          "metadata": {},
          "execution_count": 12
        }
      ]
    },
    {
      "cell_type": "code",
      "source": [
        "Gender = response_DF.groupby('Gender:')\n",
        "plt.title\n",
        "Gender.size().plot(kind='barh')\n",
        "\n",
        "plt.tight_layout()\n",
        "plt.title('Gender of the Respondents')\n",
        "plt.savefig('Gender.png', dpi=300)"
      ],
      "metadata": {
        "colab": {
          "base_uri": "https://localhost:8080/",
          "height": 313
        },
        "id": "n3xA6x4Kp9lb",
        "outputId": "4ea06119-c1a6-406b-a084-fcbe4656de07"
      },
      "execution_count": 13,
      "outputs": [
        {
          "output_type": "display_data",
          "data": {
            "image/png": "[encoded data removed]",
            "text/plain": [
              "<Figure size 432x288 with 1 Axes>"
            ]
          },
          "metadata": {
            "needs_background": "light"
          }
        }
      ]
    },
    {
      "cell_type": "markdown",
      "source": [
        "> **Insights:**\n",
        "Most of the Respondents in the survey are female. This visualization can imply that most of the pool resort goers in the area of CALABARZON are female. "
      ],
      "metadata": {
        "id": "u2SkcHE4qCWo"
      }
    },
    {
      "cell_type": "markdown",
      "source": [
        "## Location"
      ],
      "metadata": {
        "id": "dw5L8avoIJGY"
      }
    },
    {
      "cell_type": "code",
      "source": [
        "response_DF['Location'].value_counts()"
      ],
      "metadata": {
        "colab": {
          "base_uri": "https://localhost:8080/"
        },
        "id": "7lue02bUqXgz",
        "outputId": "ca880a08-d063-4e84-e64d-5d983be00c8b"
      },
      "execution_count": 14,
      "outputs": [
        {
          "output_type": "execute_result",
          "data": {
            "text/plain": [
              "Cavite      26\n",
              "Batangas    20\n",
              "Laguna      19\n",
              "Quezon      18\n",
              "Rizal       11\n",
              "Name: Location, dtype: int64"
            ]
          },
          "metadata": {},
          "execution_count": 14
        }
      ]
    },
    {
      "cell_type": "code",
      "source": [
        "Reside = response_DF.groupby('Location')\n",
        "plt.title\n",
        "Reside.size().plot(kind='barh')\n",
        "\n",
        "plt.tight_layout()\n",
        "plt.title('Location of the Respondents')\n",
        "plt.savefig('Location.png', dpi=300)"
      ],
      "metadata": {
        "id": "c8D7Xd4uILcc",
        "colab": {
          "base_uri": "https://localhost:8080/",
          "height": 313
        },
        "outputId": "f9a765da-3b20-4629-eafd-8f631366c1d4"
      },
      "execution_count": 15,
      "outputs": [
        {
          "output_type": "display_data",
          "data": {
            "image/png": "[encoded data removed]",
            "text/plain": [
              "<Figure size 432x288 with 1 Axes>"
            ]
          },
          "metadata": {
            "needs_background": "light"
          }
        }
      ]
    },
    {
      "cell_type": "markdown",
      "source": [
        "> **Insights:**\n",
        "<p align = Justify>Most of the respondents that the researchers were able to ask the survey is around the Cavite area, since there are quite a number of resorts that are located within the said area.</p>"
      ],
      "metadata": {
        "id": "aG56EwgLqW0_"
      }
    },
    {
      "cell_type": "code",
      "source": [
        "sns.barplot(x= response_DF['Age:'], y=response_DF['Location'])\n",
        "plt.savefig('age-loc.png', dpi=300)"
      ],
      "metadata": {
        "colab": {
          "base_uri": "https://localhost:8080/",
          "height": 285
        },
        "id": "q3ZJsjZtqgsz",
        "outputId": "0852d019-80b5-4834-b055-54e40ebcbc87"
      },
      "execution_count": null,
      "outputs": [
        {
          "output_type": "display_data",
          "data": {
            "image/png": "[encoded data removed]",
            "text/plain": [
              "<Figure size 432x288 with 1 Axes>"
            ]
          },
          "metadata": {
            "needs_background": "light"
          }
        }
      ]
    },
    {
      "cell_type": "markdown",
      "source": [
        ">**Insights:**"
      ],
      "metadata": {
        "id": "Bi1ujBL0qpxY"
      }
    },
    {
      "cell_type": "markdown",
      "source": [
        "## Q1: When you go to a resort, what are the usual things that you do?"
      ],
      "metadata": {
        "id": "qJDrUQYBIb5u"
      }
    },
    {
      "cell_type": "code",
      "source": [
        "response_DF['Q1'].value_counts()"
      ],
      "metadata": {
        "id": "-eR8sTYuIiqP",
        "colab": {
          "base_uri": "https://localhost:8080/"
        },
        "outputId": "68315c75-3f44-4024-c21d-7e249a8fd381"
      },
      "execution_count": 16,
      "outputs": [
        {
          "output_type": "execute_result",
          "data": {
            "text/plain": [
              "Family/Friends Outing                                               35\n",
              "Gathering, Celebration, Family/Friends Outing                       24\n",
              "Celebration, Family/Friends Outing                                  21\n",
              "Gathering, Family/Friends Outing                                     5\n",
              "Celebration                                                          5\n",
              "Gathering, Celebration                                               3\n",
              "Gathering, Celebration, Family/Friends Outing, business bonding      1\n",
              "Name: Q1, dtype: int64"
            ]
          },
          "metadata": {},
          "execution_count": 16
        }
      ]
    },
    {
      "cell_type": "code",
      "source": [
        "celeb_data = response_DF[(response_DF['Q1'] == 'Celebration') | (response_DF['Q1'] == 'Gathering, Celebration') | (response_DF['Q1'] == 'Gathering, Celebration, Family/Friends Outing') | (response_DF['Q1'] == 'Gathering, Celebration, Family/Friends Outing, business bonding ')]\n",
        "celeb_data = celeb_data['Q1'].value_counts()\n",
        "celeb_sum=celeb_data.sum()\n",
        "celeb_sum"
      ],
      "metadata": {
        "colab": {
          "base_uri": "https://localhost:8080/"
        },
        "id": "-fUbp_v3q0AA",
        "outputId": "ddef4b9b-d71b-4d93-d368-7b27859c3ab7"
      },
      "execution_count": 17,
      "outputs": [
        {
          "output_type": "execute_result",
          "data": {
            "text/plain": [
              "33"
            ]
          },
          "metadata": {},
          "execution_count": 17
        }
      ]
    },
    {
      "cell_type": "code",
      "source": [
        "outing_data = response_DF[(response_DF['Q1'] == 'Family/Friends Outing') | (response_DF['Q1'] == 'Gathering, Celebration, Family/Friends Outing') | (response_DF['Q1'] == 'Celebration, Family/Friends Outing') | (response_DF['Q1'] == 'Gathering, Family/Friends Outing') | (response_DF['Q1'] == 'Gathering, Celebration, Family/Friends Outing, business bonding')]\n",
        "outing_data = outing_data['Q1'].value_counts()\n",
        "outing_sum=outing_data.sum()\n",
        "outing_sum"
      ],
      "metadata": {
        "colab": {
          "base_uri": "https://localhost:8080/"
        },
        "id": "bQZ74rZEq2Kb",
        "outputId": "ece64fde-62f2-43fc-a34e-8a3299707a43"
      },
      "execution_count": 18,
      "outputs": [
        {
          "output_type": "execute_result",
          "data": {
            "text/plain": [
              "85"
            ]
          },
          "metadata": {},
          "execution_count": 18
        }
      ]
    },
    {
      "cell_type": "code",
      "source": [
        "gathering_data = response_DF[(response_DF['Q1'] == 'Gathering') | (response_DF['Q1'] == 'Gathering, Family/Friends Outing') | (response_DF['Q1'] == 'Gathering, Celebration') | (response_DF['Q1'] == 'Gathering, Celebration, Family/Friends Outing, business bonding')]\n",
        "gathering_data = gathering_data['Q1'].value_counts()\n",
        "gathering_sum = gathering_data.sum()\n",
        "gathering_sum"
      ],
      "metadata": {
        "colab": {
          "base_uri": "https://localhost:8080/"
        },
        "id": "u-_DJ68fq38_",
        "outputId": "bdcdef28-c4cd-4bd7-961a-7c83896c60a3"
      },
      "execution_count": 19,
      "outputs": [
        {
          "output_type": "execute_result",
          "data": {
            "text/plain": [
              "8"
            ]
          },
          "metadata": {},
          "execution_count": 19
        }
      ]
    },
    {
      "cell_type": "code",
      "source": [
        "x_celeb=['Celebration']\n",
        "x_celeb = np.arange(len(x_celeb))\n",
        "\n",
        "x_outing=['Family/Friends Outing']\n",
        "x_outing = np.arange(len(x_outing))\n",
        "\n",
        "x_gathering =['Gathering']\n",
        "x_gathering = np.arange(len(x_gathering))\n",
        "\n",
        "plt.bar(x_celeb - 0.2, celeb_sum, 0.2, label='Celebration')\n",
        "plt.bar(x_outing + 0.2, outing_sum, 0.2, label='Family/Friends Outing')\n",
        "plt.bar(x_gathering - 0.6, gathering_sum, 0.2, label='Gathering')\n",
        "\n",
        "plt.xlabel('Common Activities in Resort')\n",
        "plt.ylabel('Count')\n",
        "\n",
        "fig = plt.gcf()\n",
        "fig.set_size_inches(5, 5)\n",
        "\n",
        "plt.xticks([])\n",
        "plt.legend()\n",
        "plt.savefig('Q1.png', dpi=300)\n",
        "plt.show()"
      ],
      "metadata": {
        "colab": {
          "base_uri": "https://localhost:8080/",
          "height": 320
        },
        "id": "hnZiFf7jrgGb",
        "outputId": "2ca84c2a-a20c-4340-c60c-dc0a8fd1128e"
      },
      "execution_count": 21,
      "outputs": [
        {
          "output_type": "display_data",
          "data": {
            "image/png": "[encoded data removed]",
            "text/plain": [
              "<Figure size 360x360 with 1 Axes>"
            ]
          },
          "metadata": {
            "needs_background": "light"
          }
        }
      ]
    },
    {
      "cell_type": "markdown",
      "source": [
        ">**Insights:** <br>\n",
        "<p align = Justify>Majority of the respondents answered that the usual thing they do in a pool resort is family or friends outing. This reason can imply that the largest age population in the study are going to a pool resort for an outing.  </p> "
      ],
      "metadata": {
        "id": "qPnEgWscrkI_"
      }
    },
    {
      "cell_type": "markdown",
      "source": [
        "## Q2: What are the factors you consider in choosing a resort?"
      ],
      "metadata": {
        "id": "WkpJ-6uWIjYX"
      }
    },
    {
      "cell_type": "code",
      "source": [
        "col_amenities = response_DF.Q2.str.replace('Ammenities', 'Amenities')\n",
        "response_DF['Q2'] = col_amenities"
      ],
      "metadata": {
        "id": "jzvgu4_a8NzS"
      },
      "execution_count": 22,
      "outputs": []
    },
    {
      "cell_type": "code",
      "source": [
        "response_DF['Q2'].value_counts()"
      ],
      "metadata": {
        "id": "PZj3OBySIoIR",
        "colab": {
          "base_uri": "https://localhost:8080/"
        },
        "outputId": "8b5c5b21-7c68-4600-d387-238fe846d66b"
      },
      "execution_count": 23,
      "outputs": [
        {
          "output_type": "execute_result",
          "data": {
            "text/plain": [
              "Location, Amenities, Price, Safety and Security                        41\n",
              "Location, Price                                                         7\n",
              "Location                                                                7\n",
              "Location, Price, Safety and Security                                    6\n",
              "Amenities, Price, Safety and Security                                   6\n",
              "Safety and Security                                                     4\n",
              "Price                                                                   3\n",
              "Location, Amenities, Price                                              3\n",
              "Amenities                                                               3\n",
              "Amenities, Price                                                        3\n",
              "Location, Amenities                                                     2\n",
              "Price, Safety and Security                                              2\n",
              "Location, Amenities, Price, Safety and Security, Cleanliness            2\n",
              "Location, Amenities, Price, Safety and Security, Nature attractions     1\n",
              "Location, Amenities, Price, Safety and Security, Food                   1\n",
              "Location, Amenities, Safety and Security                                1\n",
              "Location, Safety and Security                                           1\n",
              "Location, Amenities, Price, Safety and Security, Tourist Spots          1\n",
              "Name: Q2, dtype: int64"
            ]
          },
          "metadata": {},
          "execution_count": 23
        }
      ]
    },
    {
      "cell_type": "code",
      "source": [
        "loc_data = response_DF[(response_DF['Q2'] == 'Location') | (response_DF['Q2'] == 'Location, Amenities, Price, Safety and Security ') | (response_DF['Q2'] == 'Location, Price') | (response_DF['Q2'] == 'Location, Price, Safety and Security') |(response_DF['Q2'] == 'Location, Amenities, Price') | (response_DF['Q2'] == 'Location, Amenities') | (response_DF['Q2'] == 'Location, Amenities, Price, Safety and Security, Cleanliness') | (response_DF['Q2'] == 'Location, Amenities, Price, Safety and Security, Nature attractions') | (response_DF['Q2'] == 'Location, Amenities, Price, Safety and Security, Food') | (response_DF['Q2'] == 'Location, Amenities, Safety and Security') | (response_DF['Q2'] == 'Location, Safety and Security') | (response_DF['Q2'] == 'Location, Amenities, Price, Safety and Security, Tourist Spots')]\n",
        "loc_data = loc_data['Q2'].value_counts()\n",
        "loc_sum = loc_data.sum()\n",
        "loc_sum"
      ],
      "metadata": {
        "colab": {
          "base_uri": "https://localhost:8080/"
        },
        "id": "KbwsKG237mZH",
        "outputId": "21909085-3337-42f2-98af-bef643dcd1b3"
      },
      "execution_count": 24,
      "outputs": [
        {
          "output_type": "execute_result",
          "data": {
            "text/plain": [
              "32"
            ]
          },
          "metadata": {},
          "execution_count": 24
        }
      ]
    },
    {
      "cell_type": "code",
      "source": [
        "amenities_data = response_DF[(response_DF['Q2'] == 'Amenities') | (response_DF['Q2'] == 'Location, Amenities, Price, Safety and Security') | (response_DF['Q2'] == 'Amenities, Price, Safety and Security') | (response_DF['Q2'] == 'Location, Amenities, Price') | (response_DF['Q2'] == 'Amenities, Price') | (response_DF['Q2'] == 'Location, Amenities') | (response_DF['Q2'] == 'Location, Amenities, Price, Safety and Security, Cleanliness') | (response_DF['Q2'] == 'Location, Amenities, Price, Safety and Security, Nature attractions') | (response_DF['Q2'] == 'Location, Amenities, Price, Safety and Security, Food') | (response_DF['Q2'] == 'Location, Amenities, Safety and Security') | (response_DF['Q2'] == 'Location, Amenities, Price, Safety and Security, Tourist Spots')]\n",
        "amenities_data = amenities_data['Q2'].value_counts()\n",
        "amenities_sum = amenities_data.sum()\n",
        "amenities_sum"
      ],
      "metadata": {
        "colab": {
          "base_uri": "https://localhost:8080/"
        },
        "id": "KOxdufGT-R-u",
        "outputId": "7d44a98d-ac9d-4208-dc67-f57b70f30390"
      },
      "execution_count": 25,
      "outputs": [
        {
          "output_type": "execute_result",
          "data": {
            "text/plain": [
              "64"
            ]
          },
          "metadata": {},
          "execution_count": 25
        }
      ]
    },
    {
      "cell_type": "code",
      "source": [
        "price_data = response_DF[(response_DF['Q2'] == 'Price') | (response_DF['Q2'] == 'Location, Amenities, Price, Safety and Security') | (response_DF['Q2'] == 'Location, Price') | (response_DF['Q2'] == 'Location, Price, Safety and Security') | (response_DF['Q2'] == 'Amenities, Price, Safety and Security') | (response_DF['Q2'] == 'Location, Amenities, Price') | (response_DF['Q2'] == 'Amenities, Price') | (response_DF['Q2'] ==  'Price, Safety and Security') | (response_DF['Q2'] == 'Location, Amenities, Price, Safety and Security, Cleanliness') | (response_DF['Q2'] == 'Location, Amenities, Price, Safety and Security, Nature attractions') | (response_DF['Q2'] == 'Location, Amenities, Price, Safety and Security, Food') | (response_DF['Q2'] ==  'Location, Amenities, Price, Safety and Security, Tourist Spots')]\n",
        "price_data = price_data['Q2'].value_counts()\n",
        "price_sum = price_data.sum()\n",
        "price_sum "
      ],
      "metadata": {
        "colab": {
          "base_uri": "https://localhost:8080/"
        },
        "id": "B2cDHNx4_x8X",
        "outputId": "d169cb38-19b4-4048-d94a-951b8f5ab1f0"
      },
      "execution_count": 26,
      "outputs": [
        {
          "output_type": "execute_result",
          "data": {
            "text/plain": [
              "76"
            ]
          },
          "metadata": {},
          "execution_count": 26
        }
      ]
    },
    {
      "cell_type": "code",
      "source": [
        "safety_data = response_DF[(response_DF['Q2'] == 'Safety and Security') | (response_DF['Q2'] == 'Location, Amenities, Price, Safety and Security ') | (response_DF['Q2'] == 'Location, Price, Safety and Security') | (response_DF['Q2'] == 'Amenities, Price, Safety and Security') |(response_DF['Q2'] == 'Price, Safety and Security') | (response_DF['Q2'] == 'Location, Amenities, Price, Safety and Security, Cleanliness') | (response_DF['Q2'] == 'Location, Amenities, Price, Safety and Security, Nature attractions') | (response_DF['Q2'] == 'Location, Amenities, Price, Safety and Security, Food') | (response_DF['Q2'] == 'Location, Amenities, Safety and Security') | (response_DF['Q2'] == 'Location, Safety and Security') | (response_DF['Q2'] == 'Location, Amenities, Price, Safety and Security, Tourist Spots')]\n",
        "safety_data = safety_data['Q2'].value_counts()\n",
        "safety_sum = safety_data.sum()\n",
        "safety_sum"
      ],
      "metadata": {
        "colab": {
          "base_uri": "https://localhost:8080/"
        },
        "id": "xH_Ly2Aa6ELh",
        "outputId": "a78c5758-9ed5-4969-d388-177b6b182450"
      },
      "execution_count": 27,
      "outputs": [
        {
          "output_type": "execute_result",
          "data": {
            "text/plain": [
              "25"
            ]
          },
          "metadata": {},
          "execution_count": 27
        }
      ]
    },
    {
      "cell_type": "code",
      "source": [
        "clean_data = response_DF[(response_DF['Q2'] == 'Cleanliness') | (response_DF['Q2'] == 'Location, Amenities, Price, Safety and Security, Cleanliness')]\n",
        "clean_data = clean_data['Q2'].value_counts()\n",
        "clean_sum = clean_data.sum()\n",
        "clean_sum"
      ],
      "metadata": {
        "colab": {
          "base_uri": "https://localhost:8080/"
        },
        "id": "AGNKcbR1CE4A",
        "outputId": "53c0e558-7ab0-4b92-e214-340e29403ff4"
      },
      "execution_count": 28,
      "outputs": [
        {
          "output_type": "execute_result",
          "data": {
            "text/plain": [
              "2"
            ]
          },
          "metadata": {},
          "execution_count": 28
        }
      ]
    },
    {
      "cell_type": "code",
      "source": [
        "nature_data = response_DF[(response_DF['Q2'] == 'Nature attractions') | (response_DF['Q2'] == 'Location, Amenities, Price, Safety and Security, Nature attractions')]\n",
        "nature_data = nature_data['Q2'].value_counts()\n",
        "nature_sum = nature_data.sum()\n",
        "nature_sum"
      ],
      "metadata": {
        "colab": {
          "base_uri": "https://localhost:8080/"
        },
        "id": "RRDgpGFVCfsz",
        "outputId": "a0c84fc7-493d-4b6c-928f-d0f4cbb13f87"
      },
      "execution_count": 29,
      "outputs": [
        {
          "output_type": "execute_result",
          "data": {
            "text/plain": [
              "1"
            ]
          },
          "metadata": {},
          "execution_count": 29
        }
      ]
    },
    {
      "cell_type": "code",
      "source": [
        "food_data = response_DF[(response_DF['Q2'] == 'Food') | (response_DF['Q2'] == 'Location, Amenities, Price, Safety and Security, Food')]\n",
        "food_data = food_data['Q2'].value_counts()\n",
        "food_sum = food_data.sum()\n",
        "food_sum"
      ],
      "metadata": {
        "colab": {
          "base_uri": "https://localhost:8080/"
        },
        "id": "5_i1_RZIC_0A",
        "outputId": "80397498-fd23-495f-bdba-2c2c08491a7b"
      },
      "execution_count": 30,
      "outputs": [
        {
          "output_type": "execute_result",
          "data": {
            "text/plain": [
              "1"
            ]
          },
          "metadata": {},
          "execution_count": 30
        }
      ]
    },
    {
      "cell_type": "code",
      "source": [
        "tourist_data = response_DF[(response_DF['Q2'] == 'Tourist Spots') | (response_DF['Q2'] == 'Location, Amenities, Price, Safety and Security, Tourist Spots')]\n",
        "tourist_data = tourist_data['Q2'].value_counts()\n",
        "tourist_sum = tourist_data.sum()\n",
        "tourist_sum"
      ],
      "metadata": {
        "colab": {
          "base_uri": "https://localhost:8080/"
        },
        "id": "MikFICVJDVh2",
        "outputId": "11f03f53-a2e7-4186-9cb4-a598fc9141c2"
      },
      "execution_count": 31,
      "outputs": [
        {
          "output_type": "execute_result",
          "data": {
            "text/plain": [
              "1"
            ]
          },
          "metadata": {},
          "execution_count": 31
        }
      ]
    },
    {
      "cell_type": "code",
      "source": [
        "x_loc=['Location']\n",
        "x_loc = np.arange(len(x_loc))\n",
        "\n",
        "x_amenities=['Amenities']\n",
        "x_amenities = np.arange(len(x_amenities))\n",
        "\n",
        "x_price =['Price']\n",
        "x_price = np.arange(len(x_price))\n",
        "\n",
        "x_safety =['Safety and Security']\n",
        "x_safety = np.arange(len(x_safety))\n",
        "\n",
        "x_clean =['Cleanliness']\n",
        "x_clean = np.arange(len(x_clean))\n",
        "\n",
        "x_nature =['Nature Attractions']\n",
        "x_nature = np.arange(len(x_nature))\n",
        "\n",
        "x_food =['Food']\n",
        "x_food = np.arange(len(x_food))\n",
        "\n",
        "x_tourist =['Tourist Spots']\n",
        "x_tourist = np.arange(len(x_tourist))\n",
        "\n",
        "plt.bar(x_loc + 1, loc_sum, 0.4, label='Location')\n",
        "plt.bar(x_amenities + 1.5, amenities_sum, 0.4, label='Amenities')\n",
        "plt.bar(x_price + 2, price_sum, 0.4, label='Price')\n",
        "plt.bar(x_clean + 2.5, clean_sum, 0.4, label='Cleanliness')\n",
        "plt.bar(x_nature + 3, nature_sum, 0.4, label='Nature Attractions')\n",
        "plt.bar(x_food + 3.5, food_sum, 0.4, label='Food')\n",
        "plt.bar(x_tourist + 4, tourist_sum, 0.4, label='Tourist Spots')\n",
        "plt.bar(x_safety + 4.5, safety_sum, 0.4, label='Safety and Security')\n",
        "\n",
        "plt.xlabel('Factors to Consider in a Resort')\n",
        "plt.ylabel('Count')\n",
        "\n",
        "fig = plt.gcf()\n",
        "fig.set_size_inches(10, 5)\n",
        "\n",
        "plt.xticks([])\n",
        "plt.legend()\n",
        "plt.savefig('Q2.png', dpi=300)\n",
        "plt.show()"
      ],
      "metadata": {
        "colab": {
          "base_uri": "https://localhost:8080/",
          "height": 320
        },
        "id": "bwdEaSEdFvbt",
        "outputId": "e5873348-ae6e-45b9-cada-e01520dd227f"
      },
      "execution_count": 32,
      "outputs": [
        {
          "output_type": "display_data",
          "data": {
            "image/png": "[encoded data removed]",
            "text/plain": [
              "<Figure size 720x360 with 1 Axes>"
            ]
          },
          "metadata": {
            "needs_background": "light"
          }
        }
      ]
    },
    {
      "cell_type": "markdown",
      "source": [
        ">**Insights:**<br>\n",
        "<p align = Justify>Majority of the respondents are prioritizing the price when choosing for a pool resort. This is followed by other factors such as the amenities of the resort, location, and safety and security. Other respondents also answered that they are considering the cleanliness, atrractions, food, and tourist spots of the pool resort.  </p>"
      ],
      "metadata": {
        "id": "lCPB9YKgIFDP"
      }
    },
    {
      "cell_type": "markdown",
      "source": [
        "## Q3: Considering your characteristics and background knowledge in swimming, what height of the pool do you usually swim?"
      ],
      "metadata": {
        "id": "LZZTd1ZyIpov"
      }
    },
    {
      "cell_type": "code",
      "source": [
        "response_DF['Q3'].value_counts()"
      ],
      "metadata": {
        "id": "wLs80YtfIuCV",
        "colab": {
          "base_uri": "https://localhost:8080/"
        },
        "outputId": "c7eba745-d23b-4ebc-e057-8cd95521a10c"
      },
      "execution_count": 33,
      "outputs": [
        {
          "output_type": "execute_result",
          "data": {
            "text/plain": [
              "5ft     40\n",
              "4ft     26\n",
              "6ft     20\n",
              "8ft      3\n",
              "7ft      3\n",
              "10ft     2\n",
              "Name: Q3, dtype: int64"
            ]
          },
          "metadata": {},
          "execution_count": 33
        }
      ]
    },
    {
      "cell_type": "code",
      "source": [
        "pool_height = response_DF.groupby('Q3')\n",
        "pool_height.size().plot(kind='barh')\n",
        "\n",
        "plt.ylabel('Pool Height')\n",
        "plt.title('Question 3')\n",
        "plt.tight_layout()\n",
        "plt.savefig('Q3.png', dpi=300)"
      ],
      "metadata": {
        "colab": {
          "base_uri": "https://localhost:8080/",
          "height": 297
        },
        "id": "Lf9UPGxQIP1-",
        "outputId": "73347199-3062-411b-ad0e-827d67e05a25"
      },
      "execution_count": 35,
      "outputs": [
        {
          "output_type": "display_data",
          "data": {
            "image/png": "[encoded data removed]",
            "text/plain": [
              "<Figure size 432x288 with 1 Axes>"
            ]
          },
          "metadata": {
            "needs_background": "light"
          }
        }
      ]
    },
    {
      "cell_type": "markdown",
      "source": [
        ">**Insights:**\n",
        "<p align = Justify> The graph above shows the common pool height where the respondents mostly swim to, it ranges around 4ft - 6ft which can be correlated to the heights of the respondents. "
      ],
      "metadata": {
        "id": "kzydMU_uIWaT"
      }
    },
    {
      "cell_type": "code",
      "source": [
        "corre1_DF = response_DF[['Age:', 'Height', 'Q3']]\n",
        "nQ3 = corre1_DF.Q3.str.replace('ft', '')\n",
        "corre1_DF['Q3'] = nQ3\n",
        "corre1_DF = corre1_DF.astype(int)"
      ],
      "metadata": {
        "colab": {
          "base_uri": "https://localhost:8080/"
        },
        "id": "h3pgyHHbITJR",
        "outputId": "7ab531b7-1bd3-420b-afb0-2ac79c6a2c44"
      },
      "execution_count": null,
      "outputs": [
        {
          "output_type": "stream",
          "name": "stderr",
          "text": [
            "/usr/local/lib/python3.7/dist-packages/ipykernel_launcher.py:3: SettingWithCopyWarning: \n",
            "A value is trying to be set on a copy of a slice from a DataFrame.\n",
            "Try using .loc[row_indexer,col_indexer] = value instead\n",
            "\n",
            "See the caveats in the documentation: https://pandas.pydata.org/pandas-docs/stable/user_guide/indexing.html#returning-a-view-versus-a-copy\n",
            "  This is separate from the ipykernel package so we can avoid doing imports until\n"
          ]
        }
      ]
    },
    {
      "cell_type": "code",
      "source": [
        "sns.pairplot(corre1_DF, hue='Age:')\n",
        "fig.set_size_inches(25, 10)\n",
        "\n",
        "plt.savefig('corre1.png', dpi=300)"
      ],
      "metadata": {
        "colab": {
          "base_uri": "https://localhost:8080/",
          "height": 374
        },
        "id": "IHb_6f9VIrIX",
        "outputId": "f7a470d1-90b4-4d8f-99e2-634a5eb13e72"
      },
      "execution_count": null,
      "outputs": [
        {
          "output_type": "display_data",
          "data": {
            "image/png": "[encoded data removed]",
            "text/plain": [
              "<Figure size 413.6x360 with 6 Axes>"
            ]
          },
          "metadata": {
            "needs_background": "light"
          }
        }
      ]
    },
    {
      "cell_type": "markdown",
      "source": [
        ">**Insights:**\n",
        "<p align = Justify> The graph above shows the correlation between the height, age, and the height of the pool that the respondents mostly swim to. It shows that ages 16-32 with a height of around 5 ft mostly swim in pools 5-8ft."
      ],
      "metadata": {
        "id": "hvjfbfHRIvio"
      }
    },
    {
      "cell_type": "markdown",
      "source": [
        "## Q4: Did an accident of drowning occur to you or your companion?\n",
        "\n"
      ],
      "metadata": {
        "id": "uXFYIcFhIuie"
      }
    },
    {
      "cell_type": "code",
      "source": [
        "response_DF['Q4'].value_counts()"
      ],
      "metadata": {
        "colab": {
          "base_uri": "https://localhost:8080/"
        },
        "id": "omHMkFj6I_wF",
        "outputId": "699ac28d-33bd-4014-b96c-da1990a16676"
      },
      "execution_count": 36,
      "outputs": [
        {
          "output_type": "execute_result",
          "data": {
            "text/plain": [
              "No     63\n",
              "Yes    31\n",
              "Name: Q4, dtype: int64"
            ]
          },
          "metadata": {},
          "execution_count": 36
        }
      ]
    },
    {
      "cell_type": "code",
      "source": [
        "question_4 = response_DF.groupby('Q4')\n",
        "question_4.size().plot(kind='barh')\n",
        "\n",
        "plt.title('Question 4')\n",
        "plt.ylabel('Drowning Occurances')\n",
        "plt.tight_layout()\n",
        "plt.savefig('Q4.png', dpi=300)"
      ],
      "metadata": {
        "colab": {
          "base_uri": "https://localhost:8080/",
          "height": 297
        },
        "id": "zqd8W1BqJLd_",
        "outputId": "1965a71f-fee4-4001-cec6-1152a3bca3f1"
      },
      "execution_count": 37,
      "outputs": [
        {
          "output_type": "display_data",
          "data": {
            "image/png": "[encoded data removed]",
            "text/plain": [
              "<Figure size 432x288 with 1 Axes>"
            ]
          },
          "metadata": {
            "needs_background": "light"
          }
        }
      ]
    },
    {
      "cell_type": "markdown",
      "source": [
        ">**Insights:**<br>\n",
        "<p align = Justify> Majority of the respondents who answered the survey have not yet experience or seen any drowning and around 30% have. "
      ],
      "metadata": {
        "id": "0IMXxUH0JP4O"
      }
    },
    {
      "cell_type": "code",
      "source": [
        "corre2_DF = response_DF[['Height', 'Q3', 'Q4']]\n",
        "nQ3 = corre2_DF.Q3.str.replace('ft', '')\n",
        "corre2_DF['Q3'] = nQ3\n",
        "corre2_DF['Q4'] = corre2_DF.Q4.replace(to_replace=['No', 'Yes'], value=[0,1])\n",
        "corre2_DF = corre2_DF.astype(int)"
      ],
      "metadata": {
        "colab": {
          "base_uri": "https://localhost:8080/"
        },
        "id": "FeVw4LAdJUdz",
        "outputId": "c5d8fb27-8278-4822-a7e4-4cde9e37610a"
      },
      "execution_count": null,
      "outputs": [
        {
          "output_type": "stream",
          "name": "stderr",
          "text": [
            "/usr/local/lib/python3.7/dist-packages/ipykernel_launcher.py:3: SettingWithCopyWarning: \n",
            "A value is trying to be set on a copy of a slice from a DataFrame.\n",
            "Try using .loc[row_indexer,col_indexer] = value instead\n",
            "\n",
            "See the caveats in the documentation: https://pandas.pydata.org/pandas-docs/stable/user_guide/indexing.html#returning-a-view-versus-a-copy\n",
            "  This is separate from the ipykernel package so we can avoid doing imports until\n",
            "/usr/local/lib/python3.7/dist-packages/ipykernel_launcher.py:4: SettingWithCopyWarning: \n",
            "A value is trying to be set on a copy of a slice from a DataFrame.\n",
            "Try using .loc[row_indexer,col_indexer] = value instead\n",
            "\n",
            "See the caveats in the documentation: https://pandas.pydata.org/pandas-docs/stable/user_guide/indexing.html#returning-a-view-versus-a-copy\n",
            "  after removing the cwd from sys.path.\n"
          ]
        }
      ]
    },
    {
      "cell_type": "code",
      "source": [
        "sns.pairplot(corre2_DF, hue='Q4')\n",
        "fig.set_size_inches(25, 10)\n",
        "\n",
        "plt.savefig('corre2.png', dpi=300)"
      ],
      "metadata": {
        "colab": {
          "base_uri": "https://localhost:8080/",
          "height": 374
        },
        "id": "ELN0EnkoJ-Kb",
        "outputId": "a9ed6007-4420-4c46-dfe9-8fb72fb20ba1"
      },
      "execution_count": null,
      "outputs": [
        {
          "output_type": "display_data",
          "data": {
            "image/png": "[encoded data removed]",
            "text/plain": [
              "<Figure size 406.6x360 with 6 Axes>"
            ]
          },
          "metadata": {
            "needs_background": "light"
          }
        }
      ]
    },
    {
      "cell_type": "markdown",
      "source": [
        ">**Insights:**\n",
        "<p align = Justify> The graph above shows the correlation of the respondent's Height, height of the pool, and the occurences of drowning. People who are around 5 ft in height and who swims in 6ft pools have experienced cases of drowning. Seen also that there are a few people who enjoys the 10 ft pool without experiencing drowning.</p>\n"
      ],
      "metadata": {
        "id": "3lGzWCLXKVdZ"
      }
    },
    {
      "cell_type": "markdown",
      "source": [
        "## Q5: What do you think are the possible reason behind drowning?"
      ],
      "metadata": {
        "id": "pgxQcLKKKYMQ"
      }
    },
    {
      "cell_type": "code",
      "source": [
        "col_panic = response_DF.Q5.str.replace('panic attacks from first experience of drowning', 'Panic')\n",
        "col_panic = response_DF.Q5.str.replace('PANIC', 'Panic')\n",
        "response_DF['Q5'] = col_panic"
      ],
      "metadata": {
        "id": "1OUxgu7RM5cy"
      },
      "execution_count": 39,
      "outputs": []
    },
    {
      "cell_type": "code",
      "source": [
        "col_slipped = response_DF.Q5.str.replace('slipped at the pool floor', 'Slippery Slide/Floor')\n",
        "col_slipped = response_DF.Q5.str.replace('slipped on the slide', 'Slippery Slide/Floor')\n",
        "response_DF['Q5'] = col_slipped"
      ],
      "metadata": {
        "id": "5mkCZOVhNyz2"
      },
      "execution_count": 41,
      "outputs": []
    },
    {
      "cell_type": "code",
      "source": [
        "response_DF['Q5'].value_counts()"
      ],
      "metadata": {
        "colab": {
          "base_uri": "https://localhost:8080/"
        },
        "id": "5-6Wpxw5Klvm",
        "outputId": "55500c7b-3927-4adf-995c-c40cd28e0f13"
      },
      "execution_count": 42,
      "outputs": [
        {
          "output_type": "execute_result",
          "data": {
            "text/plain": [
              "Not Learning How to Swim, Lack of Supervision                                                                                                          35\n",
              "Not Learning How to Swim, Lack of Supervision, Presence of Liquor, Improper Security                                                                   11\n",
              "Not Learning How to Swim, Lack of Supervision, Improper Security                                                                                        8\n",
              "Not Learning How to Swim, Presence of Liquor                                                                                                            8\n",
              "Lack of Supervision, Presence of Liquor                                                                                                                 6\n",
              "Not Learning How to Swim, Improper Security                                                                                                             5\n",
              "Lack of Supervision, Improper Security                                                                                                                  5\n",
              "Not Learning How to Swim, Lack of Supervision, Presence of Liquor                                                                                       4\n",
              "Presence of Liquor, Improper Security                                                                                                                   4\n",
              "Not Learning How to Swim, Lack of Supervision, floating Safety lines or guards                                                                          1\n",
              "Lack of Supervision, Presence of Liquor, Improper Security                                                                                              1\n",
              "Not Learning How to Swim, Lack of Supervision, Faulty Designs of the Pool (ex. tiles are too slippery, lack of lighting during night time swimming)     1\n",
              "Not Learning How to Swim, Lack of Supervision, Panic; Slippery Slide/Floor                                                                              1\n",
              "Lack of Supervision, Slippery Slide/Floor                                                                                                               1\n",
              "Improper Security, Panic                                                                                                                                1\n",
              "Lack of Supervision                                                                                                                                     1\n",
              "Not Learning How to Swim, jumping with pants on                                                                                                         1\n",
              "Name: Q5, dtype: int64"
            ]
          },
          "metadata": {},
          "execution_count": 42
        }
      ]
    },
    {
      "cell_type": "code",
      "source": [
        "swim_data = response_DF[(response_DF['Q5'] == 'Not Learning How to Swim') | (response_DF['Q5'] == 'Not Learning How to Swim, Lack of Supervision') | (response_DF['Q5'] == 'Not Learning How to Swim, Lack of Supervision, Presence of Liquor, Improper Security') | (response_DF['Q5'] == 'Not Learning How to Swim, Lack of Supervision, Improper Security') | (response_DF['Q5'] == 'Not Learning How to Swim, Presence of Liquor') | (response_DF['Q5'] == 'Not Learning How to Swim, Improper Security') | (response_DF['Q5'] == 'Not Learning How to Swim, Lack of Supervision, Presence of Liquor') | (response_DF['Q5'] == 'Not Learning How to Swim, Lack of Supervision, floating Safety lines or guards') | (response_DF['Q5'] == 'Not Learning How to Swim, Lack of Supervision, Faulty Designs of the Pool (ex. tiles are too slippery, lack of lighting during night time swimming)') | (response_DF['Q5'] == 'Not Learning How to Swim, Lack of Supervision, Panic; Slippery SLide/Floor') | (response_DF['Q5'] == 'Not Learning How to Swim, jumping with pants on')]\n",
        "swim_data = swim_data['Q5'].value_counts()\n",
        "swim_sum = swim_data.sum()\n",
        "swim_sum"
      ],
      "metadata": {
        "colab": {
          "base_uri": "https://localhost:8080/"
        },
        "id": "qFfPhD-yKy_Q",
        "outputId": "4b95abb3-383e-4c32-d327-80b62093e2e2"
      },
      "execution_count": 43,
      "outputs": [
        {
          "output_type": "execute_result",
          "data": {
            "text/plain": [
              "74"
            ]
          },
          "metadata": {},
          "execution_count": 43
        }
      ]
    },
    {
      "cell_type": "code",
      "source": [
        "lack_data = response_DF[(response_DF['Q5'] == 'Lack of Supervision') | (response_DF['Q5'] == 'Not Learning How to Swim, Lack of Supervision') | (response_DF['Q5'] == 'Not Learning How to Swim, Lack of Supervision, Presence of Liquor, Improper Security') | (response_DF['Q5'] == 'Not Learning How to Swim, Lack of Supervision, Improper Security') | (response_DF['Q5'] == 'Lack of Supervision, Presence of Liquor') | (response_DF['Q5'] == 'Not Learning How to Swim, Lack of Supervision, Presence of Liquor') | (response_DF['Q5'] == 'Not Learning How to Swim, Lack of Supervision, floating Safety lines or guards') | (response_DF['Q5'] == 'Not Learning How to Swim, Lack of Supervision, Faulty Designs of the Pool (ex. tiles are too slippery, lack of lighting during night time swimming)') | (response_DF['Q5'] == 'Not Learning How to Swim, Lack of Supervision, Panic; Slippery Slide/Floor') | (response_DF['Q5'] == 'Lack of Supervision, Slippery Slide/Floor')]\n",
        "lack_data = lack_data['Q5'].value_counts()\n",
        "lack_sum = lack_data.sum()\n",
        "lack_sum"
      ],
      "metadata": {
        "colab": {
          "base_uri": "https://localhost:8080/"
        },
        "id": "hcMilBuwMpd1",
        "outputId": "6e72deca-0a2b-4f7c-db04-403ea4edaff9"
      },
      "execution_count": 44,
      "outputs": [
        {
          "output_type": "execute_result",
          "data": {
            "text/plain": [
              "69"
            ]
          },
          "metadata": {},
          "execution_count": 44
        }
      ]
    },
    {
      "cell_type": "code",
      "source": [
        "security_data = response_DF[(response_DF['Q5'] == 'Improper Security') | (response_DF['Q5'] == 'Not Learning How to Swim, Lack of Supervision, Presence of Liquor, Improper Security') | (response_DF['Q5'] == 'Not Learning How to Swim, Lack of Supervision, Improper Security') | (response_DF['Q5'] == 'Not Learning How to Swim, Improper Security') | (response_DF['Q5'] == 'Lack of Supervision, Improper Security') | (response_DF['Q5'] == 'Presence of Liquor, Improper Security') | (response_DF['Q5'] == 'Lack of Supervision, Presence of Liquor, Improper Security') | (response_DF['Q5'] == 'Improper Security, Panic')]\n",
        "security_data = security_data['Q5'].value_counts()\n",
        "security_sum = security_data.sum()\n",
        "security_sum"
      ],
      "metadata": {
        "colab": {
          "base_uri": "https://localhost:8080/"
        },
        "id": "qSwjM2lvQ9K1",
        "outputId": "17781284-a9a4-4187-85eb-fb984f0ec1aa"
      },
      "execution_count": 45,
      "outputs": [
        {
          "output_type": "execute_result",
          "data": {
            "text/plain": [
              "35"
            ]
          },
          "metadata": {},
          "execution_count": 45
        }
      ]
    },
    {
      "cell_type": "code",
      "source": [
        "liquor_data = response_DF[(response_DF['Q5'] == 'Presence of Liquor') | (response_DF['Q5'] == 'Not Learning How to Swim, Lack of Supervision, Presence of Liquor, Improper Security') | (response_DF['Q5'] == 'Not Learning How to Swim, Presence of Liquor') | (response_DF['Q5'] == 'Lack of Supervision, Presence of Liquor') | (response_DF['Q5'] == 'Not Learning How to Swim, Lack of Supervision, Presence of Liquor') | (response_DF['Q5'] == 'Presence of Liquor, Improper Security') | (response_DF['Q5'] == 'Lack of Supervision, Presence of Liquor, Improper Security')]\n",
        "liquor_data = liquor_data['Q5'].value_counts()\n",
        "liquor_sum = liquor_data.sum()\n",
        "liquor_sum"
      ],
      "metadata": {
        "colab": {
          "base_uri": "https://localhost:8080/"
        },
        "id": "0FsphsiMSQSY",
        "outputId": "68a309aa-1c6a-4f46-a124-c76fa4a28586"
      },
      "execution_count": 46,
      "outputs": [
        {
          "output_type": "execute_result",
          "data": {
            "text/plain": [
              "34"
            ]
          },
          "metadata": {},
          "execution_count": 46
        }
      ]
    },
    {
      "cell_type": "code",
      "source": [
        "safetyLines_data = response_DF[(response_DF['Q5'] == 'floating Safety lines or guards') | (response_DF['Q5'] == 'Not Learning How to Swim, Lack of Supervision, floating Safety lines or guards')]\n",
        "safetyLines_data = safetyLines_data['Q5'].value_counts()\n",
        "safetyLines_sum = safetyLines_data.sum()\n",
        "safetyLines_sum"
      ],
      "metadata": {
        "colab": {
          "base_uri": "https://localhost:8080/"
        },
        "id": "kk8mjElGTkns",
        "outputId": "b22ca097-8b9b-4745-af7d-718b18674ba8"
      },
      "execution_count": 47,
      "outputs": [
        {
          "output_type": "execute_result",
          "data": {
            "text/plain": [
              "1"
            ]
          },
          "metadata": {},
          "execution_count": 47
        }
      ]
    },
    {
      "cell_type": "code",
      "source": [
        "faultyDes_data = response_DF[(response_DF['Q5'] == 'Faulty Designs of the Pool (ex. tiles are too slippery, lack of lighting during night time swimming)') | (response_DF['Q5'] == 'Not Learning How to Swim, Lack of Supervision, Faulty Designs of the Pool (ex. tiles are too slippery, lack of lighting during night time swimming)')]\n",
        "faultyDes_data = faultyDes_data['Q5'].value_counts()\n",
        "faultyDes_sum = faultyDes_data.sum()\n",
        "faultyDes_sum"
      ],
      "metadata": {
        "colab": {
          "base_uri": "https://localhost:8080/"
        },
        "id": "Va4Zcy3WUDFN",
        "outputId": "358d502b-b7c9-43cb-d6af-0145fd0df333"
      },
      "execution_count": 48,
      "outputs": [
        {
          "output_type": "execute_result",
          "data": {
            "text/plain": [
              "1"
            ]
          },
          "metadata": {},
          "execution_count": 48
        }
      ]
    },
    {
      "cell_type": "code",
      "source": [
        "panic_data = response_DF[(response_DF['Q5'] == 'Panic') | (response_DF['Q5'] == 'Not Learning How to Swim, Lack of Supervision, Panic; Slippery Slide/Floor')| (response_DF['Q5'] == 'Improper Security, Panic')]\n",
        "panic_data = panic_data['Q5'].value_counts()\n",
        "panic_sum = panic_data.sum()\n",
        "panic_sum"
      ],
      "metadata": {
        "colab": {
          "base_uri": "https://localhost:8080/"
        },
        "id": "umcYKDrgUxPo",
        "outputId": "ec64fdd9-b5e4-4f49-a225-23964880c6bc"
      },
      "execution_count": 49,
      "outputs": [
        {
          "output_type": "execute_result",
          "data": {
            "text/plain": [
              "2"
            ]
          },
          "metadata": {},
          "execution_count": 49
        }
      ]
    },
    {
      "cell_type": "code",
      "source": [
        "slipped_data = response_DF[(response_DF['Q5'] == 'Slippery Slide/Floor') | (response_DF['Q5'] == 'Not Learning How to Swim, Lack of Supervision, Panic; Slippery Slide/Floor') | (response_DF['Q5'] == 'Lack of Supervision, Slippery Slide/Floor')]\n",
        "slipped_data = slipped_data['Q5'].value_counts()\n",
        "slipped_sum = slipped_data.sum()\n",
        "slipped_sum"
      ],
      "metadata": {
        "colab": {
          "base_uri": "https://localhost:8080/"
        },
        "id": "JUURIpaWVLul",
        "outputId": "edc66024-9cf0-47ec-9dff-bfaa97846bcb"
      },
      "execution_count": 50,
      "outputs": [
        {
          "output_type": "execute_result",
          "data": {
            "text/plain": [
              "2"
            ]
          },
          "metadata": {},
          "execution_count": 50
        }
      ]
    },
    {
      "cell_type": "code",
      "source": [
        "jump_data = response_DF[(response_DF['Q5'] == 'jumping with pants on') | (response_DF['Q5'] == 'Not Learning How to Swim, jumping with pants on')]\n",
        "jump_data = jump_data['Q5'].value_counts()\n",
        "jump_sum = jump_data.sum()\n",
        "jump_sum"
      ],
      "metadata": {
        "colab": {
          "base_uri": "https://localhost:8080/"
        },
        "id": "GDFkhvUiVySM",
        "outputId": "2be5d4c7-58b9-409a-c623-2d43ca03e510"
      },
      "execution_count": 51,
      "outputs": [
        {
          "output_type": "execute_result",
          "data": {
            "text/plain": [
              "1"
            ]
          },
          "metadata": {},
          "execution_count": 51
        }
      ]
    },
    {
      "cell_type": "code",
      "source": [
        "x_swim=['Not Learning How to Swim']\n",
        "x_swim = np.arange(len(x_swim))\n",
        "\n",
        "x_lack=['Lack of Supervision']\n",
        "x_lack = np.arange(len(x_lack))\n",
        "\n",
        "x_security =['Improper Security']\n",
        "x_security = np.arange(len(x_security))\n",
        "\n",
        "x_liquor =['Presence of Liquor']\n",
        "x_liquor = np.arange(len(x_liquor))\n",
        "\n",
        "x_safetyLines =['Incorrect Position of Floating Safety Lines']\n",
        "x_safetyLines = np.arange(len(x_safetyLines))\n",
        "\n",
        "x_faultyDes =['Faulty Design']\n",
        "x_faultyDes = np.arange(len(x_faultyDes))\n",
        "\n",
        "x_panic =['Panic']\n",
        "x_panic = np.arange(len(x_panic))\n",
        "\n",
        "x_slipped =['Slippery Slide/Floor']\n",
        "x_slipped = np.arange(len(x_slipped))\n",
        "\n",
        "x_jump =['Jumping']\n",
        "x_jump = np.arange(len(x_jump))\n",
        "\n",
        "plt.bar(x_swim + 1, swim_sum, 0.4, label='Not Learning How to Swim')\n",
        "plt.bar(x_lack + 1.5, lack_sum, 0.4, label='Lack of Supervision')\n",
        "plt.bar(x_security + 2, security_sum, 0.4, label='Improper Security')\n",
        "plt.bar(x_liquor + 2.5, liquor_sum, 0.4, label='Presence of Liquor')\n",
        "plt.bar(x_safetyLines + 3, safetyLines_sum, 0.4, label='Incorrect Position of Safety Lines')\n",
        "plt.bar(x_faultyDes + 3.5, faultyDes_sum, 0.4, label='Faulty Design')\n",
        "plt.bar(x_panic + 4, panic_sum, 0.4, label='Panic')\n",
        "plt.bar(x_slipped + 4.5, slipped_sum, 0.4, label='Slippery Slide/Floor')\n",
        "plt.bar(x_jump + 5, jump_sum, 0.4, label='Jumping')\n",
        "\n",
        "plt.xlabel('Probable Cause of Drowning')\n",
        "plt.ylabel('Count')\n",
        "\n",
        "fig = plt.gcf()\n",
        "fig.set_size_inches(15, 5)\n",
        "\n",
        "plt.xticks([])\n",
        "plt.legend()\n",
        "plt.savefig('Q5.png', dpi=300)\n",
        "plt.show()"
      ],
      "metadata": {
        "colab": {
          "base_uri": "https://localhost:8080/",
          "height": 320
        },
        "id": "yk6mdlUeW-ZV",
        "outputId": "d1e8e50a-cb39-48cc-dd90-89063d5b50bf"
      },
      "execution_count": 52,
      "outputs": [
        {
          "output_type": "display_data",
          "data": {
            "image/png": "[encoded data removed]",
            "text/plain": [
              "<Figure size 1080x360 with 1 Axes>"
            ]
          },
          "metadata": {
            "needs_background": "light"
          }
        }
      ]
    },
    {
      "cell_type": "markdown",
      "source": [
        ">**Insights:**\n",
        "<p align = Justify> The graph above shows the probable cause of drowning based on the survey respondents. Most of them answered improper security, Lack of Supervision and not learning how to swim, whereas the improper security could mean that there is no proper application of guidelines and no lifeguard to actually let the guests know what the rules are. </p>"
      ],
      "metadata": {
        "id": "14MK5KzdZigU"
      }
    },
    {
      "cell_type": "markdown",
      "source": [
        "## Q6: Are you aware of the resort's guidelines given by the management/resort?"
      ],
      "metadata": {
        "id": "iiBvIAkgZlfC"
      }
    },
    {
      "cell_type": "code",
      "source": [
        "response_DF['Q6'].value_counts()"
      ],
      "metadata": {
        "colab": {
          "base_uri": "https://localhost:8080/"
        },
        "id": "7eQgxh_sZrAt",
        "outputId": "c5eedde3-76c4-461c-89fa-45fc8fc5c675"
      },
      "execution_count": 53,
      "outputs": [
        {
          "output_type": "execute_result",
          "data": {
            "text/plain": [
              "Yes    78\n",
              "No     16\n",
              "Name: Q6, dtype: int64"
            ]
          },
          "metadata": {},
          "execution_count": 53
        }
      ]
    },
    {
      "cell_type": "code",
      "source": [
        "question_6 = response_DF.groupby('Q6')\n",
        "question_6.size().plot(kind='barh')\n",
        "\n",
        "plt.title('Question 6')\n",
        "plt.ylabel('Aware of the Guidelines Implementation')\n",
        "plt.savefig('Q6.png', dpi=300)"
      ],
      "metadata": {
        "colab": {
          "base_uri": "https://localhost:8080/",
          "height": 284
        },
        "id": "HH_NSkTZas26",
        "outputId": "23d845ce-b7b5-4774-d856-c12aa52ea00d"
      },
      "execution_count": 54,
      "outputs": [
        {
          "output_type": "display_data",
          "data": {
            "image/png": "[encoded data removed]",
            "text/plain": [
              "<Figure size 432x288 with 1 Axes>"
            ]
          },
          "metadata": {
            "needs_background": "light"
          }
        }
      ]
    },
    {
      "cell_type": "markdown",
      "source": [
        ">**Insights:**\n",
        "<p align = Justify> Majority of the respondents are aware that there are guidelines being implemented in the resort that they are going through and still there are quite a few who are not, meaning there are resorts that have poor implementations that could lead to accidents."
      ],
      "metadata": {
        "id": "6VPdQxYkchBs"
      }
    },
    {
      "cell_type": "markdown",
      "source": [
        "## Q7: If yes, what are the ways of resort's implementation?"
      ],
      "metadata": {
        "id": "kWgBy0hnckKk"
      }
    },
    {
      "cell_type": "code",
      "source": [
        "col_lifeguard = response_DF.Q7.str.replace('Lifeguard on duty', 'Lifeguard')\n",
        "col_lifeguard = response_DF.Q7.str.replace('Life guard', 'Lifeguard')\n",
        "response_DF['Q7'] = col_lifeguard"
      ],
      "metadata": {
        "id": "eN7iQV35dSps"
      },
      "execution_count": 56,
      "outputs": []
    },
    {
      "cell_type": "code",
      "source": [
        "response_DF['Q7'].value_counts()"
      ],
      "metadata": {
        "colab": {
          "base_uri": "https://localhost:8080/"
        },
        "id": "8yWegxTRcpLO",
        "outputId": "0f792b05-295f-4950-ab9b-7a9efe84f095"
      },
      "execution_count": 57,
      "outputs": [
        {
          "output_type": "execute_result",
          "data": {
            "text/plain": [
              "Posters                                                                       25\n",
              "Terms and Agreement, Posters                                                  16\n",
              "Terms and Agreement                                                           12\n",
              "Terms and Agreement, Pre-orientation, Posters                                 11\n",
              "Terms and Agreement, Pre-orientation                                           8\n",
              "Pre-orientation                                                                4\n",
              "Pre-orientation, Posters                                                       2\n",
              "Terms and Agreement, Posters, Lifeguard                                        1\n",
              "Terms and Agreement, Pre-orientation, Posters, Lifeguard, security cameras     1\n",
              "Name: Q7, dtype: int64"
            ]
          },
          "metadata": {},
          "execution_count": 57
        }
      ]
    },
    {
      "cell_type": "code",
      "source": [
        "poster_data = response_DF[(response_DF['Q7'] == 'Posters') | (response_DF['Q7'] == 'Terms and Agreement, Posters') | (response_DF['Q7'] == 'Terms and Agreement, Pre-orientation, Posters') | (response_DF['Q7'] == 'Pre-orientation, Posters') | (response_DF['Q7'] == 'Terms and Agreement, Posters, Lifeguard') | (response_DF['Q7'] == 'Terms and Agreement, Pre-orientation, Posters, Lifeguard, security cameras')]\n",
        "poster_data = poster_data['Q7'].value_counts()\n",
        "poster_sum = poster_data.sum()\n",
        "poster_sum"
      ],
      "metadata": {
        "colab": {
          "base_uri": "https://localhost:8080/"
        },
        "id": "sritUjp_cyD7",
        "outputId": "137f6f95-e98a-44e1-fa2c-bd2632ca2f54"
      },
      "execution_count": 58,
      "outputs": [
        {
          "output_type": "execute_result",
          "data": {
            "text/plain": [
              "56"
            ]
          },
          "metadata": {},
          "execution_count": 58
        }
      ]
    },
    {
      "cell_type": "code",
      "source": [
        "terms_data = response_DF[(response_DF['Q7'] == 'Terms and Agreement') | (response_DF['Q7'] == 'Terms and Agreement, Posters') | (response_DF['Q7'] == 'Terms and Agreement, Pre-orientation, Posters') | (response_DF['Q7'] == 'Terms and Agreement, Pre-orientation') | (response_DF['Q7'] == 'Terms and Agreement, Posters, Lifeguard') | (response_DF['Q7'] == 'Terms and Agreement, Pre-orientation, Posters, Lifeguard, security cameras')]\n",
        "terms_data = terms_data['Q7'].value_counts()\n",
        "terms_sum = terms_data.sum()\n",
        "terms_sum"
      ],
      "metadata": {
        "colab": {
          "base_uri": "https://localhost:8080/"
        },
        "id": "1do-Mv-QeCs7",
        "outputId": "2bfd8db3-f069-4eb6-cc3e-821de197cc6d"
      },
      "execution_count": 59,
      "outputs": [
        {
          "output_type": "execute_result",
          "data": {
            "text/plain": [
              "49"
            ]
          },
          "metadata": {},
          "execution_count": 59
        }
      ]
    },
    {
      "cell_type": "code",
      "source": [
        "orientation_data = response_DF[(response_DF['Q7'] == 'Pre-orientation') | (response_DF['Q7'] == 'Terms and Agreement, Pre-orientation, Posters') | (response_DF['Q7'] == 'Terms and Agreement, Pre-orientation') | (response_DF['Q7'] == 'Pre-orientation, Posters') | (response_DF['Q7'] == 'Terms and Agreement, Pre-orientation, Posters, Lifeguard, security cameras')]\n",
        "orientation_data = orientation_data['Q7'].value_counts()\n",
        "orientation_sum = orientation_data.sum()\n",
        "orientation_sum"
      ],
      "metadata": {
        "colab": {
          "base_uri": "https://localhost:8080/"
        },
        "id": "_FV4BkIgeuE6",
        "outputId": "fa062f23-24b7-43bc-a89b-62dcdd8da266"
      },
      "execution_count": 60,
      "outputs": [
        {
          "output_type": "execute_result",
          "data": {
            "text/plain": [
              "26"
            ]
          },
          "metadata": {},
          "execution_count": 60
        }
      ]
    },
    {
      "cell_type": "code",
      "source": [
        "lifeguard_data = response_DF[(response_DF['Q7'] == 'Lifeguard') | (response_DF['Q7'] == 'Terms and Agreement, Posters, Lifeguard') | (response_DF['Q7'] == 'Terms and Agreement, Pre-orientation, Posters, Lifeguard, security cameras')]\n",
        "lifeguard_data = lifeguard_data['Q7'].value_counts()\n",
        "lifeguard_sum = lifeguard_data.sum()\n",
        "lifeguard_sum"
      ],
      "metadata": {
        "colab": {
          "base_uri": "https://localhost:8080/"
        },
        "id": "PfMHZ6IneuCc",
        "outputId": "8095da22-ba77-4af4-ab28-e5e848b178c2"
      },
      "execution_count": 61,
      "outputs": [
        {
          "output_type": "execute_result",
          "data": {
            "text/plain": [
              "2"
            ]
          },
          "metadata": {},
          "execution_count": 61
        }
      ]
    },
    {
      "cell_type": "code",
      "source": [
        "cam_data = response_DF[(response_DF['Q7'] == 'security cameras') | (response_DF['Q7'] == 'Terms and Agreement, Pre-orientation, Posters, Lifeguard, security cameras')]\n",
        "cam_data = cam_data['Q7'].value_counts()\n",
        "cam_sum = cam_data.sum()\n",
        "cam_sum"
      ],
      "metadata": {
        "colab": {
          "base_uri": "https://localhost:8080/"
        },
        "id": "Udx_lcWHf54K",
        "outputId": "89d7528b-b33a-4ba2-fe48-dd790b3ca34b"
      },
      "execution_count": 62,
      "outputs": [
        {
          "output_type": "execute_result",
          "data": {
            "text/plain": [
              "1"
            ]
          },
          "metadata": {},
          "execution_count": 62
        }
      ]
    },
    {
      "cell_type": "code",
      "source": [
        "x_poster=['Posters']\n",
        "x_poster = np.arange(len(x_poster))\n",
        "\n",
        "x_terms=['Terms and Agreements']\n",
        "x_terms = np.arange(len(x_terms))\n",
        "\n",
        "x_orientation =['Pre-orientation']\n",
        "x_orientation = np.arange(len(x_orientation))\n",
        "\n",
        "x_lifeguard =['Lifeguard']\n",
        "x_lifeguard = np.arange(len(x_lifeguard))\n",
        "\n",
        "x_cam =['Security Cameras']\n",
        "x_cam = np.arange(len(x_cam))\n",
        "\n",
        "plt.bar(x_poster + 1, poster_sum, 0.4, label='Posters')\n",
        "plt.bar(x_terms + 1.5, terms_sum, 0.4, label='Terms and Agreements')\n",
        "plt.bar(x_orientation + 2, orientation_sum, 0.4, label='Pre-orientation')\n",
        "plt.bar(x_lifeguard + 2.5, lifeguard_sum, 0.4, label='Lifeguard')\n",
        "plt.bar(x_cam + 3, cam_sum, 0.4, label='Security Cameras')\n",
        "\n",
        "plt.xlabel('Implementation of Guidelines')\n",
        "plt.ylabel('Count')\n",
        "\n",
        "fig = plt.gcf()\n",
        "fig.set_size_inches(10, 5)\n",
        "\n",
        "plt.xticks([])\n",
        "plt.legend()\n",
        "plt.savefig('Q7.png', dpi=300)\n",
        "plt.show()"
      ],
      "metadata": {
        "id": "NxlR6gangzrP",
        "colab": {
          "base_uri": "https://localhost:8080/",
          "height": 320
        },
        "outputId": "c3c4c2c1-4ad8-41ec-e647-cee12082add0"
      },
      "execution_count": 64,
      "outputs": [
        {
          "output_type": "display_data",
          "data": {
            "image/png": "[encoded data removed]",
            "text/plain": [
              "<Figure size 720x360 with 1 Axes>"
            ]
          },
          "metadata": {
            "needs_background": "light"
          }
        }
      ]
    },
    {
      "cell_type": "markdown",
      "source": [
        ">**Insights:**\n",
        "<p align = Justify> Most of the respondents answered terms and agreements, poster, and pre orientation within the resort they have been through. There are only a few who answered lifeguards and Security Cameras which can be worrisome since some will only forget what they have been said or written on the terms. "
      ],
      "metadata": {
        "id": "-SWLK4oCiLV-"
      }
    },
    {
      "cell_type": "markdown",
      "source": [
        "## Q8: Which of the following actions did you take in case an accident of drowning occur?"
      ],
      "metadata": {
        "id": "wAS9WNRdiOlX"
      }
    },
    {
      "cell_type": "code",
      "source": [
        "col_shout = response_DF.Q8.str.replace('SHOUT FOR HELP', 'Shout for Help')\n",
        "response_DF['Q8'] = col_shout"
      ],
      "metadata": {
        "id": "KJ4VsMTZir82"
      },
      "execution_count": 65,
      "outputs": []
    },
    {
      "cell_type": "code",
      "source": [
        "response_DF['Q8'].value_counts()"
      ],
      "metadata": {
        "colab": {
          "base_uri": "https://localhost:8080/"
        },
        "id": "Vp4Wi9PYiSQv",
        "outputId": "08e76539-51a5-4aef-bedd-55ee3cbed9e5"
      },
      "execution_count": 66,
      "outputs": [
        {
          "output_type": "execute_result",
          "data": {
            "text/plain": [
              "Call the attention of the management    37\n",
              "Call medical attention                  29\n",
              "Perform emergency aid                   25\n",
              "Shout for Help                           1\n",
              "call the instructor                      1\n",
              "Go home                                  1\n",
              "Name: Q8, dtype: int64"
            ]
          },
          "metadata": {},
          "execution_count": 66
        }
      ]
    },
    {
      "cell_type": "code",
      "source": [
        "question_8 = response_DF.groupby('Q8')\n",
        "question_8.size().plot(kind='barh')\n",
        "\n",
        "plt.title('Question 8')\n",
        "plt.ylabel('Actions when Drowning')\n",
        "# plt.tight_layout()\n",
        "plt.savefig('Q8.png', dpi=300)"
      ],
      "metadata": {
        "colab": {
          "base_uri": "https://localhost:8080/",
          "height": 284
        },
        "id": "wk_IlsWwi8JO",
        "outputId": "a768884b-860c-466c-c601-416a8b6a89ef"
      },
      "execution_count": 68,
      "outputs": [
        {
          "output_type": "display_data",
          "data": {
            "image/png": "[encoded data removed]",
            "text/plain": [
              "<Figure size 432x288 with 1 Axes>"
            ]
          },
          "metadata": {
            "needs_background": "light"
          }
        }
      ]
    },
    {
      "cell_type": "markdown",
      "source": [
        ">**Insights:** \n",
        "<p align = Justify> The graph above shows what the respondents would do in case an accident like drowning would occur. Most of them would call the attention of the management, call medical attention, then perform emergency aid for those who are knowledgable and knows how to do so. </p>"
      ],
      "metadata": {
        "id": "UdkaFdpEjT4L"
      }
    },
    {
      "cell_type": "markdown",
      "source": [
        "## Q9: What are your expectations of the resort on handling such cases?"
      ],
      "metadata": {
        "id": "WvNbnk2GjXw8"
      }
    },
    {
      "cell_type": "code",
      "source": [
        "mapping_DF = pd.read_csv('Mapping.csv')\n",
        "mapping_DF"
      ],
      "metadata": {
        "colab": {
          "base_uri": "https://localhost:8080/",
          "height": 485
        },
        "id": "aXlJUoZbjbNn",
        "outputId": "5181975a-2466-4d86-af5b-435306017ff9"
      },
      "execution_count": 69,
      "outputs": [
        {
          "output_type": "execute_result",
          "data": {
            "text/html": [
              "\n",
              "  <div id=\"df-95f66b75-fad2-42b4-97e0-dc1f45c2c3a7\">\n",
              "    <div class=\"colab-df-container\">\n",
              "      <div>\n",
              "<style scoped>\n",
              "    .dataframe tbody tr th:only-of-type {\n",
              "        vertical-align: middle;\n",
              "    }\n",
              "\n",
              "    .dataframe tbody tr th {\n",
              "        vertical-align: top;\n",
              "    }\n",
              "\n",
              "    .dataframe thead th {\n",
              "        text-align: right;\n",
              "    }\n",
              "</style>\n",
              "<table border=\"1\" class=\"dataframe\">\n",
              "  <thead>\n",
              "    <tr style=\"text-align: right;\">\n",
              "      <th></th>\n",
              "      <th>0</th>\n",
              "      <th>Lifeguard</th>\n",
              "      <th>Medical Attention</th>\n",
              "      <th>Immediate Response</th>\n",
              "      <th>Safety Protocol</th>\n",
              "      <th>Be Alert</th>\n",
              "      <th>Legal Response</th>\n",
              "      <th>Improve Safety and Security</th>\n",
              "      <th>Proper Training</th>\n",
              "      <th>Expenses</th>\n",
              "      <th>Responsible</th>\n",
              "    </tr>\n",
              "  </thead>\n",
              "  <tbody>\n",
              "    <tr>\n",
              "      <th>0</th>\n",
              "      <td>1</td>\n",
              "      <td>1</td>\n",
              "      <td>1</td>\n",
              "      <td>0</td>\n",
              "      <td>0</td>\n",
              "      <td>0</td>\n",
              "      <td>0</td>\n",
              "      <td>0</td>\n",
              "      <td>0</td>\n",
              "      <td>0</td>\n",
              "      <td>0</td>\n",
              "    </tr>\n",
              "    <tr>\n",
              "      <th>1</th>\n",
              "      <td>2</td>\n",
              "      <td>0</td>\n",
              "      <td>0</td>\n",
              "      <td>1</td>\n",
              "      <td>0</td>\n",
              "      <td>0</td>\n",
              "      <td>0</td>\n",
              "      <td>0</td>\n",
              "      <td>0</td>\n",
              "      <td>0</td>\n",
              "      <td>0</td>\n",
              "    </tr>\n",
              "    <tr>\n",
              "      <th>2</th>\n",
              "      <td>3</td>\n",
              "      <td>1</td>\n",
              "      <td>0</td>\n",
              "      <td>1</td>\n",
              "      <td>0</td>\n",
              "      <td>0</td>\n",
              "      <td>0</td>\n",
              "      <td>0</td>\n",
              "      <td>0</td>\n",
              "      <td>0</td>\n",
              "      <td>0</td>\n",
              "    </tr>\n",
              "    <tr>\n",
              "      <th>3</th>\n",
              "      <td>4</td>\n",
              "      <td>0</td>\n",
              "      <td>0</td>\n",
              "      <td>0</td>\n",
              "      <td>1</td>\n",
              "      <td>0</td>\n",
              "      <td>0</td>\n",
              "      <td>0</td>\n",
              "      <td>0</td>\n",
              "      <td>0</td>\n",
              "      <td>0</td>\n",
              "    </tr>\n",
              "    <tr>\n",
              "      <th>4</th>\n",
              "      <td>5</td>\n",
              "      <td>0</td>\n",
              "      <td>0</td>\n",
              "      <td>1</td>\n",
              "      <td>1</td>\n",
              "      <td>0</td>\n",
              "      <td>0</td>\n",
              "      <td>0</td>\n",
              "      <td>0</td>\n",
              "      <td>0</td>\n",
              "      <td>0</td>\n",
              "    </tr>\n",
              "    <tr>\n",
              "      <th>...</th>\n",
              "      <td>...</td>\n",
              "      <td>...</td>\n",
              "      <td>...</td>\n",
              "      <td>...</td>\n",
              "      <td>...</td>\n",
              "      <td>...</td>\n",
              "      <td>...</td>\n",
              "      <td>...</td>\n",
              "      <td>...</td>\n",
              "      <td>...</td>\n",
              "      <td>...</td>\n",
              "    </tr>\n",
              "    <tr>\n",
              "      <th>85</th>\n",
              "      <td>86</td>\n",
              "      <td>0</td>\n",
              "      <td>0</td>\n",
              "      <td>0</td>\n",
              "      <td>0</td>\n",
              "      <td>1</td>\n",
              "      <td>0</td>\n",
              "      <td>1</td>\n",
              "      <td>0</td>\n",
              "      <td>0</td>\n",
              "      <td>0</td>\n",
              "    </tr>\n",
              "    <tr>\n",
              "      <th>86</th>\n",
              "      <td>87</td>\n",
              "      <td>0</td>\n",
              "      <td>1</td>\n",
              "      <td>0</td>\n",
              "      <td>0</td>\n",
              "      <td>0</td>\n",
              "      <td>0</td>\n",
              "      <td>0</td>\n",
              "      <td>0</td>\n",
              "      <td>0</td>\n",
              "      <td>0</td>\n",
              "    </tr>\n",
              "    <tr>\n",
              "      <th>87</th>\n",
              "      <td>88</td>\n",
              "      <td>0</td>\n",
              "      <td>0</td>\n",
              "      <td>1</td>\n",
              "      <td>0</td>\n",
              "      <td>0</td>\n",
              "      <td>0</td>\n",
              "      <td>0</td>\n",
              "      <td>0</td>\n",
              "      <td>0</td>\n",
              "      <td>0</td>\n",
              "    </tr>\n",
              "    <tr>\n",
              "      <th>88</th>\n",
              "      <td>89</td>\n",
              "      <td>0</td>\n",
              "      <td>1</td>\n",
              "      <td>0</td>\n",
              "      <td>0</td>\n",
              "      <td>0</td>\n",
              "      <td>0</td>\n",
              "      <td>0</td>\n",
              "      <td>0</td>\n",
              "      <td>0</td>\n",
              "      <td>0</td>\n",
              "    </tr>\n",
              "    <tr>\n",
              "      <th>89</th>\n",
              "      <td>90</td>\n",
              "      <td>0</td>\n",
              "      <td>0</td>\n",
              "      <td>0</td>\n",
              "      <td>0</td>\n",
              "      <td>0</td>\n",
              "      <td>0</td>\n",
              "      <td>0</td>\n",
              "      <td>1</td>\n",
              "      <td>0</td>\n",
              "      <td>0</td>\n",
              "    </tr>\n",
              "  </tbody>\n",
              "</table>\n",
              "<p>90 rows × 11 columns</p>\n",
              "</div>\n",
              "      <button class=\"colab-df-convert\" onclick=\"convertToInteractive('df-95f66b75-fad2-42b4-97e0-dc1f45c2c3a7')\"\n",
              "              title=\"Convert this dataframe to an interactive table.\"\n",
              "              style=\"display:none;\">\n",
              "        \n",
              "  <svg xmlns=\"http://www.w3.org/2000/svg\" height=\"24px\"viewBox=\"0 0 24 24\"\n",
              "       width=\"24px\">\n",
              "    <path d=\"M0 0h24v24H0V0z\" fill=\"none\"/>\n",
              "    <path d=\"M18.56 5.44l.94 2.06.94-2.06 2.06-.94-2.06-.94-.94-2.06-.94 2.06-2.06.94zm-11 1L8.5 8.5l.94-2.06 2.06-.94-2.06-.94L8.5 2.5l-.94 2.06-2.06.94zm10 10l.94 2.06.94-2.06 2.06-.94-2.06-.94-.94-2.06-.94 2.06-2.06.94z\"/><path d=\"M17.41 7.96l-1.37-1.37c-.4-.4-.92-.59-1.43-.59-.52 0-1.04.2-1.43.59L10.3 9.45l-7.72 7.72c-.78.78-.78 2.05 0 2.83L4 21.41c.39.39.9.59 1.41.59.51 0 1.02-.2 1.41-.59l7.78-7.78 2.81-2.81c.8-.78.8-2.07 0-2.86zM5.41 20L4 18.59l7.72-7.72 1.47 1.35L5.41 20z\"/>\n",
              "  </svg>\n",
              "      </button>\n",
              "      \n",
              "  <style>\n",
              "    .colab-df-container {\n",
              "      display:flex;\n",
              "      flex-wrap:wrap;\n",
              "      gap: 12px;\n",
              "    }\n",
              "\n",
              "    .colab-df-convert {\n",
              "      background-color: #E8F0FE;\n",
              "      border: none;\n",
              "      border-radius: 50%;\n",
              "      cursor: pointer;\n",
              "      display: none;\n",
              "      fill: #1967D2;\n",
              "      height: 32px;\n",
              "      padding: 0 0 0 0;\n",
              "      width: 32px;\n",
              "    }\n",
              "\n",
              "    .colab-df-convert:hover {\n",
              "      background-color: #E2EBFA;\n",
              "      box-shadow: 0px 1px 2px rgba(60, 64, 67, 0.3), 0px 1px 3px 1px rgba(60, 64, 67, 0.15);\n",
              "      fill: #174EA6;\n",
              "    }\n",
              "\n",
              "    [theme=dark] .colab-df-convert {\n",
              "      background-color: #3B4455;\n",
              "      fill: #D2E3FC;\n",
              "    }\n",
              "\n",
              "    [theme=dark] .colab-df-convert:hover {\n",
              "      background-color: #434B5C;\n",
              "      box-shadow: 0px 1px 3px 1px rgba(0, 0, 0, 0.15);\n",
              "      filter: drop-shadow(0px 1px 2px rgba(0, 0, 0, 0.3));\n",
              "      fill: #FFFFFF;\n",
              "    }\n",
              "  </style>\n",
              "\n",
              "      <script>\n",
              "        const buttonEl =\n",
              "          document.querySelector('#df-95f66b75-fad2-42b4-97e0-dc1f45c2c3a7 button.colab-df-convert');\n",
              "        buttonEl.style.display =\n",
              "          google.colab.kernel.accessAllowed ? 'block' : 'none';\n",
              "\n",
              "        async function convertToInteractive(key) {\n",
              "          const element = document.querySelector('#df-95f66b75-fad2-42b4-97e0-dc1f45c2c3a7');\n",
              "          const dataTable =\n",
              "            await google.colab.kernel.invokeFunction('convertToInteractive',\n",
              "                                                     [key], {});\n",
              "          if (!dataTable) return;\n",
              "\n",
              "          const docLinkHtml = 'Like what you see? Visit the ' +\n",
              "            '<a target=\"_blank\" href=https://colab.research.google.com/notebooks/data_table.ipynb>data table notebook</a>'\n",
              "            + ' to learn more about interactive tables.';\n",
              "          element.innerHTML = '';\n",
              "          dataTable['output_type'] = 'display_data';\n",
              "          await google.colab.output.renderOutput(dataTable, element);\n",
              "          const docLink = document.createElement('div');\n",
              "          docLink.innerHTML = docLinkHtml;\n",
              "          element.appendChild(docLink);\n",
              "        }\n",
              "      </script>\n",
              "    </div>\n",
              "  </div>\n",
              "  "
            ],
            "text/plain": [
              "     0  Lifeguard  Medical Attention  Immediate Response  Safety Protocol  \\\n",
              "0    1          1                  1                   0                0   \n",
              "1    2          0                  0                   1                0   \n",
              "2    3          1                  0                   1                0   \n",
              "3    4          0                  0                   0                1   \n",
              "4    5          0                  0                   1                1   \n",
              "..  ..        ...                ...                 ...              ...   \n",
              "85  86          0                  0                   0                0   \n",
              "86  87          0                  1                   0                0   \n",
              "87  88          0                  0                   1                0   \n",
              "88  89          0                  1                   0                0   \n",
              "89  90          0                  0                   0                0   \n",
              "\n",
              "    Be Alert  Legal Response  Improve Safety and Security  Proper Training  \\\n",
              "0          0               0                            0                0   \n",
              "1          0               0                            0                0   \n",
              "2          0               0                            0                0   \n",
              "3          0               0                            0                0   \n",
              "4          0               0                            0                0   \n",
              "..       ...             ...                          ...              ...   \n",
              "85         1               0                            1                0   \n",
              "86         0               0                            0                0   \n",
              "87         0               0                            0                0   \n",
              "88         0               0                            0                0   \n",
              "89         0               0                            0                1   \n",
              "\n",
              "    Expenses  Responsible  \n",
              "0          0            0  \n",
              "1          0            0  \n",
              "2          0            0  \n",
              "3          0            0  \n",
              "4          0            0  \n",
              "..       ...          ...  \n",
              "85         0            0  \n",
              "86         0            0  \n",
              "87         0            0  \n",
              "88         0            0  \n",
              "89         0            0  \n",
              "\n",
              "[90 rows x 11 columns]"
            ]
          },
          "metadata": {},
          "execution_count": 69
        }
      ]
    },
    {
      "cell_type": "code",
      "source": [
        "question_9 = mapping_DF.rename(columns = {'Lifeguard':'LG',\n",
        "                          'Medical Attention':'MA',\n",
        "                          'Immediate Response':'IR',\n",
        "                          'Safety Protocol':'SP',\n",
        "                          'Be Alert':'BA',\n",
        "                          'Legal Response':'LR',\n",
        "                          'Improve Safety and Security':'ISS',\n",
        "                          'Proper Training':'PT',\n",
        "                          'Expenses':'EX',\n",
        "                          'Responsible':'RS'})"
      ],
      "metadata": {
        "id": "m_wNbXS4jpwg"
      },
      "execution_count": 70,
      "outputs": []
    },
    {
      "cell_type": "code",
      "source": [
        "Q9_DF = question_9.drop(['0'],axis=1)"
      ],
      "metadata": {
        "id": "1UMZfuFDkgFP"
      },
      "execution_count": 71,
      "outputs": []
    },
    {
      "cell_type": "code",
      "source": [
        "question_9_col = ['IR','MA',\t'SP',\t'ISS','LG','RS','BA','PT','EX','LR']\n",
        "Q9_sum = Q9_DF[question_9_col].sum()\n",
        "Q9_sum"
      ],
      "metadata": {
        "colab": {
          "base_uri": "https://localhost:8080/"
        },
        "id": "N_QnDhRjkeKL",
        "outputId": "f2aa8836-c474-414c-ff47-058e8e3b4c04"
      },
      "execution_count": 72,
      "outputs": [
        {
          "output_type": "execute_result",
          "data": {
            "text/plain": [
              "IR     40\n",
              "MA     25\n",
              "SP     12\n",
              "ISS    12\n",
              "LG     10\n",
              "RS     10\n",
              "BA      7\n",
              "PT      7\n",
              "EX      4\n",
              "LR      2\n",
              "dtype: int64"
            ]
          },
          "metadata": {},
          "execution_count": 72
        }
      ]
    },
    {
      "cell_type": "code",
      "source": [
        "x_LG=['Lifeguard']\n",
        "x_LG = np.arange(len(x_LG))\n",
        "\n",
        "x_MA=['Medical Attention']\n",
        "x_MA = np.arange(len(x_MA))\n",
        "\n",
        "x_IR =['Immediate Response']\n",
        "x_IR = np.arange(len(x_IR))\n",
        "\n",
        "x_SP =['Safety Protocol']\n",
        "x_SP= np.arange(len(x_SP))\n",
        "\n",
        "x_BA =['Be Alert']\n",
        "x_BA = np.arange(len(x_BA))\n",
        "\n",
        "x_LR =['Legal Response']\n",
        "x_LR = np.arange(len(x_LR))\n",
        "\n",
        "x_ISS =['Improved Safety and Security']\n",
        "x_ISS = np.arange(len(x_ISS))\n",
        "\n",
        "x_PT =['Proper Training']\n",
        "x_PT = np.arange(len(x_PT))\n",
        "\n",
        "x_EX =['Expenses']\n",
        "x_EX = np.arange(len(x_EX))\n",
        "\n",
        "x_RS =['Responsible']\n",
        "x_RS = np.arange(len(x_RS))\n",
        "\n",
        "plt.bar(x_LG + 1, Q9_sum['LG'], 0.4, label='Lifeguard')\n",
        "plt.bar(x_MA + 1.5, Q9_sum['MA'], 0.4, label='Medical Attention')\n",
        "plt.bar(x_IR + 2, Q9_sum['IR'], 0.4, label='Immediate Response')\n",
        "plt.bar(x_SP + 2.5, Q9_sum['SP'], 0.4, label='Safety Protocol')\n",
        "plt.bar(x_BA + 3, Q9_sum['BA'], 0.4, label='Be Alert')\n",
        "plt.bar(x_LR + 3.5, Q9_sum['LR'], 0.4, label='Legal Response')\n",
        "plt.bar(x_ISS + 4, Q9_sum['ISS'], 0.4, label='Improved Safety and Security')\n",
        "plt.bar(x_PT + 4.5, Q9_sum['PT'], 0.4, label='Proper Training')\n",
        "plt.bar(x_EX + 5, Q9_sum['EX'], 0.4, label='Expenses')\n",
        "plt.bar(x_RS + 5.5, Q9_sum['LG'], 0.4, label='Responsible')\n",
        "\n",
        "plt.xlabel('Expectations of Customers to the Resort on Handling Drowning Cases')\n",
        "plt.ylabel('Count')\n",
        "\n",
        "fig = plt.gcf()\n",
        "fig.set_size_inches(10, 5)\n",
        "\n",
        "plt.xticks([])\n",
        "plt.legend()\n",
        "plt.savefig('Q9.png', dpi=300)\n",
        "plt.show()"
      ],
      "metadata": {
        "colab": {
          "base_uri": "https://localhost:8080/",
          "height": 320
        },
        "id": "O-iEy3hLkoav",
        "outputId": "8f56f507-53de-4985-b190-6897082ec16f"
      },
      "execution_count": 73,
      "outputs": [
        {
          "output_type": "display_data",
          "data": {
            "image/png": "[encoded data removed]",
            "text/plain": [
              "<Figure size 720x360 with 1 Axes>"
            ]
          },
          "metadata": {
            "needs_background": "light"
          }
        }
      ]
    },
    {
      "cell_type": "markdown",
      "source": [
        ">**Insights:**\n",
        "<p align = Justify> Similar to the question before hand but this time its on the side of the resort. The respondents wanted an immediate response, medical attention, a lifeguard, and improved safety and security from the resort for they believe that this will lessen serious accidents and even death."
      ],
      "metadata": {
        "id": "iwv42Hkknu1_"
      }
    },
    {
      "cell_type": "markdown",
      "source": [
        "## Q10: Rate from 1 to 5, with 5 as the highest and 1 being the lowest, your disciplinary action towards the safety measures provided by the resort"
      ],
      "metadata": {
        "id": "jlROKiupnyOr"
      }
    },
    {
      "cell_type": "code",
      "source": [
        "response_DF['Q10'].value_counts()"
      ],
      "metadata": {
        "colab": {
          "base_uri": "https://localhost:8080/"
        },
        "id": "IAgPWL6Yn3xp",
        "outputId": "b57fe3c6-c0a6-4dcf-cccd-27bffcd9e12c"
      },
      "execution_count": null,
      "outputs": [
        {
          "output_type": "execute_result",
          "data": {
            "text/plain": [
              "4    44\n",
              "5    27\n",
              "3    23\n",
              "Name: Q10, dtype: int64"
            ]
          },
          "metadata": {},
          "execution_count": 79
        }
      ]
    },
    {
      "cell_type": "code",
      "source": [
        "sns.distplot(response_DF['Q10'])\n",
        "\n",
        "plt.title('Disciplinary Action Rating')\n",
        "plt.xlabel('Scale')\n",
        "plt.savefig('Q10.png', dpi=300)"
      ],
      "metadata": {
        "colab": {
          "base_uri": "https://localhost:8080/",
          "height": 356
        },
        "id": "f7BTC6gmn7xJ",
        "outputId": "0909b25d-452a-4db2-cfc7-e58f6bf56f17"
      },
      "execution_count": 74,
      "outputs": [
        {
          "output_type": "stream",
          "name": "stderr",
          "text": [
            "/usr/local/lib/python3.7/dist-packages/seaborn/distributions.py:2619: FutureWarning: `distplot` is a deprecated function and will be removed in a future version. Please adapt your code to use either `displot` (a figure-level function with similar flexibility) or `histplot` (an axes-level function for histograms).\n",
            "  warnings.warn(msg, FutureWarning)\n"
          ]
        },
        {
          "output_type": "display_data",
          "data": {
            "image/png": "[encoded data removed]",
            "text/plain": [
              "<Figure size 432x288 with 1 Axes>"
            ]
          },
          "metadata": {
            "needs_background": "light"
          }
        }
      ]
    },
    {
      "cell_type": "markdown",
      "source": [
        ">**Insights:** \n",
        "\n",
        "The graph presents that most of the respondents answer that their disciplinary action towards the safety measures provided by the resort relies on 4, followed by those who answered 5, and 3. These responses may be affected by several factors such as the location, amenities, and personal circumstances."
      ],
      "metadata": {
        "id": "9sfkYjiZn_m6"
      }
    },
    {
      "cell_type": "markdown",
      "source": [
        "## Q11: From 1 to 5, with 1 as the lowest and 5 as the highest. Rate the effectivity of the resort's implementation of their guidelines"
      ],
      "metadata": {
        "id": "nQkVaOXtoCFK"
      }
    },
    {
      "cell_type": "code",
      "source": [
        "response_DF['Q11'].value_counts()"
      ],
      "metadata": {
        "colab": {
          "base_uri": "https://localhost:8080/"
        },
        "id": "6SUicDAdoFZU",
        "outputId": "7a8fe49a-470f-4613-fa83-b05d606f0a41"
      },
      "execution_count": null,
      "outputs": [
        {
          "output_type": "execute_result",
          "data": {
            "text/plain": [
              "4    43\n",
              "3    33\n",
              "5    16\n",
              "2     2\n",
              "Name: Q11, dtype: int64"
            ]
          },
          "metadata": {},
          "execution_count": 81
        }
      ]
    },
    {
      "cell_type": "code",
      "source": [
        "sns.distplot(response_DF['Q11'])\n",
        "\n",
        "plt.title('Effectivity of Implementation of Guidelines')\n",
        "plt.xlabel('Scale')\n",
        "plt.savefig('Q11.png', dpi=300)"
      ],
      "metadata": {
        "colab": {
          "base_uri": "https://localhost:8080/",
          "height": 356
        },
        "id": "XopUPOaSoo-F",
        "outputId": "4da56159-c455-42a2-936c-cdd1cf7350e5"
      },
      "execution_count": 75,
      "outputs": [
        {
          "output_type": "stream",
          "name": "stderr",
          "text": [
            "/usr/local/lib/python3.7/dist-packages/seaborn/distributions.py:2619: FutureWarning: `distplot` is a deprecated function and will be removed in a future version. Please adapt your code to use either `displot` (a figure-level function with similar flexibility) or `histplot` (an axes-level function for histograms).\n",
            "  warnings.warn(msg, FutureWarning)\n"
          ]
        },
        {
          "output_type": "display_data",
          "data": {
            "image/png": "[encoded data removed]",
            "text/plain": [
              "<Figure size 432x288 with 1 Axes>"
            ]
          },
          "metadata": {
            "needs_background": "light"
          }
        }
      ]
    },
    {
      "cell_type": "markdown",
      "source": [
        ">**Insights:**\n",
        "\n",
        "The graph presents that the effectiveness of the resort's implementation of their guidelines based on the customers is rated with 4, followed by ratings of 3, 5, and 2. These responses depict that most of the customers consider that the resort's implementation of guidelines can still be improved to further carry out the protocols, especially in terms of safety and security."
      ],
      "metadata": {
        "id": "SoMlWGD0otQK"
      }
    }
  ]
}